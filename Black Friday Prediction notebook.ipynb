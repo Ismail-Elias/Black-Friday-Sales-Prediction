{
 "cells": [
  {
   "cell_type": "markdown",
   "metadata": {
    "id": "np-aqRrQ6nZU"
   },
   "source": [
    "**Group Members**\n",
    "*   Ismail\n",
    "*   Zarif\n",
    "*   Kartina\n",
    "*   Nur Fatini\n"
   ]
  },
  {
   "cell_type": "markdown",
   "metadata": {
    "id": "vD6mwO-Yc73A"
   },
   "source": [
    "# **Business Understanding**"
   ]
  },
  {
   "cell_type": "markdown",
   "metadata": {
    "id": "KPgZgOy-buH5"
   },
   "source": [
    "Objective\n",
    "\n",
    "The dataset here is a sample of the transactions made in a retail store. The store wants to know better the customer purchase behaviour against different products."
   ]
  },
  {
   "cell_type": "markdown",
   "metadata": {
    "id": "Z-vN2elbDEkt"
   },
   "source": [
    "Data Overview\n",
    "\n",
    "Dataset has 537577 rows (transactions) and 12 columns (features) as described below:\n",
    "\n",
    "User_ID: Unique ID of the user. There are a total of 5891 users in the dataset.\n",
    "\n",
    "Product_ID: Unique ID of the product. There are a total of 3623 products in the dataset.\n",
    "\n",
    "Gender: indicates the gender of the person making the transaction.\n",
    "\n",
    "Age: indicates the age group of the person making the transaction.\n",
    "\n",
    "Occupation: shows the occupation of the user, already labeled with numbers 0 to 20.\n",
    "\n",
    "City_Category: User's living city category. Cities are categorized into 3 different categories 'A', 'B' and 'C'.\n",
    "\n",
    "Stay_In_Current_City_Years: Indicates how long the users has lived in this city.\n",
    "\n",
    "Marital_Status: is 0 if the user is not married and 1 otherwise.\n",
    "\n",
    "Product_Category_1 to _3: Category of the product. All 3 are already labaled with numbers.\n",
    "\n",
    "Purchase: Purchase amount."
   ]
  },
  {
   "cell_type": "markdown",
   "metadata": {
    "id": "dRC0DJ1DctHk"
   },
   "source": [
    "# **Data Understanding**"
   ]
  },
  {
   "cell_type": "markdown",
   "metadata": {
    "id": "PpbvkYf5oONQ"
   },
   "source": [
    "### **Importing Library**"
   ]
  },
  {
   "cell_type": "code",
   "execution_count": 3,
   "metadata": {
    "executionInfo": {
     "elapsed": 969,
     "status": "ok",
     "timestamp": 1674221518243,
     "user": {
      "displayName": "Muhammaf zarif iqram Mat Rozali",
      "userId": "03892399400558550753"
     },
     "user_tz": -480
    },
    "id": "cjpP8RHa3AOr"
   },
   "outputs": [],
   "source": [
    "# manipulation data\n",
    "import pandas as pd\n",
    "import numpy as np\n",
    "\n",
    "#visualiation data\n",
    "import matplotlib.pyplot as plt\n",
    "import seaborn as sns \n",
    "import matplotlib\n",
    "import plotly.graph_objects as go\n",
    "import plotly.express as px\n",
    "from plotly.subplots import make_subplots\n",
    "from plotly.offline import init_notebook_mode, iplot\n",
    "\n",
    "#Split data for train and test\n",
    "from sklearn.model_selection import train_test_split\n",
    "\n",
    "#default theme\n",
    "plt.style.use('ggplot')\n",
    "sns.set(context='notebook', style='darkgrid', palette='colorblind', font='sans-serif', font_scale=1, rc=None)\n",
    "matplotlib.rcParams['figure.figsize'] =[8,8]\n",
    "matplotlib.rcParams.update({'font.size': 15})\n",
    "matplotlib.rcParams['font.family'] = 'sans-serif'"
   ]
  },
  {
   "cell_type": "code",
   "execution_count": null,
   "metadata": {
    "colab": {
     "background_save": true
    },
    "id": "wGv59rKu0WPB",
    "outputId": "448ca82a-390d-4d82-ec57-00701d708a6e"
   },
   "outputs": [
    {
     "name": "stdout",
     "output_type": "stream",
     "text": [
      "Looking in indexes: https://pypi.org/simple, https://us-python.pkg.dev/colab-wheels/public/simple/\n",
      "Collecting pyspark\n",
      "  Downloading pyspark-3.3.1.tar.gz (281.4 MB)\n",
      "\u001b[2K     \u001b[90m━━━━━━━━━━━━━━━━━━━━━━━━━━━━━━━━━━━━━━━\u001b[0m \u001b[32m281.4/281.4 MB\u001b[0m \u001b[31m4.7 MB/s\u001b[0m eta \u001b[36m0:00:00\u001b[0m\n",
      "\u001b[?25h  Preparing metadata (setup.py) ... \u001b[?25l\u001b[?25hdone\n",
      "Collecting py4j==0.10.9.5\n",
      "  Downloading py4j-0.10.9.5-py2.py3-none-any.whl (199 kB)\n",
      "\u001b[2K     \u001b[90m━━━━━━━━━━━━━━━━━━━━━━━━━━━━━━━━━━━━━━\u001b[0m \u001b[32m199.7/199.7 KB\u001b[0m \u001b[31m15.3 MB/s\u001b[0m eta \u001b[36m0:00:00\u001b[0m\n",
      "\u001b[?25hBuilding wheels for collected packages: pyspark\n",
      "  Building wheel for pyspark (setup.py) ... \u001b[?25l\u001b[?25hdone\n",
      "  Created wheel for pyspark: filename=pyspark-3.3.1-py2.py3-none-any.whl size=281845512 sha256=59f3b5f14c9371e059d98c18dd04816f5085e18505e356f1537830f6682d4aa7\n",
      "  Stored in directory: /root/.cache/pip/wheels/43/dc/11/ec201cd671da62fa9c5cc77078235e40722170ceba231d7598\n",
      "Successfully built pyspark\n",
      "Installing collected packages: py4j, pyspark\n",
      "Successfully installed py4j-0.10.9.5 pyspark-3.3.1\n"
     ]
    }
   ],
   "source": [
    "# !pip install pyspark"
   ]
  },
  {
   "cell_type": "markdown",
   "metadata": {
    "id": "EVpzBzf1oZca"
   },
   "source": [
    "## **Importing Data**"
   ]
  },
  {
   "cell_type": "code",
   "execution_count": 4,
   "metadata": {
    "colab": {
     "base_uri": "https://localhost:8080/",
     "height": 72
    },
    "executionInfo": {
     "elapsed": 347320,
     "status": "ok",
     "timestamp": 1674221870315,
     "user": {
      "displayName": "Muhammaf zarif iqram Mat Rozali",
      "userId": "03892399400558550753"
     },
     "user_tz": -480
    },
    "id": "edpeFGH0pLUR",
    "outputId": "97c76b68-2463-4430-dbdb-3255ae478482"
   },
   "outputs": [
    {
     "data": {
      "text/html": [
       "\n",
       "     <input type=\"file\" id=\"files-d85506bb-c7d3-43e1-8465-5f33d62ed6de\" name=\"files[]\" multiple disabled\n",
       "        style=\"border:none\" />\n",
       "     <output id=\"result-d85506bb-c7d3-43e1-8465-5f33d62ed6de\">\n",
       "      Upload widget is only available when the cell has been executed in the\n",
       "      current browser session. Please rerun this cell to enable.\n",
       "      </output>\n",
       "      <script>// Copyright 2017 Google LLC\n",
       "//\n",
       "// Licensed under the Apache License, Version 2.0 (the \"License\");\n",
       "// you may not use this file except in compliance with the License.\n",
       "// You may obtain a copy of the License at\n",
       "//\n",
       "//      http://www.apache.org/licenses/LICENSE-2.0\n",
       "//\n",
       "// Unless required by applicable law or agreed to in writing, software\n",
       "// distributed under the License is distributed on an \"AS IS\" BASIS,\n",
       "// WITHOUT WARRANTIES OR CONDITIONS OF ANY KIND, either express or implied.\n",
       "// See the License for the specific language governing permissions and\n",
       "// limitations under the License.\n",
       "\n",
       "/**\n",
       " * @fileoverview Helpers for google.colab Python module.\n",
       " */\n",
       "(function(scope) {\n",
       "function span(text, styleAttributes = {}) {\n",
       "  const element = document.createElement('span');\n",
       "  element.textContent = text;\n",
       "  for (const key of Object.keys(styleAttributes)) {\n",
       "    element.style[key] = styleAttributes[key];\n",
       "  }\n",
       "  return element;\n",
       "}\n",
       "\n",
       "// Max number of bytes which will be uploaded at a time.\n",
       "const MAX_PAYLOAD_SIZE = 100 * 1024;\n",
       "\n",
       "function _uploadFiles(inputId, outputId) {\n",
       "  const steps = uploadFilesStep(inputId, outputId);\n",
       "  const outputElement = document.getElementById(outputId);\n",
       "  // Cache steps on the outputElement to make it available for the next call\n",
       "  // to uploadFilesContinue from Python.\n",
       "  outputElement.steps = steps;\n",
       "\n",
       "  return _uploadFilesContinue(outputId);\n",
       "}\n",
       "\n",
       "// This is roughly an async generator (not supported in the browser yet),\n",
       "// where there are multiple asynchronous steps and the Python side is going\n",
       "// to poll for completion of each step.\n",
       "// This uses a Promise to block the python side on completion of each step,\n",
       "// then passes the result of the previous step as the input to the next step.\n",
       "function _uploadFilesContinue(outputId) {\n",
       "  const outputElement = document.getElementById(outputId);\n",
       "  const steps = outputElement.steps;\n",
       "\n",
       "  const next = steps.next(outputElement.lastPromiseValue);\n",
       "  return Promise.resolve(next.value.promise).then((value) => {\n",
       "    // Cache the last promise value to make it available to the next\n",
       "    // step of the generator.\n",
       "    outputElement.lastPromiseValue = value;\n",
       "    return next.value.response;\n",
       "  });\n",
       "}\n",
       "\n",
       "/**\n",
       " * Generator function which is called between each async step of the upload\n",
       " * process.\n",
       " * @param {string} inputId Element ID of the input file picker element.\n",
       " * @param {string} outputId Element ID of the output display.\n",
       " * @return {!Iterable<!Object>} Iterable of next steps.\n",
       " */\n",
       "function* uploadFilesStep(inputId, outputId) {\n",
       "  const inputElement = document.getElementById(inputId);\n",
       "  inputElement.disabled = false;\n",
       "\n",
       "  const outputElement = document.getElementById(outputId);\n",
       "  outputElement.innerHTML = '';\n",
       "\n",
       "  const pickedPromise = new Promise((resolve) => {\n",
       "    inputElement.addEventListener('change', (e) => {\n",
       "      resolve(e.target.files);\n",
       "    });\n",
       "  });\n",
       "\n",
       "  const cancel = document.createElement('button');\n",
       "  inputElement.parentElement.appendChild(cancel);\n",
       "  cancel.textContent = 'Cancel upload';\n",
       "  const cancelPromise = new Promise((resolve) => {\n",
       "    cancel.onclick = () => {\n",
       "      resolve(null);\n",
       "    };\n",
       "  });\n",
       "\n",
       "  // Wait for the user to pick the files.\n",
       "  const files = yield {\n",
       "    promise: Promise.race([pickedPromise, cancelPromise]),\n",
       "    response: {\n",
       "      action: 'starting',\n",
       "    }\n",
       "  };\n",
       "\n",
       "  cancel.remove();\n",
       "\n",
       "  // Disable the input element since further picks are not allowed.\n",
       "  inputElement.disabled = true;\n",
       "\n",
       "  if (!files) {\n",
       "    return {\n",
       "      response: {\n",
       "        action: 'complete',\n",
       "      }\n",
       "    };\n",
       "  }\n",
       "\n",
       "  for (const file of files) {\n",
       "    const li = document.createElement('li');\n",
       "    li.append(span(file.name, {fontWeight: 'bold'}));\n",
       "    li.append(span(\n",
       "        `(${file.type || 'n/a'}) - ${file.size} bytes, ` +\n",
       "        `last modified: ${\n",
       "            file.lastModifiedDate ? file.lastModifiedDate.toLocaleDateString() :\n",
       "                                    'n/a'} - `));\n",
       "    const percent = span('0% done');\n",
       "    li.appendChild(percent);\n",
       "\n",
       "    outputElement.appendChild(li);\n",
       "\n",
       "    const fileDataPromise = new Promise((resolve) => {\n",
       "      const reader = new FileReader();\n",
       "      reader.onload = (e) => {\n",
       "        resolve(e.target.result);\n",
       "      };\n",
       "      reader.readAsArrayBuffer(file);\n",
       "    });\n",
       "    // Wait for the data to be ready.\n",
       "    let fileData = yield {\n",
       "      promise: fileDataPromise,\n",
       "      response: {\n",
       "        action: 'continue',\n",
       "      }\n",
       "    };\n",
       "\n",
       "    // Use a chunked sending to avoid message size limits. See b/62115660.\n",
       "    let position = 0;\n",
       "    do {\n",
       "      const length = Math.min(fileData.byteLength - position, MAX_PAYLOAD_SIZE);\n",
       "      const chunk = new Uint8Array(fileData, position, length);\n",
       "      position += length;\n",
       "\n",
       "      const base64 = btoa(String.fromCharCode.apply(null, chunk));\n",
       "      yield {\n",
       "        response: {\n",
       "          action: 'append',\n",
       "          file: file.name,\n",
       "          data: base64,\n",
       "        },\n",
       "      };\n",
       "\n",
       "      let percentDone = fileData.byteLength === 0 ?\n",
       "          100 :\n",
       "          Math.round((position / fileData.byteLength) * 100);\n",
       "      percent.textContent = `${percentDone}% done`;\n",
       "\n",
       "    } while (position < fileData.byteLength);\n",
       "  }\n",
       "\n",
       "  // All done.\n",
       "  yield {\n",
       "    response: {\n",
       "      action: 'complete',\n",
       "    }\n",
       "  };\n",
       "}\n",
       "\n",
       "scope.google = scope.google || {};\n",
       "scope.google.colab = scope.google.colab || {};\n",
       "scope.google.colab._files = {\n",
       "  _uploadFiles,\n",
       "  _uploadFilesContinue,\n",
       "};\n",
       "})(self);\n",
       "</script> "
      ],
      "text/plain": [
       "<IPython.core.display.HTML object>"
      ]
     },
     "metadata": {},
     "output_type": "display_data"
    },
    {
     "name": "stdout",
     "output_type": "stream",
     "text": [
      "Saving train.csv to train.csv\n"
     ]
    }
   ],
   "source": [
    "from google.colab import files\n",
    "upload = files.upload()"
   ]
  },
  {
   "cell_type": "code",
   "execution_count": 5,
   "metadata": {
    "colab": {
     "base_uri": "https://localhost:8080/",
     "height": 363
    },
    "executionInfo": {
     "elapsed": 964,
     "status": "ok",
     "timestamp": 1674221874279,
     "user": {
      "displayName": "Muhammaf zarif iqram Mat Rozali",
      "userId": "03892399400558550753"
     },
     "user_tz": -480
    },
    "id": "_CSGuT9Reowy",
    "outputId": "d78f7f94-bf1f-40a3-8397-aad461467ffa"
   },
   "outputs": [
    {
     "data": {
      "text/html": [
       "\n",
       "  <div id=\"df-67447e5c-c30c-4cc2-9c89-045c9a1a3ece\">\n",
       "    <div class=\"colab-df-container\">\n",
       "      <div>\n",
       "<style scoped>\n",
       "    .dataframe tbody tr th:only-of-type {\n",
       "        vertical-align: middle;\n",
       "    }\n",
       "\n",
       "    .dataframe tbody tr th {\n",
       "        vertical-align: top;\n",
       "    }\n",
       "\n",
       "    .dataframe thead th {\n",
       "        text-align: right;\n",
       "    }\n",
       "</style>\n",
       "<table border=\"1\" class=\"dataframe\">\n",
       "  <thead>\n",
       "    <tr style=\"text-align: right;\">\n",
       "      <th></th>\n",
       "      <th>User_ID</th>\n",
       "      <th>Product_ID</th>\n",
       "      <th>Gender</th>\n",
       "      <th>Age</th>\n",
       "      <th>Occupation</th>\n",
       "      <th>City_Category</th>\n",
       "      <th>Stay_In_Current_City_Years</th>\n",
       "      <th>Marital_Status</th>\n",
       "      <th>Product_Category_1</th>\n",
       "      <th>Product_Category_2</th>\n",
       "      <th>Product_Category_3</th>\n",
       "      <th>Purchase</th>\n",
       "    </tr>\n",
       "  </thead>\n",
       "  <tbody>\n",
       "    <tr>\n",
       "      <th>0</th>\n",
       "      <td>1000001</td>\n",
       "      <td>P00069042</td>\n",
       "      <td>F</td>\n",
       "      <td>0-17</td>\n",
       "      <td>10</td>\n",
       "      <td>A</td>\n",
       "      <td>2</td>\n",
       "      <td>0</td>\n",
       "      <td>3</td>\n",
       "      <td>NaN</td>\n",
       "      <td>NaN</td>\n",
       "      <td>8370</td>\n",
       "    </tr>\n",
       "    <tr>\n",
       "      <th>1</th>\n",
       "      <td>1000001</td>\n",
       "      <td>P00248942</td>\n",
       "      <td>F</td>\n",
       "      <td>0-17</td>\n",
       "      <td>10</td>\n",
       "      <td>A</td>\n",
       "      <td>2</td>\n",
       "      <td>0</td>\n",
       "      <td>1</td>\n",
       "      <td>6.0</td>\n",
       "      <td>14.0</td>\n",
       "      <td>15200</td>\n",
       "    </tr>\n",
       "    <tr>\n",
       "      <th>2</th>\n",
       "      <td>1000001</td>\n",
       "      <td>P00087842</td>\n",
       "      <td>F</td>\n",
       "      <td>0-17</td>\n",
       "      <td>10</td>\n",
       "      <td>A</td>\n",
       "      <td>2</td>\n",
       "      <td>0</td>\n",
       "      <td>12</td>\n",
       "      <td>NaN</td>\n",
       "      <td>NaN</td>\n",
       "      <td>1422</td>\n",
       "    </tr>\n",
       "    <tr>\n",
       "      <th>3</th>\n",
       "      <td>1000001</td>\n",
       "      <td>P00085442</td>\n",
       "      <td>F</td>\n",
       "      <td>0-17</td>\n",
       "      <td>10</td>\n",
       "      <td>A</td>\n",
       "      <td>2</td>\n",
       "      <td>0</td>\n",
       "      <td>12</td>\n",
       "      <td>14.0</td>\n",
       "      <td>NaN</td>\n",
       "      <td>1057</td>\n",
       "    </tr>\n",
       "    <tr>\n",
       "      <th>4</th>\n",
       "      <td>1000002</td>\n",
       "      <td>P00285442</td>\n",
       "      <td>M</td>\n",
       "      <td>55+</td>\n",
       "      <td>16</td>\n",
       "      <td>C</td>\n",
       "      <td>4+</td>\n",
       "      <td>0</td>\n",
       "      <td>8</td>\n",
       "      <td>NaN</td>\n",
       "      <td>NaN</td>\n",
       "      <td>7969</td>\n",
       "    </tr>\n",
       "    <tr>\n",
       "      <th>5</th>\n",
       "      <td>1000003</td>\n",
       "      <td>P00193542</td>\n",
       "      <td>M</td>\n",
       "      <td>26-35</td>\n",
       "      <td>15</td>\n",
       "      <td>A</td>\n",
       "      <td>3</td>\n",
       "      <td>0</td>\n",
       "      <td>1</td>\n",
       "      <td>2.0</td>\n",
       "      <td>NaN</td>\n",
       "      <td>15227</td>\n",
       "    </tr>\n",
       "    <tr>\n",
       "      <th>6</th>\n",
       "      <td>1000004</td>\n",
       "      <td>P00184942</td>\n",
       "      <td>M</td>\n",
       "      <td>46-50</td>\n",
       "      <td>7</td>\n",
       "      <td>B</td>\n",
       "      <td>2</td>\n",
       "      <td>1</td>\n",
       "      <td>1</td>\n",
       "      <td>8.0</td>\n",
       "      <td>17.0</td>\n",
       "      <td>19215</td>\n",
       "    </tr>\n",
       "    <tr>\n",
       "      <th>7</th>\n",
       "      <td>1000004</td>\n",
       "      <td>P00346142</td>\n",
       "      <td>M</td>\n",
       "      <td>46-50</td>\n",
       "      <td>7</td>\n",
       "      <td>B</td>\n",
       "      <td>2</td>\n",
       "      <td>1</td>\n",
       "      <td>1</td>\n",
       "      <td>15.0</td>\n",
       "      <td>NaN</td>\n",
       "      <td>15854</td>\n",
       "    </tr>\n",
       "    <tr>\n",
       "      <th>8</th>\n",
       "      <td>1000004</td>\n",
       "      <td>P0097242</td>\n",
       "      <td>M</td>\n",
       "      <td>46-50</td>\n",
       "      <td>7</td>\n",
       "      <td>B</td>\n",
       "      <td>2</td>\n",
       "      <td>1</td>\n",
       "      <td>1</td>\n",
       "      <td>16.0</td>\n",
       "      <td>NaN</td>\n",
       "      <td>15686</td>\n",
       "    </tr>\n",
       "    <tr>\n",
       "      <th>9</th>\n",
       "      <td>1000005</td>\n",
       "      <td>P00274942</td>\n",
       "      <td>M</td>\n",
       "      <td>26-35</td>\n",
       "      <td>20</td>\n",
       "      <td>A</td>\n",
       "      <td>1</td>\n",
       "      <td>1</td>\n",
       "      <td>8</td>\n",
       "      <td>NaN</td>\n",
       "      <td>NaN</td>\n",
       "      <td>7871</td>\n",
       "    </tr>\n",
       "  </tbody>\n",
       "</table>\n",
       "</div>\n",
       "      <button class=\"colab-df-convert\" onclick=\"convertToInteractive('df-67447e5c-c30c-4cc2-9c89-045c9a1a3ece')\"\n",
       "              title=\"Convert this dataframe to an interactive table.\"\n",
       "              style=\"display:none;\">\n",
       "        \n",
       "  <svg xmlns=\"http://www.w3.org/2000/svg\" height=\"24px\"viewBox=\"0 0 24 24\"\n",
       "       width=\"24px\">\n",
       "    <path d=\"M0 0h24v24H0V0z\" fill=\"none\"/>\n",
       "    <path d=\"M18.56 5.44l.94 2.06.94-2.06 2.06-.94-2.06-.94-.94-2.06-.94 2.06-2.06.94zm-11 1L8.5 8.5l.94-2.06 2.06-.94-2.06-.94L8.5 2.5l-.94 2.06-2.06.94zm10 10l.94 2.06.94-2.06 2.06-.94-2.06-.94-.94-2.06-.94 2.06-2.06.94z\"/><path d=\"M17.41 7.96l-1.37-1.37c-.4-.4-.92-.59-1.43-.59-.52 0-1.04.2-1.43.59L10.3 9.45l-7.72 7.72c-.78.78-.78 2.05 0 2.83L4 21.41c.39.39.9.59 1.41.59.51 0 1.02-.2 1.41-.59l7.78-7.78 2.81-2.81c.8-.78.8-2.07 0-2.86zM5.41 20L4 18.59l7.72-7.72 1.47 1.35L5.41 20z\"/>\n",
       "  </svg>\n",
       "      </button>\n",
       "      \n",
       "  <style>\n",
       "    .colab-df-container {\n",
       "      display:flex;\n",
       "      flex-wrap:wrap;\n",
       "      gap: 12px;\n",
       "    }\n",
       "\n",
       "    .colab-df-convert {\n",
       "      background-color: #E8F0FE;\n",
       "      border: none;\n",
       "      border-radius: 50%;\n",
       "      cursor: pointer;\n",
       "      display: none;\n",
       "      fill: #1967D2;\n",
       "      height: 32px;\n",
       "      padding: 0 0 0 0;\n",
       "      width: 32px;\n",
       "    }\n",
       "\n",
       "    .colab-df-convert:hover {\n",
       "      background-color: #E2EBFA;\n",
       "      box-shadow: 0px 1px 2px rgba(60, 64, 67, 0.3), 0px 1px 3px 1px rgba(60, 64, 67, 0.15);\n",
       "      fill: #174EA6;\n",
       "    }\n",
       "\n",
       "    [theme=dark] .colab-df-convert {\n",
       "      background-color: #3B4455;\n",
       "      fill: #D2E3FC;\n",
       "    }\n",
       "\n",
       "    [theme=dark] .colab-df-convert:hover {\n",
       "      background-color: #434B5C;\n",
       "      box-shadow: 0px 1px 3px 1px rgba(0, 0, 0, 0.15);\n",
       "      filter: drop-shadow(0px 1px 2px rgba(0, 0, 0, 0.3));\n",
       "      fill: #FFFFFF;\n",
       "    }\n",
       "  </style>\n",
       "\n",
       "      <script>\n",
       "        const buttonEl =\n",
       "          document.querySelector('#df-67447e5c-c30c-4cc2-9c89-045c9a1a3ece button.colab-df-convert');\n",
       "        buttonEl.style.display =\n",
       "          google.colab.kernel.accessAllowed ? 'block' : 'none';\n",
       "\n",
       "        async function convertToInteractive(key) {\n",
       "          const element = document.querySelector('#df-67447e5c-c30c-4cc2-9c89-045c9a1a3ece');\n",
       "          const dataTable =\n",
       "            await google.colab.kernel.invokeFunction('convertToInteractive',\n",
       "                                                     [key], {});\n",
       "          if (!dataTable) return;\n",
       "\n",
       "          const docLinkHtml = 'Like what you see? Visit the ' +\n",
       "            '<a target=\"_blank\" href=https://colab.research.google.com/notebooks/data_table.ipynb>data table notebook</a>'\n",
       "            + ' to learn more about interactive tables.';\n",
       "          element.innerHTML = '';\n",
       "          dataTable['output_type'] = 'display_data';\n",
       "          await google.colab.output.renderOutput(dataTable, element);\n",
       "          const docLink = document.createElement('div');\n",
       "          docLink.innerHTML = docLinkHtml;\n",
       "          element.appendChild(docLink);\n",
       "        }\n",
       "      </script>\n",
       "    </div>\n",
       "  </div>\n",
       "  "
      ],
      "text/plain": [
       "   User_ID Product_ID Gender    Age  Occupation City_Category  \\\n",
       "0  1000001  P00069042      F   0-17          10             A   \n",
       "1  1000001  P00248942      F   0-17          10             A   \n",
       "2  1000001  P00087842      F   0-17          10             A   \n",
       "3  1000001  P00085442      F   0-17          10             A   \n",
       "4  1000002  P00285442      M    55+          16             C   \n",
       "5  1000003  P00193542      M  26-35          15             A   \n",
       "6  1000004  P00184942      M  46-50           7             B   \n",
       "7  1000004  P00346142      M  46-50           7             B   \n",
       "8  1000004   P0097242      M  46-50           7             B   \n",
       "9  1000005  P00274942      M  26-35          20             A   \n",
       "\n",
       "  Stay_In_Current_City_Years  Marital_Status  Product_Category_1  \\\n",
       "0                          2               0                   3   \n",
       "1                          2               0                   1   \n",
       "2                          2               0                  12   \n",
       "3                          2               0                  12   \n",
       "4                         4+               0                   8   \n",
       "5                          3               0                   1   \n",
       "6                          2               1                   1   \n",
       "7                          2               1                   1   \n",
       "8                          2               1                   1   \n",
       "9                          1               1                   8   \n",
       "\n",
       "   Product_Category_2  Product_Category_3  Purchase  \n",
       "0                 NaN                 NaN      8370  \n",
       "1                 6.0                14.0     15200  \n",
       "2                 NaN                 NaN      1422  \n",
       "3                14.0                 NaN      1057  \n",
       "4                 NaN                 NaN      7969  \n",
       "5                 2.0                 NaN     15227  \n",
       "6                 8.0                17.0     19215  \n",
       "7                15.0                 NaN     15854  \n",
       "8                16.0                 NaN     15686  \n",
       "9                 NaN                 NaN      7871  "
      ]
     },
     "execution_count": 5,
     "metadata": {},
     "output_type": "execute_result"
    }
   ],
   "source": [
    "df = pd.read_csv('train.csv')\n",
    "df.head(10)"
   ]
  },
  {
   "cell_type": "code",
   "execution_count": 6,
   "metadata": {
    "colab": {
     "base_uri": "https://localhost:8080/"
    },
    "executionInfo": {
     "elapsed": 836,
     "status": "ok",
     "timestamp": 1674221880015,
     "user": {
      "displayName": "Muhammaf zarif iqram Mat Rozali",
      "userId": "03892399400558550753"
     },
     "user_tz": -480
    },
    "id": "84igGpy_5LSf",
    "outputId": "bf9bf41c-60a3-49d6-bf3c-67b1a96fadd4"
   },
   "outputs": [
    {
     "name": "stdout",
     "output_type": "stream",
     "text": [
      "Rows     :  550068\n",
      "Columns  :  12\n",
      "\n",
      "Features : \n",
      " ['User_ID', 'Product_ID', 'Gender', 'Age', 'Occupation', 'City_Category', 'Stay_In_Current_City_Years', 'Marital_Status', 'Product_Category_1', 'Product_Category_2', 'Product_Category_3', 'Purchase']\n",
      "\n",
      "Missing values :   556885\n",
      "\n",
      "Unique values :  \n",
      " User_ID                        5891\n",
      "Product_ID                     3631\n",
      "Gender                            2\n",
      "Age                               7\n",
      "Occupation                       21\n",
      "City_Category                     3\n",
      "Stay_In_Current_City_Years        5\n",
      "Marital_Status                    2\n",
      "Product_Category_1               20\n",
      "Product_Category_2               17\n",
      "Product_Category_3               15\n",
      "Purchase                      18105\n",
      "dtype: int64\n"
     ]
    }
   ],
   "source": [
    "print (\"Rows     : \" ,df.shape[0])\n",
    "print (\"Columns  : \" ,df.shape[1])\n",
    "print (\"\\nFeatures : \\n\" ,df.columns.tolist())\n",
    "print (\"\\nMissing values :  \", df.isnull().sum().values.sum())\n",
    "print (\"\\nUnique values :  \\n\",df.nunique())"
   ]
  },
  {
   "cell_type": "code",
   "execution_count": null,
   "metadata": {
    "colab": {
     "base_uri": "https://localhost:8080/"
    },
    "executionInfo": {
     "elapsed": 351,
     "status": "ok",
     "timestamp": 1673990515492,
     "user": {
      "displayName": "Muhammaf zarif iqram Mat Rozali",
      "userId": "03892399400558550753"
     },
     "user_tz": -480
    },
    "id": "1a9ayQMg5RK8",
    "outputId": "5f58d3ee-8371-4996-b6de-d7919c7dfde0"
   },
   "outputs": [
    {
     "data": {
      "text/plain": [
       "User_ID                         int64\n",
       "Product_ID                     object\n",
       "Gender                         object\n",
       "Age                            object\n",
       "Occupation                      int64\n",
       "City_Category                  object\n",
       "Stay_In_Current_City_Years     object\n",
       "Marital_Status                  int64\n",
       "Product_Category_1              int64\n",
       "Product_Category_2            float64\n",
       "Product_Category_3            float64\n",
       "Purchase                        int64\n",
       "dtype: object"
      ]
     },
     "execution_count": 7,
     "metadata": {},
     "output_type": "execute_result"
    }
   ],
   "source": [
    "### check data types\n",
    "df.dtypes"
   ]
  },
  {
   "cell_type": "code",
   "execution_count": null,
   "metadata": {
    "colab": {
     "base_uri": "https://localhost:8080/"
    },
    "executionInfo": {
     "elapsed": 941,
     "status": "ok",
     "timestamp": 1673990518326,
     "user": {
      "displayName": "Muhammaf zarif iqram Mat Rozali",
      "userId": "03892399400558550753"
     },
     "user_tz": -480
    },
    "id": "dZXqN06ufgfn",
    "outputId": "6afce61f-cb08-488a-f285-ff06ff050a03"
   },
   "outputs": [
    {
     "name": "stdout",
     "output_type": "stream",
     "text": [
      "Missing values per column:\n",
      "User_ID                            0\n",
      "Product_ID                         0\n",
      "Gender                             0\n",
      "Age                                0\n",
      "Occupation                         0\n",
      "City_Category                      0\n",
      "Stay_In_Current_City_Years         0\n",
      "Marital_Status                     0\n",
      "Product_Category_1                 0\n",
      "Product_Category_2            173638\n",
      "Product_Category_3            383247\n",
      "Purchase                           0\n",
      "dtype: int64\n"
     ]
    }
   ],
   "source": [
    "#Create a new function:\n",
    "def num_missing(x):\n",
    "  return sum(x.isnull())\n",
    "\n",
    "#Applying per column:\n",
    "print (\"Missing values per column:\")\n",
    "print (df.apply(num_missing, axis=0)) #axis=0 defines that function is to be applied on each column"
   ]
  },
  {
   "cell_type": "code",
   "execution_count": null,
   "metadata": {
    "colab": {
     "base_uri": "https://localhost:8080/"
    },
    "executionInfo": {
     "elapsed": 1009,
     "status": "ok",
     "timestamp": 1673955291423,
     "user": {
      "displayName": "Muhammaf zarif iqram Mat Rozali",
      "userId": "03892399400558550753"
     },
     "user_tz": -480
    },
    "id": "0VeACTrhidcY",
    "outputId": "f3a6393c-1469-4f43-c217-ec137c96d004"
   },
   "outputs": [
    {
     "name": "stdout",
     "output_type": "stream",
     "text": [
      "Missing values per column:\n",
      "User_ID                        0.000000\n",
      "Product_ID                     0.000000\n",
      "Gender                         0.000000\n",
      "Age                            0.000000\n",
      "Occupation                     0.000000\n",
      "City_Category                  0.000000\n",
      "Stay_In_Current_City_Years     0.000000\n",
      "Marital_Status                 0.000000\n",
      "Product_Category_1             0.000000\n",
      "Product_Category_2            31.566643\n",
      "Product_Category_3            69.672659\n",
      "Purchase                       0.000000\n",
      "dtype: float64\n"
     ]
    }
   ],
   "source": [
    "#Create a new function to obtain percentage of missing values by column:\n",
    "def num_missing(x):\n",
    "  return sum(x.isnull())/df.shape[0]*100\n",
    "\n",
    "#View percentage of missing values by column:\n",
    "print (\"Missing values per column:\")\n",
    "print (df.apply(num_missing, axis=0)) #axis=0 defines that function is to be applied on each column"
   ]
  },
  {
   "cell_type": "code",
   "execution_count": null,
   "metadata": {
    "colab": {
     "base_uri": "https://localhost:8080/",
     "height": 301
    },
    "executionInfo": {
     "elapsed": 571,
     "status": "ok",
     "timestamp": 1673955293822,
     "user": {
      "displayName": "Muhammaf zarif iqram Mat Rozali",
      "userId": "03892399400558550753"
     },
     "user_tz": -480
    },
    "id": "chNjfRyR9aqO",
    "outputId": "672ae65b-0c8a-45bd-99ed-71b849ea1862"
   },
   "outputs": [
    {
     "data": {
      "text/html": [
       "\n",
       "  <div id=\"df-31bc0b47-3134-4016-9032-ae438c5016bf\">\n",
       "    <div class=\"colab-df-container\">\n",
       "      <div>\n",
       "<style scoped>\n",
       "    .dataframe tbody tr th:only-of-type {\n",
       "        vertical-align: middle;\n",
       "    }\n",
       "\n",
       "    .dataframe tbody tr th {\n",
       "        vertical-align: top;\n",
       "    }\n",
       "\n",
       "    .dataframe thead th {\n",
       "        text-align: right;\n",
       "    }\n",
       "</style>\n",
       "<table border=\"1\" class=\"dataframe\">\n",
       "  <thead>\n",
       "    <tr style=\"text-align: right;\">\n",
       "      <th></th>\n",
       "      <th>User_ID</th>\n",
       "      <th>Occupation</th>\n",
       "      <th>Marital_Status</th>\n",
       "      <th>Product_Category_1</th>\n",
       "      <th>Product_Category_2</th>\n",
       "      <th>Product_Category_3</th>\n",
       "      <th>Purchase</th>\n",
       "    </tr>\n",
       "  </thead>\n",
       "  <tbody>\n",
       "    <tr>\n",
       "      <th>count</th>\n",
       "      <td>5.500680e+05</td>\n",
       "      <td>550068.000000</td>\n",
       "      <td>550068.000000</td>\n",
       "      <td>550068.000000</td>\n",
       "      <td>376430.000000</td>\n",
       "      <td>166821.000000</td>\n",
       "      <td>550068.000000</td>\n",
       "    </tr>\n",
       "    <tr>\n",
       "      <th>mean</th>\n",
       "      <td>1.003029e+06</td>\n",
       "      <td>8.076707</td>\n",
       "      <td>0.409653</td>\n",
       "      <td>5.404270</td>\n",
       "      <td>9.842329</td>\n",
       "      <td>12.668243</td>\n",
       "      <td>9263.968713</td>\n",
       "    </tr>\n",
       "    <tr>\n",
       "      <th>std</th>\n",
       "      <td>1.727592e+03</td>\n",
       "      <td>6.522660</td>\n",
       "      <td>0.491770</td>\n",
       "      <td>3.936211</td>\n",
       "      <td>5.086590</td>\n",
       "      <td>4.125338</td>\n",
       "      <td>5023.065394</td>\n",
       "    </tr>\n",
       "    <tr>\n",
       "      <th>min</th>\n",
       "      <td>1.000001e+06</td>\n",
       "      <td>0.000000</td>\n",
       "      <td>0.000000</td>\n",
       "      <td>1.000000</td>\n",
       "      <td>2.000000</td>\n",
       "      <td>3.000000</td>\n",
       "      <td>12.000000</td>\n",
       "    </tr>\n",
       "    <tr>\n",
       "      <th>25%</th>\n",
       "      <td>1.001516e+06</td>\n",
       "      <td>2.000000</td>\n",
       "      <td>0.000000</td>\n",
       "      <td>1.000000</td>\n",
       "      <td>5.000000</td>\n",
       "      <td>9.000000</td>\n",
       "      <td>5823.000000</td>\n",
       "    </tr>\n",
       "    <tr>\n",
       "      <th>50%</th>\n",
       "      <td>1.003077e+06</td>\n",
       "      <td>7.000000</td>\n",
       "      <td>0.000000</td>\n",
       "      <td>5.000000</td>\n",
       "      <td>9.000000</td>\n",
       "      <td>14.000000</td>\n",
       "      <td>8047.000000</td>\n",
       "    </tr>\n",
       "    <tr>\n",
       "      <th>75%</th>\n",
       "      <td>1.004478e+06</td>\n",
       "      <td>14.000000</td>\n",
       "      <td>1.000000</td>\n",
       "      <td>8.000000</td>\n",
       "      <td>15.000000</td>\n",
       "      <td>16.000000</td>\n",
       "      <td>12054.000000</td>\n",
       "    </tr>\n",
       "    <tr>\n",
       "      <th>max</th>\n",
       "      <td>1.006040e+06</td>\n",
       "      <td>20.000000</td>\n",
       "      <td>1.000000</td>\n",
       "      <td>20.000000</td>\n",
       "      <td>18.000000</td>\n",
       "      <td>18.000000</td>\n",
       "      <td>23961.000000</td>\n",
       "    </tr>\n",
       "  </tbody>\n",
       "</table>\n",
       "</div>\n",
       "      <button class=\"colab-df-convert\" onclick=\"convertToInteractive('df-31bc0b47-3134-4016-9032-ae438c5016bf')\"\n",
       "              title=\"Convert this dataframe to an interactive table.\"\n",
       "              style=\"display:none;\">\n",
       "        \n",
       "  <svg xmlns=\"http://www.w3.org/2000/svg\" height=\"24px\"viewBox=\"0 0 24 24\"\n",
       "       width=\"24px\">\n",
       "    <path d=\"M0 0h24v24H0V0z\" fill=\"none\"/>\n",
       "    <path d=\"M18.56 5.44l.94 2.06.94-2.06 2.06-.94-2.06-.94-.94-2.06-.94 2.06-2.06.94zm-11 1L8.5 8.5l.94-2.06 2.06-.94-2.06-.94L8.5 2.5l-.94 2.06-2.06.94zm10 10l.94 2.06.94-2.06 2.06-.94-2.06-.94-.94-2.06-.94 2.06-2.06.94z\"/><path d=\"M17.41 7.96l-1.37-1.37c-.4-.4-.92-.59-1.43-.59-.52 0-1.04.2-1.43.59L10.3 9.45l-7.72 7.72c-.78.78-.78 2.05 0 2.83L4 21.41c.39.39.9.59 1.41.59.51 0 1.02-.2 1.41-.59l7.78-7.78 2.81-2.81c.8-.78.8-2.07 0-2.86zM5.41 20L4 18.59l7.72-7.72 1.47 1.35L5.41 20z\"/>\n",
       "  </svg>\n",
       "      </button>\n",
       "      \n",
       "  <style>\n",
       "    .colab-df-container {\n",
       "      display:flex;\n",
       "      flex-wrap:wrap;\n",
       "      gap: 12px;\n",
       "    }\n",
       "\n",
       "    .colab-df-convert {\n",
       "      background-color: #E8F0FE;\n",
       "      border: none;\n",
       "      border-radius: 50%;\n",
       "      cursor: pointer;\n",
       "      display: none;\n",
       "      fill: #1967D2;\n",
       "      height: 32px;\n",
       "      padding: 0 0 0 0;\n",
       "      width: 32px;\n",
       "    }\n",
       "\n",
       "    .colab-df-convert:hover {\n",
       "      background-color: #E2EBFA;\n",
       "      box-shadow: 0px 1px 2px rgba(60, 64, 67, 0.3), 0px 1px 3px 1px rgba(60, 64, 67, 0.15);\n",
       "      fill: #174EA6;\n",
       "    }\n",
       "\n",
       "    [theme=dark] .colab-df-convert {\n",
       "      background-color: #3B4455;\n",
       "      fill: #D2E3FC;\n",
       "    }\n",
       "\n",
       "    [theme=dark] .colab-df-convert:hover {\n",
       "      background-color: #434B5C;\n",
       "      box-shadow: 0px 1px 3px 1px rgba(0, 0, 0, 0.15);\n",
       "      filter: drop-shadow(0px 1px 2px rgba(0, 0, 0, 0.3));\n",
       "      fill: #FFFFFF;\n",
       "    }\n",
       "  </style>\n",
       "\n",
       "      <script>\n",
       "        const buttonEl =\n",
       "          document.querySelector('#df-31bc0b47-3134-4016-9032-ae438c5016bf button.colab-df-convert');\n",
       "        buttonEl.style.display =\n",
       "          google.colab.kernel.accessAllowed ? 'block' : 'none';\n",
       "\n",
       "        async function convertToInteractive(key) {\n",
       "          const element = document.querySelector('#df-31bc0b47-3134-4016-9032-ae438c5016bf');\n",
       "          const dataTable =\n",
       "            await google.colab.kernel.invokeFunction('convertToInteractive',\n",
       "                                                     [key], {});\n",
       "          if (!dataTable) return;\n",
       "\n",
       "          const docLinkHtml = 'Like what you see? Visit the ' +\n",
       "            '<a target=\"_blank\" href=https://colab.research.google.com/notebooks/data_table.ipynb>data table notebook</a>'\n",
       "            + ' to learn more about interactive tables.';\n",
       "          element.innerHTML = '';\n",
       "          dataTable['output_type'] = 'display_data';\n",
       "          await google.colab.output.renderOutput(dataTable, element);\n",
       "          const docLink = document.createElement('div');\n",
       "          docLink.innerHTML = docLinkHtml;\n",
       "          element.appendChild(docLink);\n",
       "        }\n",
       "      </script>\n",
       "    </div>\n",
       "  </div>\n",
       "  "
      ],
      "text/plain": [
       "            User_ID     Occupation  Marital_Status  Product_Category_1  \\\n",
       "count  5.500680e+05  550068.000000   550068.000000       550068.000000   \n",
       "mean   1.003029e+06       8.076707        0.409653            5.404270   \n",
       "std    1.727592e+03       6.522660        0.491770            3.936211   \n",
       "min    1.000001e+06       0.000000        0.000000            1.000000   \n",
       "25%    1.001516e+06       2.000000        0.000000            1.000000   \n",
       "50%    1.003077e+06       7.000000        0.000000            5.000000   \n",
       "75%    1.004478e+06      14.000000        1.000000            8.000000   \n",
       "max    1.006040e+06      20.000000        1.000000           20.000000   \n",
       "\n",
       "       Product_Category_2  Product_Category_3       Purchase  \n",
       "count       376430.000000       166821.000000  550068.000000  \n",
       "mean             9.842329           12.668243    9263.968713  \n",
       "std              5.086590            4.125338    5023.065394  \n",
       "min              2.000000            3.000000      12.000000  \n",
       "25%              5.000000            9.000000    5823.000000  \n",
       "50%              9.000000           14.000000    8047.000000  \n",
       "75%             15.000000           16.000000   12054.000000  \n",
       "max             18.000000           18.000000   23961.000000  "
      ]
     },
     "execution_count": 9,
     "metadata": {},
     "output_type": "execute_result"
    }
   ],
   "source": [
    "### First and Second Moment Business Decision ###\n",
    "\n",
    "# Measures of central tendancies for all columns - only focus for numeric columns\n",
    "df.describe()"
   ]
  },
  {
   "cell_type": "code",
   "execution_count": null,
   "metadata": {
    "colab": {
     "base_uri": "https://localhost:8080/",
     "height": 175
    },
    "executionInfo": {
     "elapsed": 21,
     "status": "ok",
     "timestamp": 1673876929254,
     "user": {
      "displayName": "kartina azman",
      "userId": "06088607451388305319"
     },
     "user_tz": -480
    },
    "id": "OZzuWfJDkaF1",
    "outputId": "15c9b6d0-7d43-45c6-8a9b-d56576a12bbc"
   },
   "outputs": [
    {
     "data": {
      "text/html": [
       "\n",
       "  <div id=\"df-21688a41-2cd9-45b0-9ef4-e6ef6ad44665\">\n",
       "    <div class=\"colab-df-container\">\n",
       "      <div>\n",
       "<style scoped>\n",
       "    .dataframe tbody tr th:only-of-type {\n",
       "        vertical-align: middle;\n",
       "    }\n",
       "\n",
       "    .dataframe tbody tr th {\n",
       "        vertical-align: top;\n",
       "    }\n",
       "\n",
       "    .dataframe thead th {\n",
       "        text-align: right;\n",
       "    }\n",
       "</style>\n",
       "<table border=\"1\" class=\"dataframe\">\n",
       "  <thead>\n",
       "    <tr style=\"text-align: right;\">\n",
       "      <th></th>\n",
       "      <th>Product_ID</th>\n",
       "      <th>Gender</th>\n",
       "      <th>Age</th>\n",
       "      <th>City_Category</th>\n",
       "      <th>Stay_In_Current_City_Years</th>\n",
       "    </tr>\n",
       "  </thead>\n",
       "  <tbody>\n",
       "    <tr>\n",
       "      <th>count</th>\n",
       "      <td>550068</td>\n",
       "      <td>550068</td>\n",
       "      <td>550068</td>\n",
       "      <td>550068</td>\n",
       "      <td>550068</td>\n",
       "    </tr>\n",
       "    <tr>\n",
       "      <th>unique</th>\n",
       "      <td>3631</td>\n",
       "      <td>2</td>\n",
       "      <td>7</td>\n",
       "      <td>3</td>\n",
       "      <td>5</td>\n",
       "    </tr>\n",
       "    <tr>\n",
       "      <th>top</th>\n",
       "      <td>P00265242</td>\n",
       "      <td>M</td>\n",
       "      <td>26-35</td>\n",
       "      <td>B</td>\n",
       "      <td>1</td>\n",
       "    </tr>\n",
       "    <tr>\n",
       "      <th>freq</th>\n",
       "      <td>1880</td>\n",
       "      <td>414259</td>\n",
       "      <td>219587</td>\n",
       "      <td>231173</td>\n",
       "      <td>193821</td>\n",
       "    </tr>\n",
       "  </tbody>\n",
       "</table>\n",
       "</div>\n",
       "      <button class=\"colab-df-convert\" onclick=\"convertToInteractive('df-21688a41-2cd9-45b0-9ef4-e6ef6ad44665')\"\n",
       "              title=\"Convert this dataframe to an interactive table.\"\n",
       "              style=\"display:none;\">\n",
       "        \n",
       "  <svg xmlns=\"http://www.w3.org/2000/svg\" height=\"24px\"viewBox=\"0 0 24 24\"\n",
       "       width=\"24px\">\n",
       "    <path d=\"M0 0h24v24H0V0z\" fill=\"none\"/>\n",
       "    <path d=\"M18.56 5.44l.94 2.06.94-2.06 2.06-.94-2.06-.94-.94-2.06-.94 2.06-2.06.94zm-11 1L8.5 8.5l.94-2.06 2.06-.94-2.06-.94L8.5 2.5l-.94 2.06-2.06.94zm10 10l.94 2.06.94-2.06 2.06-.94-2.06-.94-.94-2.06-.94 2.06-2.06.94z\"/><path d=\"M17.41 7.96l-1.37-1.37c-.4-.4-.92-.59-1.43-.59-.52 0-1.04.2-1.43.59L10.3 9.45l-7.72 7.72c-.78.78-.78 2.05 0 2.83L4 21.41c.39.39.9.59 1.41.59.51 0 1.02-.2 1.41-.59l7.78-7.78 2.81-2.81c.8-.78.8-2.07 0-2.86zM5.41 20L4 18.59l7.72-7.72 1.47 1.35L5.41 20z\"/>\n",
       "  </svg>\n",
       "      </button>\n",
       "      \n",
       "  <style>\n",
       "    .colab-df-container {\n",
       "      display:flex;\n",
       "      flex-wrap:wrap;\n",
       "      gap: 12px;\n",
       "    }\n",
       "\n",
       "    .colab-df-convert {\n",
       "      background-color: #E8F0FE;\n",
       "      border: none;\n",
       "      border-radius: 50%;\n",
       "      cursor: pointer;\n",
       "      display: none;\n",
       "      fill: #1967D2;\n",
       "      height: 32px;\n",
       "      padding: 0 0 0 0;\n",
       "      width: 32px;\n",
       "    }\n",
       "\n",
       "    .colab-df-convert:hover {\n",
       "      background-color: #E2EBFA;\n",
       "      box-shadow: 0px 1px 2px rgba(60, 64, 67, 0.3), 0px 1px 3px 1px rgba(60, 64, 67, 0.15);\n",
       "      fill: #174EA6;\n",
       "    }\n",
       "\n",
       "    [theme=dark] .colab-df-convert {\n",
       "      background-color: #3B4455;\n",
       "      fill: #D2E3FC;\n",
       "    }\n",
       "\n",
       "    [theme=dark] .colab-df-convert:hover {\n",
       "      background-color: #434B5C;\n",
       "      box-shadow: 0px 1px 3px 1px rgba(0, 0, 0, 0.15);\n",
       "      filter: drop-shadow(0px 1px 2px rgba(0, 0, 0, 0.3));\n",
       "      fill: #FFFFFF;\n",
       "    }\n",
       "  </style>\n",
       "\n",
       "      <script>\n",
       "        const buttonEl =\n",
       "          document.querySelector('#df-21688a41-2cd9-45b0-9ef4-e6ef6ad44665 button.colab-df-convert');\n",
       "        buttonEl.style.display =\n",
       "          google.colab.kernel.accessAllowed ? 'block' : 'none';\n",
       "\n",
       "        async function convertToInteractive(key) {\n",
       "          const element = document.querySelector('#df-21688a41-2cd9-45b0-9ef4-e6ef6ad44665');\n",
       "          const dataTable =\n",
       "            await google.colab.kernel.invokeFunction('convertToInteractive',\n",
       "                                                     [key], {});\n",
       "          if (!dataTable) return;\n",
       "\n",
       "          const docLinkHtml = 'Like what you see? Visit the ' +\n",
       "            '<a target=\"_blank\" href=https://colab.research.google.com/notebooks/data_table.ipynb>data table notebook</a>'\n",
       "            + ' to learn more about interactive tables.';\n",
       "          element.innerHTML = '';\n",
       "          dataTable['output_type'] = 'display_data';\n",
       "          await google.colab.output.renderOutput(dataTable, element);\n",
       "          const docLink = document.createElement('div');\n",
       "          docLink.innerHTML = docLinkHtml;\n",
       "          element.appendChild(docLink);\n",
       "        }\n",
       "      </script>\n",
       "    </div>\n",
       "  </div>\n",
       "  "
      ],
      "text/plain": [
       "       Product_ID  Gender     Age City_Category Stay_In_Current_City_Years\n",
       "count      550068  550068  550068        550068                     550068\n",
       "unique       3631       2       7             3                          5\n",
       "top     P00265242       M   26-35             B                          1\n",
       "freq         1880  414259  219587        231173                     193821"
      ]
     },
     "execution_count": 11,
     "metadata": {},
     "output_type": "execute_result"
    }
   ],
   "source": [
    "# Measures of central tendancies for all columns - only focus for string columns\n",
    "df.describe(include = ['object'])"
   ]
  },
  {
   "cell_type": "code",
   "execution_count": null,
   "metadata": {
    "colab": {
     "base_uri": "https://localhost:8080/"
    },
    "executionInfo": {
     "elapsed": 365,
     "status": "ok",
     "timestamp": 1673876932165,
     "user": {
      "displayName": "kartina azman",
      "userId": "06088607451388305319"
     },
     "user_tz": -480
    },
    "id": "ebweigAOlcW6",
    "outputId": "11490e5c-0cf0-44bf-95ed-d05d106e92cb"
   },
   "outputs": [
    {
     "name": "stdout",
     "output_type": "stream",
     "text": [
      "[nan  6. 14.  2.  8. 15. 16. 11.  5.  3.  4. 12.  9. 10. 17. 13.  7. 18.]\n",
      "[nan 14. 17.  5.  4. 16. 15.  8.  9. 13.  6. 12.  3. 18. 11. 10.]\n"
     ]
    }
   ],
   "source": [
    "### View value for columns have missing value\n",
    "\n",
    "print(df[\"Product_Category_2\"].unique())\n",
    "print(df[\"Product_Category_3\"].unique())"
   ]
  },
  {
   "cell_type": "markdown",
   "metadata": {
    "id": "ycWukLXHoWMz"
   },
   "source": [
    "**Data Visualisation**\n",
    "\n"
   ]
  },
  {
   "cell_type": "code",
   "execution_count": null,
   "metadata": {
    "colab": {
     "base_uri": "https://localhost:8080/",
     "height": 893
    },
    "executionInfo": {
     "elapsed": 2434,
     "status": "ok",
     "timestamp": 1673876937665,
     "user": {
      "displayName": "kartina azman",
      "userId": "06088607451388305319"
     },
     "user_tz": -480
    },
    "id": "BEFNzlNaEZk5",
    "outputId": "40292baf-abc7-46f9-c748-0e0b0456ec99"
   },
   "outputs": [
    {
     "data": {
      "text/plain": [
       "array([[<matplotlib.axes._subplots.AxesSubplot object at 0x7f1937334f70>,\n",
       "        <matplotlib.axes._subplots.AxesSubplot object at 0x7f1937313400>,\n",
       "        <matplotlib.axes._subplots.AxesSubplot object at 0x7f19372c1820>],\n",
       "       [<matplotlib.axes._subplots.AxesSubplot object at 0x7f193726fc10>,\n",
       "        <matplotlib.axes._subplots.AxesSubplot object at 0x7f193729f0a0>,\n",
       "        <matplotlib.axes._subplots.AxesSubplot object at 0x7f1937259370>],\n",
       "       [<matplotlib.axes._subplots.AxesSubplot object at 0x7f1937259460>,\n",
       "        <matplotlib.axes._subplots.AxesSubplot object at 0x7f19371b1c40>,\n",
       "        <matplotlib.axes._subplots.AxesSubplot object at 0x7f19371dd130>]],\n",
       "      dtype=object)"
      ]
     },
     "execution_count": 13,
     "metadata": {},
     "output_type": "execute_result"
    },
    {
     "data": {
      "image/png": "[encoded data removed]",
      "text/plain": [
       "<Figure size 864x864 with 9 Axes>"
      ]
     },
     "metadata": {},
     "output_type": "display_data"
    }
   ],
   "source": [
    "df.hist(edgecolor='black',figsize=(12,12))"
   ]
  },
  {
   "cell_type": "markdown",
   "metadata": {
    "id": "YJIp-xDeFh7S"
   },
   "source": [
    "Data Visualization by Attribute\n",
    "\n",
    "a) Gender\n"
   ]
  },
  {
   "cell_type": "code",
   "execution_count": null,
   "metadata": {
    "colab": {
     "base_uri": "https://localhost:8080/",
     "height": 596
    },
    "executionInfo": {
     "elapsed": 708,
     "status": "ok",
     "timestamp": 1673876955717,
     "user": {
      "displayName": "kartina azman",
      "userId": "06088607451388305319"
     },
     "user_tz": -480
    },
    "id": "NQ0-GkbaFv3l",
    "outputId": "64f3ea70-51b3-4732-de48-7a33b875ad2a"
   },
   "outputs": [
    {
     "data": {
      "image/png": "[encoded data removed]",
      "text/plain": [
       "<Figure size 720x720 with 1 Axes>"
      ]
     },
     "metadata": {},
     "output_type": "display_data"
    }
   ],
   "source": [
    "# pie chart \n",
    "\n",
    "size = df['Gender'].value_counts()\n",
    "labels = ['Male', 'Female']\n",
    "colors = ['#B7C3F3','#DD7596']\n",
    "explode = [0, 0.1]\n",
    "\n",
    "plt.rcParams['figure.figsize'] = (10, 10)\n",
    "plt.pie(size, colors = colors, labels = labels, shadow = True, explode = explode, autopct = '%.2f%%')\n",
    "plt.title('Customers Segementation by Gender', fontsize = 20)\n",
    "plt.axis('off')\n",
    "plt.legend()\n",
    "plt.show()"
   ]
  },
  {
   "cell_type": "code",
   "execution_count": null,
   "metadata": {
    "colab": {
     "base_uri": "https://localhost:8080/",
     "height": 627
    },
    "executionInfo": {
     "elapsed": 4318,
     "status": "ok",
     "timestamp": 1673876965022,
     "user": {
      "displayName": "kartina azman",
      "userId": "06088607451388305319"
     },
     "user_tz": -480
    },
    "id": "AdUaaXS7GvK8",
    "outputId": "cf89f29d-4951-4ab9-ba38-e84cdac49163"
   },
   "outputs": [
    {
     "data": {
      "image/png": "[encoded data removed]",
      "text/plain": [
       "<Figure size 720x720 with 1 Axes>"
      ]
     },
     "metadata": {},
     "output_type": "display_data"
    }
   ],
   "source": [
    "import pandas as pd\n",
    "import seaborn as sns\n",
    "sns.violinplot(x=df[\"Purchase\"], y= df[\"Gender\"])\n",
    "plt.title('Purchase by Gender');"
   ]
  },
  {
   "cell_type": "code",
   "execution_count": null,
   "metadata": {
    "colab": {
     "base_uri": "https://localhost:8080/",
     "height": 716
    },
    "executionInfo": {
     "elapsed": 1451,
     "status": "ok",
     "timestamp": 1673877366338,
     "user": {
      "displayName": "kartina azman",
      "userId": "06088607451388305319"
     },
     "user_tz": -480
    },
    "id": "MLSvusB60868",
    "outputId": "e4640a7b-5596-4d3e-d2cf-d07c54b7e1db"
   },
   "outputs": [
    {
     "name": "stderr",
     "output_type": "stream",
     "text": [
      "/usr/local/lib/python3.8/dist-packages/seaborn/_decorators.py:36: FutureWarning:\n",
      "\n",
      "Pass the following variable as a keyword arg: x. From version 0.12, the only valid positional argument will be `data`, and passing other arguments without an explicit keyword will result in an error or misinterpretation.\n",
      "\n"
     ]
    },
    {
     "data": {
      "image/png": "[encoded data removed]",
      "text/plain": [
       "<Figure size 720x720 with 1 Axes>"
      ]
     },
     "metadata": {},
     "output_type": "display_data"
    }
   ],
   "source": [
    "\n",
    "sns.set_theme(style=\"whitegrid\")\n",
    "sns.countplot(df['Age'],hue=df['Gender'])\n",
    "plt.title('Age by Gender');"
   ]
  },
  {
   "cell_type": "code",
   "execution_count": null,
   "metadata": {
    "colab": {
     "base_uri": "https://localhost:8080/",
     "height": 628
    },
    "executionInfo": {
     "elapsed": 29718,
     "status": "ok",
     "timestamp": 1673877405410,
     "user": {
      "displayName": "kartina azman",
      "userId": "06088607451388305319"
     },
     "user_tz": -480
    },
    "id": "PVYJfa15WHmo",
    "outputId": "fc7badf6-6dda-4288-c97e-0f4269c8cf4d"
   },
   "outputs": [
    {
     "data": {
      "text/plain": [
       "<matplotlib.axes._subplots.AxesSubplot at 0x7f19329f3a60>"
      ]
     },
     "execution_count": 17,
     "metadata": {},
     "output_type": "execute_result"
    },
    {
     "data": {
      "image/png": "[encoded data removed]",
      "text/plain": [
       "<Figure size 720x720 with 1 Axes>"
      ]
     },
     "metadata": {},
     "output_type": "display_data"
    }
   ],
   "source": [
    "sns.stripplot(data=df, x=\"Purchase\", y=\"Age\", hue=\"Gender\",palette=\"deep\")"
   ]
  },
  {
   "cell_type": "code",
   "execution_count": null,
   "metadata": {
    "colab": {
     "base_uri": "https://localhost:8080/"
    },
    "executionInfo": {
     "elapsed": 6726,
     "status": "ok",
     "timestamp": 1673497598086,
     "user": {
      "displayName": "kartina azman",
      "userId": "06088607451388305319"
     },
     "user_tz": -480
    },
    "id": "0_JxkD-8iPzq",
    "outputId": "6a6e3f93-0929-4eb8-e9ec-e393e26a23c3"
   },
   "outputs": [
    {
     "name": "stdout",
     "output_type": "stream",
     "text": [
      "['F_0' 'M_0' 'M_1' 'F_1']\n"
     ]
    }
   ],
   "source": [
    "df['combined_G_M'] = df.apply(lambda x:'%s_%s' % (x['Gender'],x['Marital_Status']),axis=1)\n",
    "print(df['combined_G_M'].unique())"
   ]
  },
  {
   "cell_type": "code",
   "execution_count": null,
   "metadata": {
    "colab": {
     "base_uri": "https://localhost:8080/",
     "height": 718
    },
    "executionInfo": {
     "elapsed": 1480,
     "status": "ok",
     "timestamp": 1673497608717,
     "user": {
      "displayName": "kartina azman",
      "userId": "06088607451388305319"
     },
     "user_tz": -480
    },
    "id": "e7Tk-a-8iXTH",
    "outputId": "44e03003-6eb4-4c26-b5ef-912b2fcd7f5b"
   },
   "outputs": [
    {
     "name": "stderr",
     "output_type": "stream",
     "text": [
      "/usr/local/lib/python3.8/dist-packages/seaborn/_decorators.py:36: FutureWarning:\n",
      "\n",
      "Pass the following variable as a keyword arg: x. From version 0.12, the only valid positional argument will be `data`, and passing other arguments without an explicit keyword will result in an error or misinterpretation.\n",
      "\n"
     ]
    },
    {
     "data": {
      "text/plain": [
       "<matplotlib.axes._subplots.AxesSubplot at 0x7f2cb6ccb610>"
      ]
     },
     "execution_count": 16,
     "metadata": {},
     "output_type": "execute_result"
    },
    {
     "data": {
      "image/png": "[encoded data removed]",
      "text/plain": [
       "<Figure size 720x720 with 1 Axes>"
      ]
     },
     "metadata": {},
     "output_type": "display_data"
    }
   ],
   "source": [
    "sns.countplot(df['Age'],hue=df['combined_G_M'])"
   ]
  },
  {
   "cell_type": "code",
   "execution_count": null,
   "metadata": {
    "colab": {
     "base_uri": "https://localhost:8080/",
     "height": 718
    },
    "executionInfo": {
     "elapsed": 1965,
     "status": "ok",
     "timestamp": 1673497613580,
     "user": {
      "displayName": "kartina azman",
      "userId": "06088607451388305319"
     },
     "user_tz": -480
    },
    "id": "5mMe16lalJqA",
    "outputId": "1d0e5b38-d4be-4bf6-e736-5b827d7215f3"
   },
   "outputs": [
    {
     "name": "stderr",
     "output_type": "stream",
     "text": [
      "/usr/local/lib/python3.8/dist-packages/seaborn/_decorators.py:36: FutureWarning:\n",
      "\n",
      "Pass the following variable as a keyword arg: x. From version 0.12, the only valid positional argument will be `data`, and passing other arguments without an explicit keyword will result in an error or misinterpretation.\n",
      "\n"
     ]
    },
    {
     "data": {
      "text/plain": [
       "<matplotlib.axes._subplots.AxesSubplot at 0x7f2cb6cb0f10>"
      ]
     },
     "execution_count": 17,
     "metadata": {},
     "output_type": "execute_result"
    },
    {
     "data": {
      "image/png": "[encoded data removed]",
      "text/plain": [
       "<Figure size 720x720 with 1 Axes>"
      ]
     },
     "metadata": {},
     "output_type": "display_data"
    }
   ],
   "source": [
    "sns.countplot(df['Product_Category_2'],hue=df['combined_G_M'])"
   ]
  },
  {
   "cell_type": "code",
   "execution_count": null,
   "metadata": {
    "colab": {
     "base_uri": "https://localhost:8080/",
     "height": 718
    },
    "executionInfo": {
     "elapsed": 714,
     "status": "ok",
     "timestamp": 1673497617896,
     "user": {
      "displayName": "kartina azman",
      "userId": "06088607451388305319"
     },
     "user_tz": -480
    },
    "id": "cmHcszM_laOu",
    "outputId": "68d30400-1cce-4cf8-9f33-3c00018b7f6a"
   },
   "outputs": [
    {
     "name": "stderr",
     "output_type": "stream",
     "text": [
      "/usr/local/lib/python3.8/dist-packages/seaborn/_decorators.py:36: FutureWarning:\n",
      "\n",
      "Pass the following variable as a keyword arg: x. From version 0.12, the only valid positional argument will be `data`, and passing other arguments without an explicit keyword will result in an error or misinterpretation.\n",
      "\n"
     ]
    },
    {
     "data": {
      "text/plain": [
       "<matplotlib.axes._subplots.AxesSubplot at 0x7f2caf59ab50>"
      ]
     },
     "execution_count": 18,
     "metadata": {},
     "output_type": "execute_result"
    },
    {
     "data": {
      "image/png": "[encoded data removed]",
      "text/plain": [
       "<Figure size 720x720 with 1 Axes>"
      ]
     },
     "metadata": {},
     "output_type": "display_data"
    }
   ],
   "source": [
    "\n",
    "sns.countplot(df['Product_Category_3'],hue=df['combined_G_M'])"
   ]
  },
  {
   "cell_type": "markdown",
   "metadata": {
    "id": "LEZYGh4RGy-1"
   },
   "source": [
    "B) Age"
   ]
  },
  {
   "cell_type": "code",
   "execution_count": null,
   "metadata": {
    "colab": {
     "base_uri": "https://localhost:8080/",
     "height": 542
    },
    "executionInfo": {
     "elapsed": 1098,
     "status": "ok",
     "timestamp": 1673498248318,
     "user": {
      "displayName": "kartina azman",
      "userId": "06088607451388305319"
     },
     "user_tz": -480
    },
    "id": "hai_FCimGz3t",
    "outputId": "1dde0b17-7ff8-41c0-dc44-f30a2754080a"
   },
   "outputs": [
    {
     "data": {
      "text/html": [
       "<html>\n",
       "<head><meta charset=\"utf-8\" /></head>\n",
       "<body>\n",
       "    <div>            <script src=\"https://cdnjs.cloudflare.com/ajax/libs/mathjax/2.7.5/MathJax.js?config=TeX-AMS-MML_SVG\"></script><script type=\"text/javascript\">if (window.MathJax) {MathJax.Hub.Config({SVG: {font: \"STIX-Web\"}});}</script>                <script type=\"text/javascript\">window.PlotlyConfig = {MathJaxConfig: 'local'};</script>\n",
       "        <script src=\"https://cdn.plot.ly/plotly-2.8.3.min.js\"></script>                <div id=\"a4e8d0b8-72d4-492d-9511-4b63823c1092\" class=\"plotly-graph-div\" style=\"height:525px; width:100%;\"></div>            <script type=\"text/javascript\">                                    window.PLOTLYENV=window.PLOTLYENV || {};                                    if (document.getElementById(\"a4e8d0b8-72d4-492d-9511-4b63823c1092\")) {                    Plotly.newPlot(                        \"a4e8d0b8-72d4-492d-9511-4b63823c1092\",                        [{\"marker\":{\"color\":[\"white\",\"coral\",\"plum\",\"navy\",\"crimson\",\"royalblue\",\"teal\"],\"line\":{\"color\":\"#7C7C7C\",\"width\":0.5}},\"name\":\"Amount of Sold Product\",\"text\":[\"Age: 0-17\",\"Age: 18-25\",\"Age: 26-35\",\"Age: 36-45\",\"Age: 46-50\",\"Age: 51-55\",\"Age: 55+\"],\"x\":[\"0-17\",\"18-25\",\"26-35\",\"36-45\",\"46-50\",\"51-55\",\"55+\"],\"y\":[15102,99660,219587,110013,45701,38501,21504],\"type\":\"bar\"}],                        {\"template\":{\"data\":{\"barpolar\":[{\"marker\":{\"line\":{\"color\":\"#E5ECF6\",\"width\":0.5},\"pattern\":{\"fillmode\":\"overlay\",\"size\":10,\"solidity\":0.2}},\"type\":\"barpolar\"}],\"bar\":[{\"error_x\":{\"color\":\"#2a3f5f\"},\"error_y\":{\"color\":\"#2a3f5f\"},\"marker\":{\"line\":{\"color\":\"#E5ECF6\",\"width\":0.5},\"pattern\":{\"fillmode\":\"overlay\",\"size\":10,\"solidity\":0.2}},\"type\":\"bar\"}],\"carpet\":[{\"aaxis\":{\"endlinecolor\":\"#2a3f5f\",\"gridcolor\":\"white\",\"linecolor\":\"white\",\"minorgridcolor\":\"white\",\"startlinecolor\":\"#2a3f5f\"},\"baxis\":{\"endlinecolor\":\"#2a3f5f\",\"gridcolor\":\"white\",\"linecolor\":\"white\",\"minorgridcolor\":\"white\",\"startlinecolor\":\"#2a3f5f\"},\"type\":\"carpet\"}],\"choropleth\":[{\"colorbar\":{\"outlinewidth\":0,\"ticks\":\"\"},\"type\":\"choropleth\"}],\"contourcarpet\":[{\"colorbar\":{\"outlinewidth\":0,\"ticks\":\"\"},\"type\":\"contourcarpet\"}],\"contour\":[{\"colorbar\":{\"outlinewidth\":0,\"ticks\":\"\"},\"colorscale\":[[0.0,\"#0d0887\"],[0.1111111111111111,\"#46039f\"],[0.2222222222222222,\"#7201a8\"],[0.3333333333333333,\"#9c179e\"],[0.4444444444444444,\"#bd3786\"],[0.5555555555555556,\"#d8576b\"],[0.6666666666666666,\"#ed7953\"],[0.7777777777777778,\"#fb9f3a\"],[0.8888888888888888,\"#fdca26\"],[1.0,\"#f0f921\"]],\"type\":\"contour\"}],\"heatmapgl\":[{\"colorbar\":{\"outlinewidth\":0,\"ticks\":\"\"},\"colorscale\":[[0.0,\"#0d0887\"],[0.1111111111111111,\"#46039f\"],[0.2222222222222222,\"#7201a8\"],[0.3333333333333333,\"#9c179e\"],[0.4444444444444444,\"#bd3786\"],[0.5555555555555556,\"#d8576b\"],[0.6666666666666666,\"#ed7953\"],[0.7777777777777778,\"#fb9f3a\"],[0.8888888888888888,\"#fdca26\"],[1.0,\"#f0f921\"]],\"type\":\"heatmapgl\"}],\"heatmap\":[{\"colorbar\":{\"outlinewidth\":0,\"ticks\":\"\"},\"colorscale\":[[0.0,\"#0d0887\"],[0.1111111111111111,\"#46039f\"],[0.2222222222222222,\"#7201a8\"],[0.3333333333333333,\"#9c179e\"],[0.4444444444444444,\"#bd3786\"],[0.5555555555555556,\"#d8576b\"],[0.6666666666666666,\"#ed7953\"],[0.7777777777777778,\"#fb9f3a\"],[0.8888888888888888,\"#fdca26\"],[1.0,\"#f0f921\"]],\"type\":\"heatmap\"}],\"histogram2dcontour\":[{\"colorbar\":{\"outlinewidth\":0,\"ticks\":\"\"},\"colorscale\":[[0.0,\"#0d0887\"],[0.1111111111111111,\"#46039f\"],[0.2222222222222222,\"#7201a8\"],[0.3333333333333333,\"#9c179e\"],[0.4444444444444444,\"#bd3786\"],[0.5555555555555556,\"#d8576b\"],[0.6666666666666666,\"#ed7953\"],[0.7777777777777778,\"#fb9f3a\"],[0.8888888888888888,\"#fdca26\"],[1.0,\"#f0f921\"]],\"type\":\"histogram2dcontour\"}],\"histogram2d\":[{\"colorbar\":{\"outlinewidth\":0,\"ticks\":\"\"},\"colorscale\":[[0.0,\"#0d0887\"],[0.1111111111111111,\"#46039f\"],[0.2222222222222222,\"#7201a8\"],[0.3333333333333333,\"#9c179e\"],[0.4444444444444444,\"#bd3786\"],[0.5555555555555556,\"#d8576b\"],[0.6666666666666666,\"#ed7953\"],[0.7777777777777778,\"#fb9f3a\"],[0.8888888888888888,\"#fdca26\"],[1.0,\"#f0f921\"]],\"type\":\"histogram2d\"}],\"histogram\":[{\"marker\":{\"pattern\":{\"fillmode\":\"overlay\",\"size\":10,\"solidity\":0.2}},\"type\":\"histogram\"}],\"mesh3d\":[{\"colorbar\":{\"outlinewidth\":0,\"ticks\":\"\"},\"type\":\"mesh3d\"}],\"parcoords\":[{\"line\":{\"colorbar\":{\"outlinewidth\":0,\"ticks\":\"\"}},\"type\":\"parcoords\"}],\"pie\":[{\"automargin\":true,\"type\":\"pie\"}],\"scatter3d\":[{\"line\":{\"colorbar\":{\"outlinewidth\":0,\"ticks\":\"\"}},\"marker\":{\"colorbar\":{\"outlinewidth\":0,\"ticks\":\"\"}},\"type\":\"scatter3d\"}],\"scattercarpet\":[{\"marker\":{\"colorbar\":{\"outlinewidth\":0,\"ticks\":\"\"}},\"type\":\"scattercarpet\"}],\"scattergeo\":[{\"marker\":{\"colorbar\":{\"outlinewidth\":0,\"ticks\":\"\"}},\"type\":\"scattergeo\"}],\"scattergl\":[{\"marker\":{\"colorbar\":{\"outlinewidth\":0,\"ticks\":\"\"}},\"type\":\"scattergl\"}],\"scattermapbox\":[{\"marker\":{\"colorbar\":{\"outlinewidth\":0,\"ticks\":\"\"}},\"type\":\"scattermapbox\"}],\"scatterpolargl\":[{\"marker\":{\"colorbar\":{\"outlinewidth\":0,\"ticks\":\"\"}},\"type\":\"scatterpolargl\"}],\"scatterpolar\":[{\"marker\":{\"colorbar\":{\"outlinewidth\":0,\"ticks\":\"\"}},\"type\":\"scatterpolar\"}],\"scatter\":[{\"marker\":{\"colorbar\":{\"outlinewidth\":0,\"ticks\":\"\"}},\"type\":\"scatter\"}],\"scatterternary\":[{\"marker\":{\"colorbar\":{\"outlinewidth\":0,\"ticks\":\"\"}},\"type\":\"scatterternary\"}],\"surface\":[{\"colorbar\":{\"outlinewidth\":0,\"ticks\":\"\"},\"colorscale\":[[0.0,\"#0d0887\"],[0.1111111111111111,\"#46039f\"],[0.2222222222222222,\"#7201a8\"],[0.3333333333333333,\"#9c179e\"],[0.4444444444444444,\"#bd3786\"],[0.5555555555555556,\"#d8576b\"],[0.6666666666666666,\"#ed7953\"],[0.7777777777777778,\"#fb9f3a\"],[0.8888888888888888,\"#fdca26\"],[1.0,\"#f0f921\"]],\"type\":\"surface\"}],\"table\":[{\"cells\":{\"fill\":{\"color\":\"#EBF0F8\"},\"line\":{\"color\":\"white\"}},\"header\":{\"fill\":{\"color\":\"#C8D4E3\"},\"line\":{\"color\":\"white\"}},\"type\":\"table\"}]},\"layout\":{\"annotationdefaults\":{\"arrowcolor\":\"#2a3f5f\",\"arrowhead\":0,\"arrowwidth\":1},\"autotypenumbers\":\"strict\",\"coloraxis\":{\"colorbar\":{\"outlinewidth\":0,\"ticks\":\"\"}},\"colorscale\":{\"diverging\":[[0,\"#8e0152\"],[0.1,\"#c51b7d\"],[0.2,\"#de77ae\"],[0.3,\"#f1b6da\"],[0.4,\"#fde0ef\"],[0.5,\"#f7f7f7\"],[0.6,\"#e6f5d0\"],[0.7,\"#b8e186\"],[0.8,\"#7fbc41\"],[0.9,\"#4d9221\"],[1,\"#276419\"]],\"sequential\":[[0.0,\"#0d0887\"],[0.1111111111111111,\"#46039f\"],[0.2222222222222222,\"#7201a8\"],[0.3333333333333333,\"#9c179e\"],[0.4444444444444444,\"#bd3786\"],[0.5555555555555556,\"#d8576b\"],[0.6666666666666666,\"#ed7953\"],[0.7777777777777778,\"#fb9f3a\"],[0.8888888888888888,\"#fdca26\"],[1.0,\"#f0f921\"]],\"sequentialminus\":[[0.0,\"#0d0887\"],[0.1111111111111111,\"#46039f\"],[0.2222222222222222,\"#7201a8\"],[0.3333333333333333,\"#9c179e\"],[0.4444444444444444,\"#bd3786\"],[0.5555555555555556,\"#d8576b\"],[0.6666666666666666,\"#ed7953\"],[0.7777777777777778,\"#fb9f3a\"],[0.8888888888888888,\"#fdca26\"],[1.0,\"#f0f921\"]]},\"colorway\":[\"#636efa\",\"#EF553B\",\"#00cc96\",\"#ab63fa\",\"#FFA15A\",\"#19d3f3\",\"#FF6692\",\"#B6E880\",\"#FF97FF\",\"#FECB52\"],\"font\":{\"color\":\"#2a3f5f\"},\"geo\":{\"bgcolor\":\"white\",\"lakecolor\":\"white\",\"landcolor\":\"#E5ECF6\",\"showlakes\":true,\"showland\":true,\"subunitcolor\":\"white\"},\"hoverlabel\":{\"align\":\"left\"},\"hovermode\":\"closest\",\"mapbox\":{\"style\":\"light\"},\"paper_bgcolor\":\"white\",\"plot_bgcolor\":\"#E5ECF6\",\"polar\":{\"angularaxis\":{\"gridcolor\":\"white\",\"linecolor\":\"white\",\"ticks\":\"\"},\"bgcolor\":\"#E5ECF6\",\"radialaxis\":{\"gridcolor\":\"white\",\"linecolor\":\"white\",\"ticks\":\"\"}},\"scene\":{\"xaxis\":{\"backgroundcolor\":\"#E5ECF6\",\"gridcolor\":\"white\",\"gridwidth\":2,\"linecolor\":\"white\",\"showbackground\":true,\"ticks\":\"\",\"zerolinecolor\":\"white\"},\"yaxis\":{\"backgroundcolor\":\"#E5ECF6\",\"gridcolor\":\"white\",\"gridwidth\":2,\"linecolor\":\"white\",\"showbackground\":true,\"ticks\":\"\",\"zerolinecolor\":\"white\"},\"zaxis\":{\"backgroundcolor\":\"#E5ECF6\",\"gridcolor\":\"white\",\"gridwidth\":2,\"linecolor\":\"white\",\"showbackground\":true,\"ticks\":\"\",\"zerolinecolor\":\"white\"}},\"shapedefaults\":{\"line\":{\"color\":\"#2a3f5f\"}},\"ternary\":{\"aaxis\":{\"gridcolor\":\"white\",\"linecolor\":\"white\",\"ticks\":\"\"},\"baxis\":{\"gridcolor\":\"white\",\"linecolor\":\"white\",\"ticks\":\"\"},\"bgcolor\":\"#E5ECF6\",\"caxis\":{\"gridcolor\":\"white\",\"linecolor\":\"white\",\"ticks\":\"\"}},\"title\":{\"x\":0.05},\"xaxis\":{\"automargin\":true,\"gridcolor\":\"white\",\"linecolor\":\"white\",\"ticks\":\"\",\"title\":{\"standoff\":15},\"zerolinecolor\":\"white\",\"zerolinewidth\":2},\"yaxis\":{\"automargin\":true,\"gridcolor\":\"white\",\"linecolor\":\"white\",\"ticks\":\"\",\"title\":{\"standoff\":15},\"zerolinecolor\":\"white\",\"zerolinewidth\":2}}},\"title\":{\"text\":\"Amount of Sold Product according to Age Group\"}},                        {\"responsive\": true}                    ).then(function(){\n",
       "                            \n",
       "var gd = document.getElementById('a4e8d0b8-72d4-492d-9511-4b63823c1092');\n",
       "var x = new MutationObserver(function (mutations, observer) {{\n",
       "        var display = window.getComputedStyle(gd).display;\n",
       "        if (!display || display === 'none') {{\n",
       "            console.log([gd, 'removed!']);\n",
       "            Plotly.purge(gd);\n",
       "            observer.disconnect();\n",
       "        }}\n",
       "}});\n",
       "\n",
       "// Listen for the removal of the full notebook cells\n",
       "var notebookContainer = gd.closest('#notebook-container');\n",
       "if (notebookContainer) {{\n",
       "    x.observe(notebookContainer, {childList: true});\n",
       "}}\n",
       "\n",
       "// Listen for the clearing of the current output cell\n",
       "var outputEl = gd.closest('.output');\n",
       "if (outputEl) {{\n",
       "    x.observe(outputEl, {childList: true});\n",
       "}}\n",
       "\n",
       "                        })                };                            </script>        </div>\n",
       "</body>\n",
       "</html>"
      ]
     },
     "metadata": {},
     "output_type": "display_data"
    }
   ],
   "source": [
    "ageData = sorted(list(zip(df.Age.value_counts().index, df.Age.value_counts().values)))\n",
    "age, productBuy = zip(*ageData)\n",
    "age, productBuy = list(age), list(productBuy)\n",
    "ageSeries = pd.Series((i for i in age))\n",
    "\n",
    "data = [go.Bar(x=age, \n",
    "               y=productBuy, \n",
    "               name=\"Amount of Sold Product\",\n",
    "               marker = dict(color=['white', 'coral', 'plum', 'navy', 'crimson', 'royalblue', 'teal'],\n",
    "                            line = dict(color='#7C7C7C', width = .5)),\n",
    "              text=\"Age: \" + ageSeries)]\n",
    "layout = go.Layout(title= \"Amount of Sold Product according to Age Group\")\n",
    "fig = go.Figure(data=data, layout=layout)\n",
    "iplot(fig)"
   ]
  },
  {
   "cell_type": "code",
   "execution_count": null,
   "metadata": {
    "colab": {
     "base_uri": "https://localhost:8080/"
    },
    "executionInfo": {
     "elapsed": 321,
     "status": "ok",
     "timestamp": 1673803242735,
     "user": {
      "displayName": "kartina azman",
      "userId": "06088607451388305319"
     },
     "user_tz": -480
    },
    "id": "PLpnItesDmkk",
    "outputId": "96f6c620-b515-4b59-f5ae-b6624dfb4eec"
   },
   "outputs": [
    {
     "data": {
      "text/plain": [
       "Index(['26-35', '36-45', '18-25', '46-50', '51-55', '55+', '0-17'], dtype='object')"
      ]
     },
     "execution_count": 31,
     "metadata": {},
     "output_type": "execute_result"
    }
   ],
   "source": [
    "df.Age.value_counts().index"
   ]
  },
  {
   "cell_type": "code",
   "execution_count": null,
   "metadata": {
    "colab": {
     "base_uri": "https://localhost:8080/"
    },
    "executionInfo": {
     "elapsed": 325,
     "status": "ok",
     "timestamp": 1673803245367,
     "user": {
      "displayName": "kartina azman",
      "userId": "06088607451388305319"
     },
     "user_tz": -480
    },
    "id": "QRf6pBPtDq6c",
    "outputId": "294b5618-d47b-4ac4-a21f-432bccf55447"
   },
   "outputs": [
    {
     "data": {
      "text/plain": [
       "array([219587, 110013,  99660,  45701,  38501,  21504,  15102])"
      ]
     },
     "execution_count": 32,
     "metadata": {},
     "output_type": "execute_result"
    }
   ],
   "source": [
    "df.Age.value_counts().values"
   ]
  },
  {
   "cell_type": "code",
   "execution_count": null,
   "metadata": {
    "colab": {
     "base_uri": "https://localhost:8080/"
    },
    "executionInfo": {
     "elapsed": 520,
     "status": "ok",
     "timestamp": 1673803247667,
     "user": {
      "displayName": "kartina azman",
      "userId": "06088607451388305319"
     },
     "user_tz": -480
    },
    "id": "SzoI90jUEaDv",
    "outputId": "8a1fc56f-215c-4ace-bdcd-11aaa8c7edc9"
   },
   "outputs": [
    {
     "data": {
      "text/plain": [
       "[('26-35', 219587),\n",
       " ('36-45', 110013),\n",
       " ('18-25', 99660),\n",
       " ('46-50', 45701),\n",
       " ('51-55', 38501),\n",
       " ('55+', 21504),\n",
       " ('0-17', 15102)]"
      ]
     },
     "execution_count": 33,
     "metadata": {},
     "output_type": "execute_result"
    }
   ],
   "source": [
    "list(zip(df.Age.value_counts().index, df.Age.value_counts().values))"
   ]
  },
  {
   "cell_type": "code",
   "execution_count": null,
   "metadata": {
    "colab": {
     "base_uri": "https://localhost:8080/"
    },
    "executionInfo": {
     "elapsed": 338,
     "status": "ok",
     "timestamp": 1673803250271,
     "user": {
      "displayName": "kartina azman",
      "userId": "06088607451388305319"
     },
     "user_tz": -480
    },
    "id": "vFuCUXbgEeej",
    "outputId": "25a4bfe2-5f46-4a65-b358-78eb2ca315b9"
   },
   "outputs": [
    {
     "data": {
      "text/plain": [
       "[('0-17', 15102),\n",
       " ('18-25', 99660),\n",
       " ('26-35', 219587),\n",
       " ('36-45', 110013),\n",
       " ('46-50', 45701),\n",
       " ('51-55', 38501),\n",
       " ('55+', 21504)]"
      ]
     },
     "execution_count": 34,
     "metadata": {},
     "output_type": "execute_result"
    }
   ],
   "source": [
    "sorted(list(zip(df.Age.value_counts().index, df.Age.value_counts().values)))"
   ]
  },
  {
   "cell_type": "markdown",
   "metadata": {
    "id": "AfGhgdp7JeqB"
   },
   "source": [
    "C) Product"
   ]
  },
  {
   "cell_type": "code",
   "execution_count": null,
   "metadata": {
    "colab": {
     "base_uri": "https://localhost:8080/",
     "height": 702
    },
    "executionInfo": {
     "elapsed": 475,
     "status": "ok",
     "timestamp": 1673878612575,
     "user": {
      "displayName": "kartina azman",
      "userId": "06088607451388305319"
     },
     "user_tz": -480
    },
    "id": "0u5W_0AYDPX_",
    "outputId": "21ba2feb-ba06-4394-f0e8-4356dd5d87af"
   },
   "outputs": [
    {
     "name": "stdout",
     "output_type": "stream",
     "text": [
      "     Product_Category  Total Amount Sold\n",
      "0  Product_Category_1             550068\n",
      "1  Product_Category_2             376430\n",
      "2  Product_Category_3             166821\n"
     ]
    },
    {
     "data": {
      "image/png": "[encoded data removed]",
      "text/plain": [
       "<Figure size 720x720 with 1 Axes>"
      ]
     },
     "metadata": {},
     "output_type": "display_data"
    }
   ],
   "source": [
    "\n",
    "# Products Sold\n",
    "product={\n",
    "    'Product_Category':['Product_Category_1','Product_Category_2','Product_Category_3'],\n",
    "    'Total Amount Sold':[df.Product_Category_1.value_counts().sum(),df.Product_Category_2.value_counts().sum(),df.Product_Category_3.value_counts().sum()]\n",
    "        }\n",
    "product_df=pd.DataFrame(product)\n",
    "print(product_df)\n",
    "\n",
    "product_df.plot.bar(x='Product_Category',y='Total Amount Sold',color='#9CCC9C',rot=0)\n",
    "plt.title('Total Sold by Product Category', fontsize = 20)\n",
    "plt.show()"
   ]
  },
  {
   "cell_type": "markdown",
   "metadata": {
    "id": "e4rn8bZHqYiB"
   },
   "source": [
    "D) City\n"
   ]
  },
  {
   "cell_type": "code",
   "execution_count": null,
   "metadata": {
    "colab": {
     "base_uri": "https://localhost:8080/",
     "height": 667
    },
    "executionInfo": {
     "elapsed": 1626,
     "status": "ok",
     "timestamp": 1673878618287,
     "user": {
      "displayName": "kartina azman",
      "userId": "06088607451388305319"
     },
     "user_tz": -480
    },
    "id": "4y2nYWx_qeiA",
    "outputId": "34f2c4ce-903b-4dd1-d1b6-2722a16cd8c9"
   },
   "outputs": [
    {
     "name": "stderr",
     "output_type": "stream",
     "text": [
      "/usr/local/lib/python3.8/dist-packages/seaborn/_decorators.py:36: FutureWarning:\n",
      "\n",
      "Pass the following variable as a keyword arg: x. From version 0.12, the only valid positional argument will be `data`, and passing other arguments without an explicit keyword will result in an error or misinterpretation.\n",
      "\n"
     ]
    },
    {
     "data": {
      "image/png": "[encoded data removed]",
      "text/plain": [
       "<Figure size 1296x648 with 1 Axes>"
      ]
     },
     "metadata": {},
     "output_type": "display_data"
    }
   ],
   "source": [
    "###City\n",
    "palette=sns.set_palette(\"pastel\")\n",
    "plt.rcParams['figure.figsize'] = (18, 9)\n",
    "sns.countplot(df['City_Category'], palette = palette)\n",
    "plt.title('Distribution of Cities across customers', fontsize = 20)\n",
    "plt.xlabel('Cities')\n",
    "plt.ylabel('Count')\n",
    "plt.show()"
   ]
  },
  {
   "cell_type": "markdown",
   "metadata": {
    "id": "tiILOTghqlTq"
   },
   "source": [
    "E) Customer's Occupation\n"
   ]
  },
  {
   "cell_type": "code",
   "execution_count": null,
   "metadata": {
    "colab": {
     "base_uri": "https://localhost:8080/",
     "height": 667
    },
    "executionInfo": {
     "elapsed": 953,
     "status": "ok",
     "timestamp": 1673803376342,
     "user": {
      "displayName": "kartina azman",
      "userId": "06088607451388305319"
     },
     "user_tz": -480
    },
    "id": "Fgxwtsy6qqE0",
    "outputId": "55ab868e-c596-4d22-91cb-ccf4b1d166cc"
   },
   "outputs": [
    {
     "name": "stderr",
     "output_type": "stream",
     "text": [
      "/usr/local/lib/python3.8/dist-packages/seaborn/_decorators.py:36: FutureWarning:\n",
      "\n",
      "Pass the following variable as a keyword arg: x. From version 0.12, the only valid positional argument will be `data`, and passing other arguments without an explicit keyword will result in an error or misinterpretation.\n",
      "\n"
     ]
    },
    {
     "data": {
      "image/png": "[encoded data removed]",
      "text/plain": [
       "<Figure size 1296x648 with 1 Axes>"
      ]
     },
     "metadata": {},
     "output_type": "display_data"
    }
   ],
   "source": [
    "##Distribution of Customers by Occupation\n",
    "palette=sns.color_palette(\"RdPu\")\n",
    "\n",
    "plt.rcParams['figure.figsize'] = (18, 9)\n",
    "sns.countplot(df['Occupation'], palette = palette)\n",
    "plt.title('Distribution of Occupation across customers', fontsize = 20)\n",
    "plt.xlabel('Occupation')\n",
    "plt.ylabel('Count')\n",
    "plt.show()"
   ]
  },
  {
   "cell_type": "code",
   "execution_count": null,
   "metadata": {
    "colab": {
     "base_uri": "https://localhost:8080/",
     "height": 469
    },
    "executionInfo": {
     "elapsed": 785,
     "status": "ok",
     "timestamp": 1673803380989,
     "user": {
      "displayName": "kartina azman",
      "userId": "06088607451388305319"
     },
     "user_tz": -480
    },
    "id": "wd-q6g01qyFh",
    "outputId": "2e0a30d6-dd13-41b9-b7e7-a8b97d2983bd"
   },
   "outputs": [
    {
     "data": {
      "image/png": "[encoded data removed]",
      "text/plain": [
       "<Figure size 1440x504 with 1 Axes>"
      ]
     },
     "metadata": {},
     "output_type": "display_data"
    }
   ],
   "source": [
    "### Purchase amount by Occupation\n",
    "palette=sns.color_palette(\"RdPu\")\n",
    "spent_by_occ = df.groupby(by='Occupation').sum()['Purchase']\n",
    "plt.figure(figsize=(20, 7))\n",
    "\n",
    "sns.barplot(x=spent_by_occ.index,y=spent_by_occ.values,palette=palette)\n",
    "plt.title('Total Money Spent per Occupation',fontsize = 20)\n",
    "plt.show()"
   ]
  },
  {
   "cell_type": "code",
   "execution_count": null,
   "metadata": {
    "colab": {
     "base_uri": "https://localhost:8080/",
     "height": 602
    },
    "executionInfo": {
     "elapsed": 1472,
     "status": "ok",
     "timestamp": 1673871453988,
     "user": {
      "displayName": "Muhammaf zarif iqram Mat Rozali",
      "userId": "03892399400558550753"
     },
     "user_tz": -480
    },
    "id": "HSQYX1DGADgr",
    "outputId": "548cfa49-6e6d-40c4-d265-82df8c8c137c"
   },
   "outputs": [
    {
     "data": {
      "image/png": "[encoded data removed]",
      "text/plain": [
       "<Figure size 576x576 with 2 Axes>"
      ]
     },
     "metadata": {},
     "output_type": "display_data"
    }
   ],
   "source": [
    "# Plotting a heatmap to calculate correlation between the inputs and the outputs\n",
    "\n",
    "finaldata_hm = sns.heatmap(df.corr(), annot = True)\n",
    "finaldata_hm.set(title = 'Correlation matrix of Black Friday Sales')\n",
    "sns.set(rc={\"figure.figsize\":(20,30)})\n",
    "plt.show()"
   ]
  },
  {
   "cell_type": "code",
   "execution_count": null,
   "metadata": {
    "colab": {
     "base_uri": "https://localhost:8080/",
     "height": 628
    },
    "executionInfo": {
     "elapsed": 3789,
     "status": "ok",
     "timestamp": 1673803394614,
     "user": {
      "displayName": "kartina azman",
      "userId": "06088607451388305319"
     },
     "user_tz": -480
    },
    "id": "bBu_gppRBCFM",
    "outputId": "924ac44b-ebcd-4754-c618-df0439aeec5b"
   },
   "outputs": [
    {
     "data": {
      "text/plain": [
       "<matplotlib.axes._subplots.AxesSubplot at 0x7fc2d7978d00>"
      ]
     },
     "execution_count": 40,
     "metadata": {},
     "output_type": "execute_result"
    },
    {
     "data": {
      "image/png": "[encoded data removed]",
      "text/plain": [
       "<Figure size 720x720 with 1 Axes>"
      ]
     },
     "metadata": {},
     "output_type": "display_data"
    }
   ],
   "source": [
    "plt.figure(figsize=(10, 10))\n",
    "sns.kdeplot(x='Purchase', data = df)"
   ]
  },
  {
   "cell_type": "code",
   "execution_count": null,
   "metadata": {
    "colab": {
     "base_uri": "https://localhost:8080/"
    },
    "executionInfo": {
     "elapsed": 332,
     "status": "ok",
     "timestamp": 1673803401876,
     "user": {
      "displayName": "kartina azman",
      "userId": "06088607451388305319"
     },
     "user_tz": -480
    },
    "id": "7S5zVg9UIBu4",
    "outputId": "bb149f13-5fa2-478d-d54f-879982bcb7bb"
   },
   "outputs": [
    {
     "name": "stdout",
     "output_type": "stream",
     "text": [
      "Occupation  (skew) =  0.40014010986184784\n",
      "Occupation  (kurtosis) =  -1.21611364874086\n",
      "\n",
      "Purchase (skew) =  0.6001400037087128\n",
      "Purchase (kurtosis) =  -0.3383775655851702\n"
     ]
    }
   ],
   "source": [
    "### Third and Fourth Moment Business Decision ###\n",
    "\n",
    "# Skew and Kurtosis\n",
    "import scipy.stats as stats\n",
    "\n",
    "stats.mode(df['Occupation'])\n",
    "print('Occupation  (skew) = ', df['Occupation'].skew())\n",
    "print('Occupation  (kurtosis) = ', df['Occupation'].kurt())\n",
    "print('')\n",
    "stats.mode(df.Purchase)\n",
    "print('Purchase (skew) = ', df.Purchase.skew())\n",
    "print('Purchase (kurtosis) = ', df.Purchase.kurt())\n"
   ]
  },
  {
   "cell_type": "markdown",
   "metadata": {
    "id": "GlzEFO_Iopyv"
   },
   "source": [
    "# Data Preparation"
   ]
  },
  {
   "cell_type": "markdown",
   "metadata": {
    "id": "e35kMozkzTpC"
   },
   "source": [
    "# Data Cleaning\n",
    "After exploring the data, necessary steps need to be taken before building the models. The exploration showed that some of the features contain (> 25%) missing values in the feature.some of the feature containing value that is unique in each row. Hence, this feature need to be removed. Moreover other cleaning steps such as outlier and redundancy need to be addressed as well."
   ]
  },
  {
   "cell_type": "markdown",
   "metadata": {
    "id": "vkDmXqa30en1"
   },
   "source": [
    "## Handling missing values"
   ]
  },
  {
   "cell_type": "code",
   "execution_count": 7,
   "metadata": {
    "colab": {
     "base_uri": "https://localhost:8080/"
    },
    "executionInfo": {
     "elapsed": 349,
     "status": "ok",
     "timestamp": 1674221912034,
     "user": {
      "displayName": "Muhammaf zarif iqram Mat Rozali",
      "userId": "03892399400558550753"
     },
     "user_tz": -480
    },
    "id": "4HnbplVi2paM",
    "outputId": "441102a6-a794-497c-aca2-30934df990ca"
   },
   "outputs": [
    {
     "data": {
      "text/plain": [
       "User_ID                       0\n",
       "Product_ID                    0\n",
       "Gender                        0\n",
       "Age                           0\n",
       "Occupation                    0\n",
       "City_Category                 0\n",
       "Stay_In_Current_City_Years    0\n",
       "Marital_Status                0\n",
       "Product_Category_1            0\n",
       "Product_Category_2            0\n",
       "Product_Category_3            0\n",
       "Purchase                      0\n",
       "dtype: int64"
      ]
     },
     "execution_count": 7,
     "metadata": {},
     "output_type": "execute_result"
    }
   ],
   "source": [
    "clean_df = df.copy()\n",
    "\n",
    "clean_df['Product_Category_2'] = clean_df['Product_Category_2'].fillna(clean_df['Product_Category_2'].max()) \n",
    "clean_df['Product_Category_3'] = clean_df['Product_Category_3'].fillna(clean_df['Product_Category_3'].max()) \n",
    "\n",
    "clean_df.isnull().sum()"
   ]
  },
  {
   "cell_type": "markdown",
   "metadata": {
    "id": "6NdHcML120Cb"
   },
   "source": [
    "## Identify and Removing duplicate record"
   ]
  },
  {
   "cell_type": "code",
   "execution_count": 8,
   "metadata": {
    "colab": {
     "base_uri": "https://localhost:8080/",
     "height": 50
    },
    "executionInfo": {
     "elapsed": 734,
     "status": "ok",
     "timestamp": 1674221923757,
     "user": {
      "displayName": "Muhammaf zarif iqram Mat Rozali",
      "userId": "03892399400558550753"
     },
     "user_tz": -480
    },
    "id": "uootwynG24eM",
    "outputId": "687cd87e-ec17-4367-f7c9-74244103eb5c"
   },
   "outputs": [
    {
     "data": {
      "text/html": [
       "\n",
       "  <div id=\"df-799593fa-e788-4b1f-85df-c2770cc23087\">\n",
       "    <div class=\"colab-df-container\">\n",
       "      <div>\n",
       "<style scoped>\n",
       "    .dataframe tbody tr th:only-of-type {\n",
       "        vertical-align: middle;\n",
       "    }\n",
       "\n",
       "    .dataframe tbody tr th {\n",
       "        vertical-align: top;\n",
       "    }\n",
       "\n",
       "    .dataframe thead th {\n",
       "        text-align: right;\n",
       "    }\n",
       "</style>\n",
       "<table border=\"1\" class=\"dataframe\">\n",
       "  <thead>\n",
       "    <tr style=\"text-align: right;\">\n",
       "      <th></th>\n",
       "      <th>User_ID</th>\n",
       "      <th>Product_ID</th>\n",
       "      <th>Gender</th>\n",
       "      <th>Age</th>\n",
       "      <th>Occupation</th>\n",
       "      <th>City_Category</th>\n",
       "      <th>Stay_In_Current_City_Years</th>\n",
       "      <th>Marital_Status</th>\n",
       "      <th>Product_Category_1</th>\n",
       "      <th>Product_Category_2</th>\n",
       "      <th>Product_Category_3</th>\n",
       "      <th>Purchase</th>\n",
       "    </tr>\n",
       "  </thead>\n",
       "  <tbody>\n",
       "  </tbody>\n",
       "</table>\n",
       "</div>\n",
       "      <button class=\"colab-df-convert\" onclick=\"convertToInteractive('df-799593fa-e788-4b1f-85df-c2770cc23087')\"\n",
       "              title=\"Convert this dataframe to an interactive table.\"\n",
       "              style=\"display:none;\">\n",
       "        \n",
       "  <svg xmlns=\"http://www.w3.org/2000/svg\" height=\"24px\"viewBox=\"0 0 24 24\"\n",
       "       width=\"24px\">\n",
       "    <path d=\"M0 0h24v24H0V0z\" fill=\"none\"/>\n",
       "    <path d=\"M18.56 5.44l.94 2.06.94-2.06 2.06-.94-2.06-.94-.94-2.06-.94 2.06-2.06.94zm-11 1L8.5 8.5l.94-2.06 2.06-.94-2.06-.94L8.5 2.5l-.94 2.06-2.06.94zm10 10l.94 2.06.94-2.06 2.06-.94-2.06-.94-.94-2.06-.94 2.06-2.06.94z\"/><path d=\"M17.41 7.96l-1.37-1.37c-.4-.4-.92-.59-1.43-.59-.52 0-1.04.2-1.43.59L10.3 9.45l-7.72 7.72c-.78.78-.78 2.05 0 2.83L4 21.41c.39.39.9.59 1.41.59.51 0 1.02-.2 1.41-.59l7.78-7.78 2.81-2.81c.8-.78.8-2.07 0-2.86zM5.41 20L4 18.59l7.72-7.72 1.47 1.35L5.41 20z\"/>\n",
       "  </svg>\n",
       "      </button>\n",
       "      \n",
       "  <style>\n",
       "    .colab-df-container {\n",
       "      display:flex;\n",
       "      flex-wrap:wrap;\n",
       "      gap: 12px;\n",
       "    }\n",
       "\n",
       "    .colab-df-convert {\n",
       "      background-color: #E8F0FE;\n",
       "      border: none;\n",
       "      border-radius: 50%;\n",
       "      cursor: pointer;\n",
       "      display: none;\n",
       "      fill: #1967D2;\n",
       "      height: 32px;\n",
       "      padding: 0 0 0 0;\n",
       "      width: 32px;\n",
       "    }\n",
       "\n",
       "    .colab-df-convert:hover {\n",
       "      background-color: #E2EBFA;\n",
       "      box-shadow: 0px 1px 2px rgba(60, 64, 67, 0.3), 0px 1px 3px 1px rgba(60, 64, 67, 0.15);\n",
       "      fill: #174EA6;\n",
       "    }\n",
       "\n",
       "    [theme=dark] .colab-df-convert {\n",
       "      background-color: #3B4455;\n",
       "      fill: #D2E3FC;\n",
       "    }\n",
       "\n",
       "    [theme=dark] .colab-df-convert:hover {\n",
       "      background-color: #434B5C;\n",
       "      box-shadow: 0px 1px 3px 1px rgba(0, 0, 0, 0.15);\n",
       "      filter: drop-shadow(0px 1px 2px rgba(0, 0, 0, 0.3));\n",
       "      fill: #FFFFFF;\n",
       "    }\n",
       "  </style>\n",
       "\n",
       "      <script>\n",
       "        const buttonEl =\n",
       "          document.querySelector('#df-799593fa-e788-4b1f-85df-c2770cc23087 button.colab-df-convert');\n",
       "        buttonEl.style.display =\n",
       "          google.colab.kernel.accessAllowed ? 'block' : 'none';\n",
       "\n",
       "        async function convertToInteractive(key) {\n",
       "          const element = document.querySelector('#df-799593fa-e788-4b1f-85df-c2770cc23087');\n",
       "          const dataTable =\n",
       "            await google.colab.kernel.invokeFunction('convertToInteractive',\n",
       "                                                     [key], {});\n",
       "          if (!dataTable) return;\n",
       "\n",
       "          const docLinkHtml = 'Like what you see? Visit the ' +\n",
       "            '<a target=\"_blank\" href=https://colab.research.google.com/notebooks/data_table.ipynb>data table notebook</a>'\n",
       "            + ' to learn more about interactive tables.';\n",
       "          element.innerHTML = '';\n",
       "          dataTable['output_type'] = 'display_data';\n",
       "          await google.colab.output.renderOutput(dataTable, element);\n",
       "          const docLink = document.createElement('div');\n",
       "          docLink.innerHTML = docLinkHtml;\n",
       "          element.appendChild(docLink);\n",
       "        }\n",
       "      </script>\n",
       "    </div>\n",
       "  </div>\n",
       "  "
      ],
      "text/plain": [
       "Empty DataFrame\n",
       "Columns: [User_ID, Product_ID, Gender, Age, Occupation, City_Category, Stay_In_Current_City_Years, Marital_Status, Product_Category_1, Product_Category_2, Product_Category_3, Purchase]\n",
       "Index: []"
      ]
     },
     "execution_count": 8,
     "metadata": {},
     "output_type": "execute_result"
    }
   ],
   "source": [
    "clean_df[clean_df.duplicated()]"
   ]
  },
  {
   "cell_type": "markdown",
   "metadata": {
    "id": "MzLqCSMi7QEQ"
   },
   "source": [
    "## Outlier"
   ]
  },
  {
   "cell_type": "code",
   "execution_count": 9,
   "metadata": {
    "colab": {
     "base_uri": "https://localhost:8080/",
     "height": 518
    },
    "executionInfo": {
     "elapsed": 398,
     "status": "ok",
     "timestamp": 1674221927041,
     "user": {
      "displayName": "Muhammaf zarif iqram Mat Rozali",
      "userId": "03892399400558550753"
     },
     "user_tz": -480
    },
    "id": "GaCza4P07RoN",
    "outputId": "44e6ba3f-98aa-4ac9-a7e3-c8c2995f3cd7"
   },
   "outputs": [
    {
     "data": {
      "text/plain": [
       "Text(0.5, 1.0, 'Distribution of Purchase columns')"
      ]
     },
     "execution_count": 9,
     "metadata": {},
     "output_type": "execute_result"
    },
    {
     "data": {
      "image/png": "[encoded data removed]",
      "text/plain": [
       "<Figure size 576x576 with 1 Axes>"
      ]
     },
     "metadata": {},
     "output_type": "display_data"
    }
   ],
   "source": [
    "clean_df.Purchase.plot(kind = 'box')\n",
    "plt.title('Distribution of Purchase columns')"
   ]
  },
  {
   "cell_type": "code",
   "execution_count": 10,
   "metadata": {
    "colab": {
     "base_uri": "https://localhost:8080/"
    },
    "executionInfo": {
     "elapsed": 357,
     "status": "ok",
     "timestamp": 1674221930133,
     "user": {
      "displayName": "Muhammaf zarif iqram Mat Rozali",
      "userId": "03892399400558550753"
     },
     "user_tz": -480
    },
    "id": "CN5zJEs0_Q_8",
    "outputId": "b1dccc49-8ed0-4b52-da0d-4b94cf90f27d"
   },
   "outputs": [
    {
     "name": "stdout",
     "output_type": "stream",
     "text": [
      "the 25th percentile is: 5823.0\n",
      "the 75th percentile is: 12054.0\n",
      "the interquartile range is: 6231.0\n"
     ]
    }
   ],
   "source": [
    "# retrieve and sort the puchase columns\n",
    "purchase = np.sort(clean_df.Purchase)\n",
    "\n",
    "#calculate the q1 and q3 quartile\n",
    "q1 = np.percentile(purchase, 25, interpolation = 'midpoint')\n",
    "q3 = np.percentile(purchase, 75, interpolation = 'midpoint')\n",
    "\n",
    "#calculate the interquartile range\n",
    "IQR = q3 - q1\n",
    "\n",
    "#print out the value\n",
    "print('the 25th percentile is: ' + str(q1))\n",
    "print('the 75th percentile is: ' + str(q3))\n",
    "print('the interquartile range is: ' + str(IQR))"
   ]
  },
  {
   "cell_type": "code",
   "execution_count": 11,
   "metadata": {
    "colab": {
     "base_uri": "https://localhost:8080/"
    },
    "executionInfo": {
     "elapsed": 347,
     "status": "ok",
     "timestamp": 1674221932727,
     "user": {
      "displayName": "Muhammaf zarif iqram Mat Rozali",
      "userId": "03892399400558550753"
     },
     "user_tz": -480
    },
    "id": "54OSSNZfA9ws",
    "outputId": "4b42c49a-835c-46f4-8346-d2a6c7181bcf"
   },
   "outputs": [
    {
     "name": "stdout",
     "output_type": "stream",
     "text": [
      "lower limit is -3523.5\n",
      "upper limit is 21400.5\n"
     ]
    }
   ],
   "source": [
    "#calculate the lower limit\n",
    "lower = q1 - 1.5*IQR\n",
    "#calculate the upper limit\n",
    "upper = q3 + 1.5*IQR\n",
    "\n",
    "#print the boundaries\n",
    "print('lower limit is ' + str(lower))\n",
    "print('upper limit is ' + str(upper))"
   ]
  },
  {
   "cell_type": "code",
   "execution_count": 12,
   "metadata": {
    "colab": {
     "base_uri": "https://localhost:8080/"
    },
    "executionInfo": {
     "elapsed": 2397,
     "status": "ok",
     "timestamp": 1674221937674,
     "user": {
      "displayName": "Muhammaf zarif iqram Mat Rozali",
      "userId": "03892399400558550753"
     },
     "user_tz": -480
    },
    "id": "91j-PU-ZBhgH",
    "outputId": "72b30fe0-2863-42f4-b73d-bb741f03937b"
   },
   "outputs": [
    {
     "data": {
      "text/plain": [
       "2677"
      ]
     },
     "execution_count": 12,
     "metadata": {},
     "output_type": "execute_result"
    }
   ],
   "source": [
    "#retrieving the outlier\n",
    "outlier = []\n",
    "\n",
    "for i in purchase:\n",
    "  if (i < lower) | (i > upper):\n",
    "    outlier.append(i)\n",
    "\n",
    "len(outlier)\n",
    "  "
   ]
  },
  {
   "cell_type": "markdown",
   "metadata": {
    "id": "WukAx8GjEBl4"
   },
   "source": [
    "Based on IQR, there are 2677 value of purchase outlier in the data set. Hence, the rows that contains those value will be removed. After removing the outlier, the dataset contains 547391 rows."
   ]
  },
  {
   "cell_type": "code",
   "execution_count": 13,
   "metadata": {
    "colab": {
     "base_uri": "https://localhost:8080/"
    },
    "executionInfo": {
     "elapsed": 366,
     "status": "ok",
     "timestamp": 1674221940637,
     "user": {
      "displayName": "Muhammaf zarif iqram Mat Rozali",
      "userId": "03892399400558550753"
     },
     "user_tz": -480
    },
    "id": "6gQm1tbbEjXN",
    "outputId": "92caccb3-76a4-40a9-8d51-5cf46f6b2677"
   },
   "outputs": [
    {
     "data": {
      "text/plain": [
       "(547391, 12)"
      ]
     },
     "execution_count": 13,
     "metadata": {},
     "output_type": "execute_result"
    }
   ],
   "source": [
    "no_outlier = clean_df[~clean_df.Purchase.isin(outlier)]\n",
    "no_outlier.shape"
   ]
  },
  {
   "cell_type": "markdown",
   "metadata": {
    "id": "QZtDd6Oh2Ahv"
   },
   "source": [
    "## Removing ID features and unnecessary columns\n",
    "The ID features do not give benefit as the value contain in each row is unique. Hence, it is better to remove it. other redundant columns also be removed\n"
   ]
  },
  {
   "cell_type": "code",
   "execution_count": 14,
   "metadata": {
    "executionInfo": {
     "elapsed": 327,
     "status": "ok",
     "timestamp": 1674221944264,
     "user": {
      "displayName": "Muhammaf zarif iqram Mat Rozali",
      "userId": "03892399400558550753"
     },
     "user_tz": -480
    },
    "id": "ZkGkKlyy2FqE"
   },
   "outputs": [],
   "source": [
    "clean_df = no_outlier.drop(['User_ID', 'Product_ID'], axis = 1)"
   ]
  },
  {
   "cell_type": "code",
   "execution_count": 15,
   "metadata": {
    "colab": {
     "base_uri": "https://localhost:8080/"
    },
    "executionInfo": {
     "elapsed": 496,
     "status": "ok",
     "timestamp": 1674221947504,
     "user": {
      "displayName": "Muhammaf zarif iqram Mat Rozali",
      "userId": "03892399400558550753"
     },
     "user_tz": -480
    },
    "id": "EbMLmqtw2iCp",
    "outputId": "de4d7707-7596-444f-9f1b-0e7962f2837a"
   },
   "outputs": [
    {
     "name": "stdout",
     "output_type": "stream",
     "text": [
      "<class 'pandas.core.frame.DataFrame'>\n",
      "Int64Index: 547391 entries, 0 to 550067\n",
      "Data columns (total 10 columns):\n",
      " #   Column                      Non-Null Count   Dtype  \n",
      "---  ------                      --------------   -----  \n",
      " 0   Gender                      547391 non-null  object \n",
      " 1   Age                         547391 non-null  object \n",
      " 2   Occupation                  547391 non-null  int64  \n",
      " 3   City_Category               547391 non-null  object \n",
      " 4   Stay_In_Current_City_Years  547391 non-null  object \n",
      " 5   Marital_Status              547391 non-null  int64  \n",
      " 6   Product_Category_1          547391 non-null  int64  \n",
      " 7   Product_Category_2          547391 non-null  float64\n",
      " 8   Product_Category_3          547391 non-null  float64\n",
      " 9   Purchase                    547391 non-null  int64  \n",
      "dtypes: float64(2), int64(4), object(4)\n",
      "memory usage: 45.9+ MB\n"
     ]
    }
   ],
   "source": [
    "clean_df.info()"
   ]
  },
  {
   "cell_type": "code",
   "execution_count": null,
   "metadata": {
    "id": "D5yhpulu2eGK"
   },
   "outputs": [],
   "source": [
    "# clean_df.drop('combined_G_M', axis = 1, inplace = True)"
   ]
  },
  {
   "cell_type": "code",
   "execution_count": 16,
   "metadata": {
    "colab": {
     "base_uri": "https://localhost:8080/",
     "height": 206
    },
    "executionInfo": {
     "elapsed": 394,
     "status": "ok",
     "timestamp": 1674221957849,
     "user": {
      "displayName": "Muhammaf zarif iqram Mat Rozali",
      "userId": "03892399400558550753"
     },
     "user_tz": -480
    },
    "id": "aIzwh2ZSF8Iq",
    "outputId": "bd6a9f5c-2ac8-472a-b976-a0456ed250a6"
   },
   "outputs": [
    {
     "data": {
      "text/html": [
       "\n",
       "  <div id=\"df-7f64dcf4-b682-413e-a88f-219db20a8f84\">\n",
       "    <div class=\"colab-df-container\">\n",
       "      <div>\n",
       "<style scoped>\n",
       "    .dataframe tbody tr th:only-of-type {\n",
       "        vertical-align: middle;\n",
       "    }\n",
       "\n",
       "    .dataframe tbody tr th {\n",
       "        vertical-align: top;\n",
       "    }\n",
       "\n",
       "    .dataframe thead th {\n",
       "        text-align: right;\n",
       "    }\n",
       "</style>\n",
       "<table border=\"1\" class=\"dataframe\">\n",
       "  <thead>\n",
       "    <tr style=\"text-align: right;\">\n",
       "      <th></th>\n",
       "      <th>Gender</th>\n",
       "      <th>Age</th>\n",
       "      <th>Occupation</th>\n",
       "      <th>City_Category</th>\n",
       "      <th>Stay_In_Current_City_Years</th>\n",
       "      <th>Marital_Status</th>\n",
       "      <th>Product_Category_1</th>\n",
       "      <th>Product_Category_2</th>\n",
       "      <th>Product_Category_3</th>\n",
       "      <th>Purchase</th>\n",
       "    </tr>\n",
       "  </thead>\n",
       "  <tbody>\n",
       "    <tr>\n",
       "      <th>0</th>\n",
       "      <td>F</td>\n",
       "      <td>0-17</td>\n",
       "      <td>10</td>\n",
       "      <td>A</td>\n",
       "      <td>2</td>\n",
       "      <td>0</td>\n",
       "      <td>3</td>\n",
       "      <td>18.0</td>\n",
       "      <td>18.0</td>\n",
       "      <td>8370</td>\n",
       "    </tr>\n",
       "    <tr>\n",
       "      <th>1</th>\n",
       "      <td>F</td>\n",
       "      <td>0-17</td>\n",
       "      <td>10</td>\n",
       "      <td>A</td>\n",
       "      <td>2</td>\n",
       "      <td>0</td>\n",
       "      <td>1</td>\n",
       "      <td>6.0</td>\n",
       "      <td>14.0</td>\n",
       "      <td>15200</td>\n",
       "    </tr>\n",
       "    <tr>\n",
       "      <th>2</th>\n",
       "      <td>F</td>\n",
       "      <td>0-17</td>\n",
       "      <td>10</td>\n",
       "      <td>A</td>\n",
       "      <td>2</td>\n",
       "      <td>0</td>\n",
       "      <td>12</td>\n",
       "      <td>18.0</td>\n",
       "      <td>18.0</td>\n",
       "      <td>1422</td>\n",
       "    </tr>\n",
       "    <tr>\n",
       "      <th>3</th>\n",
       "      <td>F</td>\n",
       "      <td>0-17</td>\n",
       "      <td>10</td>\n",
       "      <td>A</td>\n",
       "      <td>2</td>\n",
       "      <td>0</td>\n",
       "      <td>12</td>\n",
       "      <td>14.0</td>\n",
       "      <td>18.0</td>\n",
       "      <td>1057</td>\n",
       "    </tr>\n",
       "    <tr>\n",
       "      <th>4</th>\n",
       "      <td>M</td>\n",
       "      <td>55+</td>\n",
       "      <td>16</td>\n",
       "      <td>C</td>\n",
       "      <td>4+</td>\n",
       "      <td>0</td>\n",
       "      <td>8</td>\n",
       "      <td>18.0</td>\n",
       "      <td>18.0</td>\n",
       "      <td>7969</td>\n",
       "    </tr>\n",
       "  </tbody>\n",
       "</table>\n",
       "</div>\n",
       "      <button class=\"colab-df-convert\" onclick=\"convertToInteractive('df-7f64dcf4-b682-413e-a88f-219db20a8f84')\"\n",
       "              title=\"Convert this dataframe to an interactive table.\"\n",
       "              style=\"display:none;\">\n",
       "        \n",
       "  <svg xmlns=\"http://www.w3.org/2000/svg\" height=\"24px\"viewBox=\"0 0 24 24\"\n",
       "       width=\"24px\">\n",
       "    <path d=\"M0 0h24v24H0V0z\" fill=\"none\"/>\n",
       "    <path d=\"M18.56 5.44l.94 2.06.94-2.06 2.06-.94-2.06-.94-.94-2.06-.94 2.06-2.06.94zm-11 1L8.5 8.5l.94-2.06 2.06-.94-2.06-.94L8.5 2.5l-.94 2.06-2.06.94zm10 10l.94 2.06.94-2.06 2.06-.94-2.06-.94-.94-2.06-.94 2.06-2.06.94z\"/><path d=\"M17.41 7.96l-1.37-1.37c-.4-.4-.92-.59-1.43-.59-.52 0-1.04.2-1.43.59L10.3 9.45l-7.72 7.72c-.78.78-.78 2.05 0 2.83L4 21.41c.39.39.9.59 1.41.59.51 0 1.02-.2 1.41-.59l7.78-7.78 2.81-2.81c.8-.78.8-2.07 0-2.86zM5.41 20L4 18.59l7.72-7.72 1.47 1.35L5.41 20z\"/>\n",
       "  </svg>\n",
       "      </button>\n",
       "      \n",
       "  <style>\n",
       "    .colab-df-container {\n",
       "      display:flex;\n",
       "      flex-wrap:wrap;\n",
       "      gap: 12px;\n",
       "    }\n",
       "\n",
       "    .colab-df-convert {\n",
       "      background-color: #E8F0FE;\n",
       "      border: none;\n",
       "      border-radius: 50%;\n",
       "      cursor: pointer;\n",
       "      display: none;\n",
       "      fill: #1967D2;\n",
       "      height: 32px;\n",
       "      padding: 0 0 0 0;\n",
       "      width: 32px;\n",
       "    }\n",
       "\n",
       "    .colab-df-convert:hover {\n",
       "      background-color: #E2EBFA;\n",
       "      box-shadow: 0px 1px 2px rgba(60, 64, 67, 0.3), 0px 1px 3px 1px rgba(60, 64, 67, 0.15);\n",
       "      fill: #174EA6;\n",
       "    }\n",
       "\n",
       "    [theme=dark] .colab-df-convert {\n",
       "      background-color: #3B4455;\n",
       "      fill: #D2E3FC;\n",
       "    }\n",
       "\n",
       "    [theme=dark] .colab-df-convert:hover {\n",
       "      background-color: #434B5C;\n",
       "      box-shadow: 0px 1px 3px 1px rgba(0, 0, 0, 0.15);\n",
       "      filter: drop-shadow(0px 1px 2px rgba(0, 0, 0, 0.3));\n",
       "      fill: #FFFFFF;\n",
       "    }\n",
       "  </style>\n",
       "\n",
       "      <script>\n",
       "        const buttonEl =\n",
       "          document.querySelector('#df-7f64dcf4-b682-413e-a88f-219db20a8f84 button.colab-df-convert');\n",
       "        buttonEl.style.display =\n",
       "          google.colab.kernel.accessAllowed ? 'block' : 'none';\n",
       "\n",
       "        async function convertToInteractive(key) {\n",
       "          const element = document.querySelector('#df-7f64dcf4-b682-413e-a88f-219db20a8f84');\n",
       "          const dataTable =\n",
       "            await google.colab.kernel.invokeFunction('convertToInteractive',\n",
       "                                                     [key], {});\n",
       "          if (!dataTable) return;\n",
       "\n",
       "          const docLinkHtml = 'Like what you see? Visit the ' +\n",
       "            '<a target=\"_blank\" href=https://colab.research.google.com/notebooks/data_table.ipynb>data table notebook</a>'\n",
       "            + ' to learn more about interactive tables.';\n",
       "          element.innerHTML = '';\n",
       "          dataTable['output_type'] = 'display_data';\n",
       "          await google.colab.output.renderOutput(dataTable, element);\n",
       "          const docLink = document.createElement('div');\n",
       "          docLink.innerHTML = docLinkHtml;\n",
       "          element.appendChild(docLink);\n",
       "        }\n",
       "      </script>\n",
       "    </div>\n",
       "  </div>\n",
       "  "
      ],
      "text/plain": [
       "  Gender   Age  Occupation City_Category Stay_In_Current_City_Years  \\\n",
       "0      F  0-17          10             A                          2   \n",
       "1      F  0-17          10             A                          2   \n",
       "2      F  0-17          10             A                          2   \n",
       "3      F  0-17          10             A                          2   \n",
       "4      M   55+          16             C                         4+   \n",
       "\n",
       "   Marital_Status  Product_Category_1  Product_Category_2  Product_Category_3  \\\n",
       "0               0                   3                18.0                18.0   \n",
       "1               0                   1                 6.0                14.0   \n",
       "2               0                  12                18.0                18.0   \n",
       "3               0                  12                14.0                18.0   \n",
       "4               0                   8                18.0                18.0   \n",
       "\n",
       "   Purchase  \n",
       "0      8370  \n",
       "1     15200  \n",
       "2      1422  \n",
       "3      1057  \n",
       "4      7969  "
      ]
     },
     "execution_count": 16,
     "metadata": {},
     "output_type": "execute_result"
    }
   ],
   "source": [
    "#Before\n",
    "clean_df.head()"
   ]
  },
  {
   "cell_type": "code",
   "execution_count": 17,
   "metadata": {
    "executionInfo": {
     "elapsed": 510,
     "status": "ok",
     "timestamp": 1674221961296,
     "user": {
      "displayName": "Muhammaf zarif iqram Mat Rozali",
      "userId": "03892399400558550753"
     },
     "user_tz": -480
    },
    "id": "CgzV5jEcza43"
   },
   "outputs": [],
   "source": [
    "#one-hot label encoder\n",
    "\n",
    "#change the string into numeric \n",
    "GenderNum = pd.Categorical(clean_df['Gender']).codes\n",
    "AgeNum = pd.Categorical(clean_df['Age']).codes\n",
    "CityCategoryNum = pd.Categorical(clean_df['City_Category']).codes\n",
    "StayCurrentCityNum = pd.Categorical(clean_df['Stay_In_Current_City_Years']).codes\n",
    "\n",
    "#add the col into the table\n",
    "clean_df['Gender'] = GenderNum\n",
    "clean_df['Age'] = AgeNum\n",
    "clean_df['City_Category'] = CityCategoryNum\n",
    "clean_df['Stay_In_Current_City_Years'] = StayCurrentCityNum"
   ]
  },
  {
   "cell_type": "code",
   "execution_count": 18,
   "metadata": {
    "colab": {
     "base_uri": "https://localhost:8080/",
     "height": 206
    },
    "executionInfo": {
     "elapsed": 387,
     "status": "ok",
     "timestamp": 1674221964273,
     "user": {
      "displayName": "Muhammaf zarif iqram Mat Rozali",
      "userId": "03892399400558550753"
     },
     "user_tz": -480
    },
    "id": "iI6XQjV-DrFm",
    "outputId": "efb55ebf-7e30-46b3-d985-9be71b3329a3"
   },
   "outputs": [
    {
     "data": {
      "text/html": [
       "\n",
       "  <div id=\"df-24846efd-f40e-49ca-99b2-1dab4353d893\">\n",
       "    <div class=\"colab-df-container\">\n",
       "      <div>\n",
       "<style scoped>\n",
       "    .dataframe tbody tr th:only-of-type {\n",
       "        vertical-align: middle;\n",
       "    }\n",
       "\n",
       "    .dataframe tbody tr th {\n",
       "        vertical-align: top;\n",
       "    }\n",
       "\n",
       "    .dataframe thead th {\n",
       "        text-align: right;\n",
       "    }\n",
       "</style>\n",
       "<table border=\"1\" class=\"dataframe\">\n",
       "  <thead>\n",
       "    <tr style=\"text-align: right;\">\n",
       "      <th></th>\n",
       "      <th>Gender</th>\n",
       "      <th>Age</th>\n",
       "      <th>Occupation</th>\n",
       "      <th>City_Category</th>\n",
       "      <th>Stay_In_Current_City_Years</th>\n",
       "      <th>Marital_Status</th>\n",
       "      <th>Product_Category_1</th>\n",
       "      <th>Product_Category_2</th>\n",
       "      <th>Product_Category_3</th>\n",
       "      <th>Purchase</th>\n",
       "    </tr>\n",
       "  </thead>\n",
       "  <tbody>\n",
       "    <tr>\n",
       "      <th>0</th>\n",
       "      <td>0</td>\n",
       "      <td>0</td>\n",
       "      <td>10</td>\n",
       "      <td>0</td>\n",
       "      <td>2</td>\n",
       "      <td>0</td>\n",
       "      <td>3</td>\n",
       "      <td>18.0</td>\n",
       "      <td>18.0</td>\n",
       "      <td>8370</td>\n",
       "    </tr>\n",
       "    <tr>\n",
       "      <th>1</th>\n",
       "      <td>0</td>\n",
       "      <td>0</td>\n",
       "      <td>10</td>\n",
       "      <td>0</td>\n",
       "      <td>2</td>\n",
       "      <td>0</td>\n",
       "      <td>1</td>\n",
       "      <td>6.0</td>\n",
       "      <td>14.0</td>\n",
       "      <td>15200</td>\n",
       "    </tr>\n",
       "    <tr>\n",
       "      <th>2</th>\n",
       "      <td>0</td>\n",
       "      <td>0</td>\n",
       "      <td>10</td>\n",
       "      <td>0</td>\n",
       "      <td>2</td>\n",
       "      <td>0</td>\n",
       "      <td>12</td>\n",
       "      <td>18.0</td>\n",
       "      <td>18.0</td>\n",
       "      <td>1422</td>\n",
       "    </tr>\n",
       "    <tr>\n",
       "      <th>3</th>\n",
       "      <td>0</td>\n",
       "      <td>0</td>\n",
       "      <td>10</td>\n",
       "      <td>0</td>\n",
       "      <td>2</td>\n",
       "      <td>0</td>\n",
       "      <td>12</td>\n",
       "      <td>14.0</td>\n",
       "      <td>18.0</td>\n",
       "      <td>1057</td>\n",
       "    </tr>\n",
       "    <tr>\n",
       "      <th>4</th>\n",
       "      <td>1</td>\n",
       "      <td>6</td>\n",
       "      <td>16</td>\n",
       "      <td>2</td>\n",
       "      <td>4</td>\n",
       "      <td>0</td>\n",
       "      <td>8</td>\n",
       "      <td>18.0</td>\n",
       "      <td>18.0</td>\n",
       "      <td>7969</td>\n",
       "    </tr>\n",
       "  </tbody>\n",
       "</table>\n",
       "</div>\n",
       "      <button class=\"colab-df-convert\" onclick=\"convertToInteractive('df-24846efd-f40e-49ca-99b2-1dab4353d893')\"\n",
       "              title=\"Convert this dataframe to an interactive table.\"\n",
       "              style=\"display:none;\">\n",
       "        \n",
       "  <svg xmlns=\"http://www.w3.org/2000/svg\" height=\"24px\"viewBox=\"0 0 24 24\"\n",
       "       width=\"24px\">\n",
       "    <path d=\"M0 0h24v24H0V0z\" fill=\"none\"/>\n",
       "    <path d=\"M18.56 5.44l.94 2.06.94-2.06 2.06-.94-2.06-.94-.94-2.06-.94 2.06-2.06.94zm-11 1L8.5 8.5l.94-2.06 2.06-.94-2.06-.94L8.5 2.5l-.94 2.06-2.06.94zm10 10l.94 2.06.94-2.06 2.06-.94-2.06-.94-.94-2.06-.94 2.06-2.06.94z\"/><path d=\"M17.41 7.96l-1.37-1.37c-.4-.4-.92-.59-1.43-.59-.52 0-1.04.2-1.43.59L10.3 9.45l-7.72 7.72c-.78.78-.78 2.05 0 2.83L4 21.41c.39.39.9.59 1.41.59.51 0 1.02-.2 1.41-.59l7.78-7.78 2.81-2.81c.8-.78.8-2.07 0-2.86zM5.41 20L4 18.59l7.72-7.72 1.47 1.35L5.41 20z\"/>\n",
       "  </svg>\n",
       "      </button>\n",
       "      \n",
       "  <style>\n",
       "    .colab-df-container {\n",
       "      display:flex;\n",
       "      flex-wrap:wrap;\n",
       "      gap: 12px;\n",
       "    }\n",
       "\n",
       "    .colab-df-convert {\n",
       "      background-color: #E8F0FE;\n",
       "      border: none;\n",
       "      border-radius: 50%;\n",
       "      cursor: pointer;\n",
       "      display: none;\n",
       "      fill: #1967D2;\n",
       "      height: 32px;\n",
       "      padding: 0 0 0 0;\n",
       "      width: 32px;\n",
       "    }\n",
       "\n",
       "    .colab-df-convert:hover {\n",
       "      background-color: #E2EBFA;\n",
       "      box-shadow: 0px 1px 2px rgba(60, 64, 67, 0.3), 0px 1px 3px 1px rgba(60, 64, 67, 0.15);\n",
       "      fill: #174EA6;\n",
       "    }\n",
       "\n",
       "    [theme=dark] .colab-df-convert {\n",
       "      background-color: #3B4455;\n",
       "      fill: #D2E3FC;\n",
       "    }\n",
       "\n",
       "    [theme=dark] .colab-df-convert:hover {\n",
       "      background-color: #434B5C;\n",
       "      box-shadow: 0px 1px 3px 1px rgba(0, 0, 0, 0.15);\n",
       "      filter: drop-shadow(0px 1px 2px rgba(0, 0, 0, 0.3));\n",
       "      fill: #FFFFFF;\n",
       "    }\n",
       "  </style>\n",
       "\n",
       "      <script>\n",
       "        const buttonEl =\n",
       "          document.querySelector('#df-24846efd-f40e-49ca-99b2-1dab4353d893 button.colab-df-convert');\n",
       "        buttonEl.style.display =\n",
       "          google.colab.kernel.accessAllowed ? 'block' : 'none';\n",
       "\n",
       "        async function convertToInteractive(key) {\n",
       "          const element = document.querySelector('#df-24846efd-f40e-49ca-99b2-1dab4353d893');\n",
       "          const dataTable =\n",
       "            await google.colab.kernel.invokeFunction('convertToInteractive',\n",
       "                                                     [key], {});\n",
       "          if (!dataTable) return;\n",
       "\n",
       "          const docLinkHtml = 'Like what you see? Visit the ' +\n",
       "            '<a target=\"_blank\" href=https://colab.research.google.com/notebooks/data_table.ipynb>data table notebook</a>'\n",
       "            + ' to learn more about interactive tables.';\n",
       "          element.innerHTML = '';\n",
       "          dataTable['output_type'] = 'display_data';\n",
       "          await google.colab.output.renderOutput(dataTable, element);\n",
       "          const docLink = document.createElement('div');\n",
       "          docLink.innerHTML = docLinkHtml;\n",
       "          element.appendChild(docLink);\n",
       "        }\n",
       "      </script>\n",
       "    </div>\n",
       "  </div>\n",
       "  "
      ],
      "text/plain": [
       "   Gender  Age  Occupation  City_Category  Stay_In_Current_City_Years  \\\n",
       "0       0    0          10              0                           2   \n",
       "1       0    0          10              0                           2   \n",
       "2       0    0          10              0                           2   \n",
       "3       0    0          10              0                           2   \n",
       "4       1    6          16              2                           4   \n",
       "\n",
       "   Marital_Status  Product_Category_1  Product_Category_2  Product_Category_3  \\\n",
       "0               0                   3                18.0                18.0   \n",
       "1               0                   1                 6.0                14.0   \n",
       "2               0                  12                18.0                18.0   \n",
       "3               0                  12                14.0                18.0   \n",
       "4               0                   8                18.0                18.0   \n",
       "\n",
       "   Purchase  \n",
       "0      8370  \n",
       "1     15200  \n",
       "2      1422  \n",
       "3      1057  \n",
       "4      7969  "
      ]
     },
     "execution_count": 18,
     "metadata": {},
     "output_type": "execute_result"
    }
   ],
   "source": [
    "#after\n",
    "clean_df.head()"
   ]
  },
  {
   "cell_type": "markdown",
   "metadata": {
    "id": "a15A6PUkFf1e"
   },
   "source": [
    "**Model Building**\n",
    "\n",
    "For model building we will use 2 approaches for experiment: \n",
    "1. using the splitting criteria\n",
    "2. using cross validation score\n",
    "------------------------------------------------------------------------\n",
    "1. Spliting data - \n",
    "    The data set will be split into training and testing sets. The training set will be used to train the model and testing set will be used to test the model. The data spliting is based on percentage. The training set is 80% of the data set ewhile testing set is 20% of the data set.\n",
    "\n",
    "2. Model Selection - Regression use case\n",
    "\n",
    "  1. Lasso Regression\n",
    "  4. Random Forest Regressor\n",
    "  6. Gradient Boosting Regressor\n",
    "  7. XGBoost Regressor\n",
    "  8. AdaBoost Regressor"
   ]
  },
  {
   "cell_type": "markdown",
   "metadata": {
    "id": "2WmiAvXd3Hja"
   },
   "source": [
    "Performance Evaluation:\n",
    "The model built will be evaluated according to 2 evaluations for two use case. The first use case is without standard scaler, while the second use case is with standard scaler.\n",
    "\n",
    "\n",
    "1.   Root Mean Squared Error (RMSE)\n",
    "2.   Mean Absolute Error (MAE)\n",
    "3.   R-Squared (R2)\n"
   ]
  },
  {
   "cell_type": "markdown",
   "metadata": {
    "id": "9QFaGDihTI4H"
   },
   "source": [
    "**CASE 1: USING SPLITTING CRITERIA - 80% TRAINING 20% TEST**"
   ]
  },
  {
   "cell_type": "markdown",
   "metadata": {
    "id": "PzGaKAlyTeJC"
   },
   "source": [
    "**1. Without Standard Scaler**"
   ]
  },
  {
   "cell_type": "code",
   "execution_count": 22,
   "metadata": {
    "executionInfo": {
     "elapsed": 299,
     "status": "ok",
     "timestamp": 1674222033916,
     "user": {
      "displayName": "Muhammaf zarif iqram Mat Rozali",
      "userId": "03892399400558550753"
     },
     "user_tz": -480
    },
    "id": "o_WUOGFi63OR"
   },
   "outputs": [],
   "source": [
    "#import prediction model library\n",
    "from sklearn import metrics\n",
    "from sklearn.metrics import mean_squared_error, mean_absolute_error, r2_score\n",
    "from sklearn.linear_model import Lasso\n",
    "from sklearn.ensemble import (RandomForestRegressor, GradientBoostingRegressor, AdaBoostRegressor)\n",
    "from xgboost.sklearn import XGBRegressor\n",
    "\n",
    "##Feature scale\n",
    "from sklearn.preprocessing import StandardScaler"
   ]
  },
  {
   "cell_type": "code",
   "execution_count": 23,
   "metadata": {
    "executionInfo": {
     "elapsed": 386,
     "status": "ok",
     "timestamp": 1674222036457,
     "user": {
      "displayName": "Muhammaf zarif iqram Mat Rozali",
      "userId": "03892399400558550753"
     },
     "user_tz": -480
    },
    "id": "I_UavOvg9DZH"
   },
   "outputs": [],
   "source": [
    "#split the x variable and y variable into test set (30%) and train set (70%)\n",
    "nwData = clean_df.copy()\n",
    "X = nwData.drop(['Purchase'],axis=1)\n",
    "y = nwData.loc[:,['Purchase']]\n",
    "X_train,X_test,y_train,y_test = train_test_split(X,y,test_size=0.20,random_state=0)\n"
   ]
  },
  {
   "cell_type": "markdown",
   "metadata": {
    "id": "E7wlV2QSd7xC"
   },
   "source": [
    "Lasso regression Model"
   ]
  },
  {
   "cell_type": "code",
   "execution_count": 24,
   "metadata": {
    "colab": {
     "base_uri": "https://localhost:8080/"
    },
    "executionInfo": {
     "elapsed": 534,
     "status": "ok",
     "timestamp": 1674222038764,
     "user": {
      "displayName": "Muhammaf zarif iqram Mat Rozali",
      "userId": "03892399400558550753"
     },
     "user_tz": -480
    },
    "id": "mZ1usfHed-bi",
    "outputId": "75d6a1b4-9ffd-472c-fc01-a728917510cc"
   },
   "outputs": [
    {
     "name": "stdout",
     "output_type": "stream",
     "text": [
      "RMSE: 4519.80843338601\n",
      "MAE: 20428668.274507295\n",
      "R2 Score: 16.09\n"
     ]
    }
   ],
   "source": [
    "##Lasso Regression Model\n",
    "lasso=Lasso(alpha=1.0)\n",
    "lasso.fit(X_train,y_train)\n",
    "y_lasso_pred=lasso.predict(X_test)\n",
    "print(\"RMSE:\",np.sqrt(metrics.mean_squared_error(y_test, y_lasso_pred)))\n",
    "print(\"MAE:\",metrics.mean_absolute_error(y_test, y_lasso_pred))\n",
    "print(\"R2 Score:\",round(metrics.r2_score(y_test,y_lasso_pred)*100,2))"
   ]
  },
  {
   "cell_type": "markdown",
   "metadata": {
    "id": "Q_uVo9CHrP54"
   },
   "source": [
    "Random Forest Regressor"
   ]
  },
  {
   "cell_type": "code",
   "execution_count": 25,
   "metadata": {
    "colab": {
     "base_uri": "https://localhost:8080/"
    },
    "executionInfo": {
     "elapsed": 114290,
     "status": "ok",
     "timestamp": 1674222158901,
     "user": {
      "displayName": "Muhammaf zarif iqram Mat Rozali",
      "userId": "03892399400558550753"
     },
     "user_tz": -480
    },
    "id": "EA8zBSYKrXLD",
    "outputId": "d63bc4e1-ac52-4556-cc6e-43d9a1902a3d"
   },
   "outputs": [
    {
     "name": "stderr",
     "output_type": "stream",
     "text": [
      "<ipython-input-25-f562a7574675>:2: DataConversionWarning:\n",
      "\n",
      "A column-vector y was passed when a 1d array was expected. Please change the shape of y to (n_samples,), for example using ravel().\n",
      "\n"
     ]
    },
    {
     "name": "stdout",
     "output_type": "stream",
     "text": [
      "RMSE: 3024.086542214813\n",
      "MAE: 9145099.414804745\n",
      "R2 Score: 62.44\n"
     ]
    }
   ],
   "source": [
    "rf = RandomForestRegressor(random_state = 0)\n",
    "rf.fit(X_train,y_train)\n",
    "y_pred_rf = rf.predict(X_test)\n",
    "print(\"RMSE:\",np.sqrt(metrics.mean_squared_error(y_test, y_pred_rf)))\n",
    "print(\"MAE:\",metrics.mean_absolute_error(y_test, y_pred_rf))\n",
    "print(\"R2 Score:\",round(metrics.r2_score(y_test,y_pred_rf)*100,2))"
   ]
  },
  {
   "cell_type": "markdown",
   "metadata": {
    "id": "a0KlSTb7AYiK"
   },
   "source": [
    "Gradient Boosting"
   ]
  },
  {
   "cell_type": "code",
   "execution_count": 26,
   "metadata": {
    "colab": {
     "base_uri": "https://localhost:8080/"
    },
    "executionInfo": {
     "elapsed": 36069,
     "status": "ok",
     "timestamp": 1674222226198,
     "user": {
      "displayName": "Muhammaf zarif iqram Mat Rozali",
      "userId": "03892399400558550753"
     },
     "user_tz": -480
    },
    "id": "NJc-6VdCAbJT",
    "outputId": "7f5da0dc-3070-479c-ca14-a79860d6b92e"
   },
   "outputs": [
    {
     "name": "stderr",
     "output_type": "stream",
     "text": [
      "/usr/local/lib/python3.8/dist-packages/sklearn/ensemble/_gb.py:494: DataConversionWarning:\n",
      "\n",
      "A column-vector y was passed when a 1d array was expected. Please change the shape of y to (n_samples, ), for example using ravel().\n",
      "\n"
     ]
    },
    {
     "name": "stdout",
     "output_type": "stream",
     "text": [
      "RMSE: 2949.5115069658264\n",
      "MAE: 8699618.129723819\n",
      "R2 Score: 64.27\n"
     ]
    }
   ],
   "source": [
    "gb = GradientBoostingRegressor(random_state = 0)\n",
    "gb.fit(X_train, y_train)\n",
    "y_pred_gb = gb.predict(X_test)\n",
    "print(\"RMSE:\",np.sqrt(metrics.mean_squared_error(y_test, y_pred_gb)))\n",
    "print(\"MAE:\",metrics.mean_absolute_error(y_test, y_pred_gb))\n",
    "print(\"R2 Score:\",round(metrics.r2_score(y_test,y_pred_gb)*100,2))"
   ]
  },
  {
   "cell_type": "markdown",
   "metadata": {
    "id": "o8ioZaSNQOZn"
   },
   "source": [
    "XGBoost"
   ]
  },
  {
   "cell_type": "code",
   "execution_count": 27,
   "metadata": {
    "colab": {
     "base_uri": "https://localhost:8080/"
    },
    "executionInfo": {
     "elapsed": 59629,
     "status": "ok",
     "timestamp": 1674222308904,
     "user": {
      "displayName": "Muhammaf zarif iqram Mat Rozali",
      "userId": "03892399400558550753"
     },
     "user_tz": -480
    },
    "id": "Qk3QyihaQQYZ",
    "outputId": "758802bb-d22e-40d2-9ef0-4f559f73a96f"
   },
   "outputs": [
    {
     "name": "stdout",
     "output_type": "stream",
     "text": [
      "[13:44:09] WARNING: /workspace/src/objective/regression_obj.cu:152: reg:linear is now deprecated in favor of reg:squarederror.\n",
      "RMSE: 2829.3858087497547\n",
      "MAE: 8005424.054754502\n",
      "R2 Score: 67.12\n"
     ]
    }
   ],
   "source": [
    "xgb = XGBRegressor(n_estimators=100, learning_rate=0.2, max_depth=8)\n",
    "xgb.fit(X_train, y_train)\n",
    "y_pred_xgb = xgb.predict(X_test)\n",
    "print(\"RMSE:\",np.sqrt(metrics.mean_squared_error(y_test, y_pred_xgb)))\n",
    "print(\"MAE:\",metrics.mean_absolute_error(y_test, y_pred_xgb))\n",
    "print(\"R2 Score:\",round(metrics.r2_score(y_test,y_pred_xgb)*100,2))"
   ]
  },
  {
   "cell_type": "markdown",
   "metadata": {
    "id": "lkpA860YDTOB"
   },
   "source": [
    "ADABoost"
   ]
  },
  {
   "cell_type": "code",
   "execution_count": 28,
   "metadata": {
    "colab": {
     "base_uri": "https://localhost:8080/"
    },
    "executionInfo": {
     "elapsed": 11054,
     "status": "ok",
     "timestamp": 1674222340962,
     "user": {
      "displayName": "Muhammaf zarif iqram Mat Rozali",
      "userId": "03892399400558550753"
     },
     "user_tz": -480
    },
    "id": "vaLBSrVwDVjr",
    "outputId": "ff760602-a4f3-4a62-e00b-65685e49849d"
   },
   "outputs": [
    {
     "name": "stderr",
     "output_type": "stream",
     "text": [
      "/usr/local/lib/python3.8/dist-packages/sklearn/utils/validation.py:993: DataConversionWarning:\n",
      "\n",
      "A column-vector y was passed when a 1d array was expected. Please change the shape of y to (n_samples, ), for example using ravel().\n",
      "\n"
     ]
    },
    {
     "name": "stdout",
     "output_type": "stream",
     "text": [
      "RMSE: 3492.0503107979885\n",
      "MAE: 12194415.373144327\n",
      "R2 Score: 49.91\n"
     ]
    }
   ],
   "source": [
    "adaboost = AdaBoostRegressor(random_state = 0)\n",
    "adaboost.fit(X_train, y_train)\n",
    "y_pred_ada = adaboost.predict(X_test)\n",
    "print(\"RMSE:\",np.sqrt(metrics.mean_squared_error(y_test, y_pred_ada)))\n",
    "print(\"MAE:\",metrics.mean_absolute_error(y_test, y_pred_ada))\n",
    "print(\"R2 Score:\",round(metrics.r2_score(y_test,y_pred_ada)*100,2))"
   ]
  },
  {
   "cell_type": "markdown",
   "metadata": {
    "id": "AU1de3g8Frca"
   },
   "source": [
    "## 2. with applying Standard Scaler"
   ]
  },
  {
   "cell_type": "code",
   "execution_count": 29,
   "metadata": {
    "colab": {
     "base_uri": "https://localhost:8080/",
     "height": 206
    },
    "executionInfo": {
     "elapsed": 378,
     "status": "ok",
     "timestamp": 1674222401097,
     "user": {
      "displayName": "Muhammaf zarif iqram Mat Rozali",
      "userId": "03892399400558550753"
     },
     "user_tz": -480
    },
    "id": "CI7y-q-L4mSG",
    "outputId": "9ea1c94c-1989-4e56-c5de-b6a33358504d"
   },
   "outputs": [
    {
     "data": {
      "text/html": [
       "\n",
       "  <div id=\"df-f4aa0a4a-3811-4c21-a15d-f1b3d0915a97\">\n",
       "    <div class=\"colab-df-container\">\n",
       "      <div>\n",
       "<style scoped>\n",
       "    .dataframe tbody tr th:only-of-type {\n",
       "        vertical-align: middle;\n",
       "    }\n",
       "\n",
       "    .dataframe tbody tr th {\n",
       "        vertical-align: top;\n",
       "    }\n",
       "\n",
       "    .dataframe thead th {\n",
       "        text-align: right;\n",
       "    }\n",
       "</style>\n",
       "<table border=\"1\" class=\"dataframe\">\n",
       "  <thead>\n",
       "    <tr style=\"text-align: right;\">\n",
       "      <th></th>\n",
       "      <th>Gender</th>\n",
       "      <th>Age</th>\n",
       "      <th>Occupation</th>\n",
       "      <th>City_Category</th>\n",
       "      <th>Stay_In_Current_City_Years</th>\n",
       "      <th>Marital_Status</th>\n",
       "      <th>Product_Category_1</th>\n",
       "      <th>Product_Category_2</th>\n",
       "      <th>Product_Category_3</th>\n",
       "    </tr>\n",
       "  </thead>\n",
       "  <tbody>\n",
       "    <tr>\n",
       "      <th>0</th>\n",
       "      <td>0.573638</td>\n",
       "      <td>-0.365358</td>\n",
       "      <td>0.448506</td>\n",
       "      <td>-0.056902</td>\n",
       "      <td>1.660211</td>\n",
       "      <td>-0.833368</td>\n",
       "      <td>-0.097107</td>\n",
       "      <td>-0.777470</td>\n",
       "      <td>0.484329</td>\n",
       "    </tr>\n",
       "    <tr>\n",
       "      <th>1</th>\n",
       "      <td>-1.743261</td>\n",
       "      <td>2.588331</td>\n",
       "      <td>-0.164963</td>\n",
       "      <td>-0.056902</td>\n",
       "      <td>-0.665616</td>\n",
       "      <td>1.199950</td>\n",
       "      <td>0.666962</td>\n",
       "      <td>0.985751</td>\n",
       "      <td>0.484329</td>\n",
       "    </tr>\n",
       "    <tr>\n",
       "      <th>2</th>\n",
       "      <td>0.573638</td>\n",
       "      <td>1.849909</td>\n",
       "      <td>-1.085165</td>\n",
       "      <td>1.258095</td>\n",
       "      <td>0.109660</td>\n",
       "      <td>-0.833368</td>\n",
       "      <td>1.431032</td>\n",
       "      <td>0.456784</td>\n",
       "      <td>0.484329</td>\n",
       "    </tr>\n",
       "    <tr>\n",
       "      <th>3</th>\n",
       "      <td>0.573638</td>\n",
       "      <td>0.373064</td>\n",
       "      <td>1.368708</td>\n",
       "      <td>1.258095</td>\n",
       "      <td>-0.665616</td>\n",
       "      <td>1.199950</td>\n",
       "      <td>0.666962</td>\n",
       "      <td>0.633106</td>\n",
       "      <td>0.484329</td>\n",
       "    </tr>\n",
       "    <tr>\n",
       "      <th>4</th>\n",
       "      <td>0.573638</td>\n",
       "      <td>-1.103780</td>\n",
       "      <td>0.601873</td>\n",
       "      <td>-0.056902</td>\n",
       "      <td>0.884935</td>\n",
       "      <td>1.199950</td>\n",
       "      <td>-0.097107</td>\n",
       "      <td>0.280462</td>\n",
       "      <td>0.185443</td>\n",
       "    </tr>\n",
       "  </tbody>\n",
       "</table>\n",
       "</div>\n",
       "      <button class=\"colab-df-convert\" onclick=\"convertToInteractive('df-f4aa0a4a-3811-4c21-a15d-f1b3d0915a97')\"\n",
       "              title=\"Convert this dataframe to an interactive table.\"\n",
       "              style=\"display:none;\">\n",
       "        \n",
       "  <svg xmlns=\"http://www.w3.org/2000/svg\" height=\"24px\"viewBox=\"0 0 24 24\"\n",
       "       width=\"24px\">\n",
       "    <path d=\"M0 0h24v24H0V0z\" fill=\"none\"/>\n",
       "    <path d=\"M18.56 5.44l.94 2.06.94-2.06 2.06-.94-2.06-.94-.94-2.06-.94 2.06-2.06.94zm-11 1L8.5 8.5l.94-2.06 2.06-.94-2.06-.94L8.5 2.5l-.94 2.06-2.06.94zm10 10l.94 2.06.94-2.06 2.06-.94-2.06-.94-.94-2.06-.94 2.06-2.06.94z\"/><path d=\"M17.41 7.96l-1.37-1.37c-.4-.4-.92-.59-1.43-.59-.52 0-1.04.2-1.43.59L10.3 9.45l-7.72 7.72c-.78.78-.78 2.05 0 2.83L4 21.41c.39.39.9.59 1.41.59.51 0 1.02-.2 1.41-.59l7.78-7.78 2.81-2.81c.8-.78.8-2.07 0-2.86zM5.41 20L4 18.59l7.72-7.72 1.47 1.35L5.41 20z\"/>\n",
       "  </svg>\n",
       "      </button>\n",
       "      \n",
       "  <style>\n",
       "    .colab-df-container {\n",
       "      display:flex;\n",
       "      flex-wrap:wrap;\n",
       "      gap: 12px;\n",
       "    }\n",
       "\n",
       "    .colab-df-convert {\n",
       "      background-color: #E8F0FE;\n",
       "      border: none;\n",
       "      border-radius: 50%;\n",
       "      cursor: pointer;\n",
       "      display: none;\n",
       "      fill: #1967D2;\n",
       "      height: 32px;\n",
       "      padding: 0 0 0 0;\n",
       "      width: 32px;\n",
       "    }\n",
       "\n",
       "    .colab-df-convert:hover {\n",
       "      background-color: #E2EBFA;\n",
       "      box-shadow: 0px 1px 2px rgba(60, 64, 67, 0.3), 0px 1px 3px 1px rgba(60, 64, 67, 0.15);\n",
       "      fill: #174EA6;\n",
       "    }\n",
       "\n",
       "    [theme=dark] .colab-df-convert {\n",
       "      background-color: #3B4455;\n",
       "      fill: #D2E3FC;\n",
       "    }\n",
       "\n",
       "    [theme=dark] .colab-df-convert:hover {\n",
       "      background-color: #434B5C;\n",
       "      box-shadow: 0px 1px 3px 1px rgba(0, 0, 0, 0.15);\n",
       "      filter: drop-shadow(0px 1px 2px rgba(0, 0, 0, 0.3));\n",
       "      fill: #FFFFFF;\n",
       "    }\n",
       "  </style>\n",
       "\n",
       "      <script>\n",
       "        const buttonEl =\n",
       "          document.querySelector('#df-f4aa0a4a-3811-4c21-a15d-f1b3d0915a97 button.colab-df-convert');\n",
       "        buttonEl.style.display =\n",
       "          google.colab.kernel.accessAllowed ? 'block' : 'none';\n",
       "\n",
       "        async function convertToInteractive(key) {\n",
       "          const element = document.querySelector('#df-f4aa0a4a-3811-4c21-a15d-f1b3d0915a97');\n",
       "          const dataTable =\n",
       "            await google.colab.kernel.invokeFunction('convertToInteractive',\n",
       "                                                     [key], {});\n",
       "          if (!dataTable) return;\n",
       "\n",
       "          const docLinkHtml = 'Like what you see? Visit the ' +\n",
       "            '<a target=\"_blank\" href=https://colab.research.google.com/notebooks/data_table.ipynb>data table notebook</a>'\n",
       "            + ' to learn more about interactive tables.';\n",
       "          element.innerHTML = '';\n",
       "          dataTable['output_type'] = 'display_data';\n",
       "          await google.colab.output.renderOutput(dataTable, element);\n",
       "          const docLink = document.createElement('div');\n",
       "          docLink.innerHTML = docLinkHtml;\n",
       "          element.appendChild(docLink);\n",
       "        }\n",
       "      </script>\n",
       "    </div>\n",
       "  </div>\n",
       "  "
      ],
      "text/plain": [
       "     Gender       Age  Occupation  City_Category  Stay_In_Current_City_Years  \\\n",
       "0  0.573638 -0.365358    0.448506      -0.056902                    1.660211   \n",
       "1 -1.743261  2.588331   -0.164963      -0.056902                   -0.665616   \n",
       "2  0.573638  1.849909   -1.085165       1.258095                    0.109660   \n",
       "3  0.573638  0.373064    1.368708       1.258095                   -0.665616   \n",
       "4  0.573638 -1.103780    0.601873      -0.056902                    0.884935   \n",
       "\n",
       "   Marital_Status  Product_Category_1  Product_Category_2  Product_Category_3  \n",
       "0       -0.833368           -0.097107           -0.777470            0.484329  \n",
       "1        1.199950            0.666962            0.985751            0.484329  \n",
       "2       -0.833368            1.431032            0.456784            0.484329  \n",
       "3        1.199950            0.666962            0.633106            0.484329  \n",
       "4        1.199950           -0.097107            0.280462            0.185443  "
      ]
     },
     "execution_count": 29,
     "metadata": {},
     "output_type": "execute_result"
    }
   ],
   "source": [
    "#Scaling the features\n",
    "from sklearn.preprocessing import StandardScaler\n",
    "scaler = StandardScaler().fit(X_train)\n",
    "x_train_scaled = pd.DataFrame(scaler.transform(X_train),\n",
    "                              columns = X_train.columns)\n",
    "x_test_scaled = pd.DataFrame(scaler.transform(X_test),\n",
    "                             columns = X_test.columns)\n",
    "x_train_scaled.head()"
   ]
  },
  {
   "cell_type": "markdown",
   "metadata": {
    "id": "Atodv4Yx6B8P"
   },
   "source": [
    "## Lasso "
   ]
  },
  {
   "cell_type": "code",
   "execution_count": 30,
   "metadata": {
    "colab": {
     "base_uri": "https://localhost:8080/"
    },
    "executionInfo": {
     "elapsed": 346,
     "status": "ok",
     "timestamp": 1674222405569,
     "user": {
      "displayName": "Muhammaf zarif iqram Mat Rozali",
      "userId": "03892399400558550753"
     },
     "user_tz": -480
    },
    "id": "lmWurT2v4tEb",
    "outputId": "1722c6fb-7eec-4c61-f9ab-f95919279593"
   },
   "outputs": [
    {
     "name": "stdout",
     "output_type": "stream",
     "text": [
      "RMSE: 4519.803331474266\n",
      "MAE: 20428622.155205876\n",
      "R2 Score: 16.09\n"
     ]
    }
   ],
   "source": [
    "#Lasso\n",
    "lasso.fit(x_train_scaled,y_train)\n",
    "y_pred_scaled_ls = lasso.predict(x_test_scaled)\n",
    "print(\"RMSE:\",np.sqrt(metrics.mean_squared_error(y_test, y_pred_scaled_ls)))\n",
    "print(\"MAE:\",metrics.mean_absolute_error(y_test, y_pred_scaled_ls))\n",
    "print(\"R2 Score:\",round(metrics.r2_score(y_test,y_pred_scaled_ls)*100,2))"
   ]
  },
  {
   "cell_type": "markdown",
   "metadata": {
    "id": "TAb1FD8g6F9K"
   },
   "source": [
    "## Random Forest"
   ]
  },
  {
   "cell_type": "code",
   "execution_count": 31,
   "metadata": {
    "colab": {
     "base_uri": "https://localhost:8080/"
    },
    "executionInfo": {
     "elapsed": 96740,
     "status": "ok",
     "timestamp": 1674222532517,
     "user": {
      "displayName": "Muhammaf zarif iqram Mat Rozali",
      "userId": "03892399400558550753"
     },
     "user_tz": -480
    },
    "id": "PKUJ3h1n6J9Q",
    "outputId": "7d3771bb-d99d-4369-a89f-bdda637a3a96"
   },
   "outputs": [
    {
     "name": "stderr",
     "output_type": "stream",
     "text": [
      "<ipython-input-31-703993bad221>:2: DataConversionWarning:\n",
      "\n",
      "A column-vector y was passed when a 1d array was expected. Please change the shape of y to (n_samples,), for example using ravel().\n",
      "\n"
     ]
    },
    {
     "name": "stdout",
     "output_type": "stream",
     "text": [
      "RMSE: 3023.959887855997\n",
      "MAE: 9144333.403362053\n",
      "R2 Score: 62.44\n"
     ]
    }
   ],
   "source": [
    "#RF\n",
    "rf.fit(x_train_scaled, y_train)\n",
    "y_pred_scaled_rf = rf.predict(x_test_scaled)\n",
    "print(\"RMSE:\",np.sqrt(metrics.mean_squared_error(y_test, y_pred_scaled_rf)))\n",
    "print(\"MAE:\",metrics.mean_absolute_error(y_test, y_pred_scaled_rf))\n",
    "print(\"R2 Score:\",round(metrics.r2_score(y_test,y_pred_scaled_rf)*100,2))"
   ]
  },
  {
   "cell_type": "markdown",
   "metadata": {
    "id": "MmLEacF__7tY"
   },
   "source": [
    "## Gradient Boosting"
   ]
  },
  {
   "cell_type": "code",
   "execution_count": 32,
   "metadata": {
    "colab": {
     "base_uri": "https://localhost:8080/"
    },
    "executionInfo": {
     "elapsed": 32991,
     "status": "ok",
     "timestamp": 1674222584614,
     "user": {
      "displayName": "Muhammaf zarif iqram Mat Rozali",
      "userId": "03892399400558550753"
     },
     "user_tz": -480
    },
    "id": "IilLXrIU_HEg",
    "outputId": "67bf2204-3455-4bed-b8b8-91f77612d854"
   },
   "outputs": [
    {
     "name": "stderr",
     "output_type": "stream",
     "text": [
      "/usr/local/lib/python3.8/dist-packages/sklearn/ensemble/_gb.py:494: DataConversionWarning:\n",
      "\n",
      "A column-vector y was passed when a 1d array was expected. Please change the shape of y to (n_samples, ), for example using ravel().\n",
      "\n"
     ]
    },
    {
     "name": "stdout",
     "output_type": "stream",
     "text": [
      "RMSE: 2949.5115069658264\n",
      "MAE: 8699618.129723819\n",
      "R2 Score: 64.27\n"
     ]
    }
   ],
   "source": [
    "gb.fit(x_train_scaled, y_train)\n",
    "y_pred_gb_scaled = gb.predict(x_test_scaled)\n",
    "print(\"RMSE:\",np.sqrt(metrics.mean_squared_error(y_test, y_pred_gb_scaled)))\n",
    "print(\"MAE:\",metrics.mean_absolute_error(y_test, y_pred_gb_scaled))\n",
    "print(\"R2 Score:\",round(metrics.r2_score(y_test,y_pred_gb_scaled)*100,2))"
   ]
  },
  {
   "cell_type": "markdown",
   "metadata": {
    "id": "Ha2_zX7pRnHe"
   },
   "source": [
    "XGBoost"
   ]
  },
  {
   "cell_type": "code",
   "execution_count": 33,
   "metadata": {
    "colab": {
     "base_uri": "https://localhost:8080/"
    },
    "executionInfo": {
     "elapsed": 58770,
     "status": "ok",
     "timestamp": 1674222648097,
     "user": {
      "displayName": "Muhammaf zarif iqram Mat Rozali",
      "userId": "03892399400558550753"
     },
     "user_tz": -480
    },
    "id": "sG_r8qxBRa9e",
    "outputId": "9ce73556-884b-4f2b-f93e-3066a3dce668"
   },
   "outputs": [
    {
     "name": "stdout",
     "output_type": "stream",
     "text": [
      "[13:49:49] WARNING: /workspace/src/objective/regression_obj.cu:152: reg:linear is now deprecated in favor of reg:squarederror.\n",
      "RMSE: 2829.402978065871\n",
      "MAE: 8005521.21228802\n",
      "R2 Score: 67.12\n"
     ]
    }
   ],
   "source": [
    "xgb = XGBRegressor(n_estimators=100, learning_rate=0.2, max_depth=8)\n",
    "xgb.fit(x_train_scaled, y_train)\n",
    "y_pred_xgb_scaled = xgb.predict(x_test_scaled)\n",
    "print(\"RMSE:\",np.sqrt(metrics.mean_squared_error(y_test, y_pred_xgb_scaled)))\n",
    "print(\"MAE:\",metrics.mean_absolute_error(y_test, y_pred_xgb_scaled))\n",
    "print(\"R2 Score:\",round(metrics.r2_score(y_test,y_pred_xgb_scaled)*100,2))"
   ]
  },
  {
   "cell_type": "markdown",
   "metadata": {
    "id": "Cw-b3pp6AB15"
   },
   "source": [
    "## Ada Boost"
   ]
  },
  {
   "cell_type": "code",
   "execution_count": 34,
   "metadata": {
    "colab": {
     "base_uri": "https://localhost:8080/"
    },
    "executionInfo": {
     "elapsed": 10737,
     "status": "ok",
     "timestamp": 1674222686500,
     "user": {
      "displayName": "Muhammaf zarif iqram Mat Rozali",
      "userId": "03892399400558550753"
     },
     "user_tz": -480
    },
    "id": "88-mEB0dADwk",
    "outputId": "0dee5b1a-ff12-442f-daa0-376f809893d1"
   },
   "outputs": [
    {
     "name": "stderr",
     "output_type": "stream",
     "text": [
      "/usr/local/lib/python3.8/dist-packages/sklearn/utils/validation.py:993: DataConversionWarning:\n",
      "\n",
      "A column-vector y was passed when a 1d array was expected. Please change the shape of y to (n_samples, ), for example using ravel().\n",
      "\n"
     ]
    },
    {
     "name": "stdout",
     "output_type": "stream",
     "text": [
      "RMSE: 3492.0503107979885\n",
      "MAE: 12194415.373144327\n",
      "R2 Score: 49.91\n"
     ]
    }
   ],
   "source": [
    "adaboost.fit(x_train_scaled, y_train)\n",
    "y_pred_ada_scaled = adaboost.predict(x_test_scaled)\n",
    "print(\"RMSE:\",np.sqrt(metrics.mean_squared_error(y_test, y_pred_ada_scaled)))\n",
    "print(\"MAE:\",metrics.mean_absolute_error(y_test, y_pred_ada_scaled))\n",
    "print(\"R2 Score:\",round(metrics.r2_score(y_test,y_pred_ada_scaled)*100,2))\n"
   ]
  },
  {
   "cell_type": "markdown",
   "metadata": {
    "id": "FpeE1TnjTyGy"
   },
   "source": [
    "**CASE 2: Using Cross Validation score Library**"
   ]
  },
  {
   "cell_type": "markdown",
   "metadata": {
    "id": "ppKFnHtjT-u-"
   },
   "source": [
    "**1. Without applying Standard Scaler**"
   ]
  },
  {
   "cell_type": "code",
   "execution_count": 19,
   "metadata": {
    "executionInfo": {
     "elapsed": 510,
     "status": "ok",
     "timestamp": 1674172758087,
     "user": {
      "displayName": "Muhammaf zarif iqram Mat Rozali",
      "userId": "03892399400558550753"
     },
     "user_tz": -480
    },
    "id": "9ZapJS5zL2EZ"
   },
   "outputs": [],
   "source": [
    "#We will save the model performance metrics in a DataFrame\n",
    "from sklearn.metrics import mean_squared_error, r2_score\n",
    "from sklearn.model_selection import cross_val_score\n",
    "import numpy as np\n",
    "Model = []\n",
    "RMSE = []\n",
    "MAE = []\n",
    "R_sq = []\n",
    "\n",
    "#Creating a Function to append the cross validation scores of the algorithms\n",
    "def input_scores(name, model, X, y):\n",
    "    Model.append(name)\n",
    "    RMSE.append(np.sqrt((-1) * cross_val_score(model, X, y, cv=5, \n",
    "                                               scoring='neg_mean_squared_error').mean()))\n",
    "    MAE.append(((-1) * cross_val_score(model, X, y, cv=5, \n",
    "                                               scoring='neg_mean_absolute_error').mean()))\n",
    "    R_sq.append(cross_val_score(model, X, y, cv=5, scoring='r2').mean())"
   ]
  },
  {
   "cell_type": "code",
   "execution_count": 20,
   "metadata": {
    "colab": {
     "base_uri": "https://localhost:8080/"
    },
    "executionInfo": {
     "elapsed": 3840627,
     "status": "ok",
     "timestamp": 1674176613281,
     "user": {
      "displayName": "Muhammaf zarif iqram Mat Rozali",
      "userId": "03892399400558550753"
     },
     "user_tz": -480
    },
    "id": "O7RWenOGjnPt",
    "outputId": "22238271-a6e3-4c35-f9b5-6bad55027ec5"
   },
   "outputs": [
    {
     "name": "stderr",
     "output_type": "stream",
     "text": [
      "/usr/local/lib/python3.8/dist-packages/sklearn/model_selection/_validation.py:680: DataConversionWarning:\n",
      "\n",
      "A column-vector y was passed when a 1d array was expected. Please change the shape of y to (n_samples,), for example using ravel().\n",
      "\n",
      "/usr/local/lib/python3.8/dist-packages/sklearn/model_selection/_validation.py:680: DataConversionWarning:\n",
      "\n",
      "A column-vector y was passed when a 1d array was expected. Please change the shape of y to (n_samples,), for example using ravel().\n",
      "\n",
      "/usr/local/lib/python3.8/dist-packages/sklearn/model_selection/_validation.py:680: DataConversionWarning:\n",
      "\n",
      "A column-vector y was passed when a 1d array was expected. Please change the shape of y to (n_samples,), for example using ravel().\n",
      "\n",
      "/usr/local/lib/python3.8/dist-packages/sklearn/model_selection/_validation.py:680: DataConversionWarning:\n",
      "\n",
      "A column-vector y was passed when a 1d array was expected. Please change the shape of y to (n_samples,), for example using ravel().\n",
      "\n",
      "/usr/local/lib/python3.8/dist-packages/sklearn/model_selection/_validation.py:680: DataConversionWarning:\n",
      "\n",
      "A column-vector y was passed when a 1d array was expected. Please change the shape of y to (n_samples,), for example using ravel().\n",
      "\n",
      "/usr/local/lib/python3.8/dist-packages/sklearn/model_selection/_validation.py:680: DataConversionWarning:\n",
      "\n",
      "A column-vector y was passed when a 1d array was expected. Please change the shape of y to (n_samples,), for example using ravel().\n",
      "\n",
      "/usr/local/lib/python3.8/dist-packages/sklearn/model_selection/_validation.py:680: DataConversionWarning:\n",
      "\n",
      "A column-vector y was passed when a 1d array was expected. Please change the shape of y to (n_samples,), for example using ravel().\n",
      "\n",
      "/usr/local/lib/python3.8/dist-packages/sklearn/model_selection/_validation.py:680: DataConversionWarning:\n",
      "\n",
      "A column-vector y was passed when a 1d array was expected. Please change the shape of y to (n_samples,), for example using ravel().\n",
      "\n",
      "/usr/local/lib/python3.8/dist-packages/sklearn/model_selection/_validation.py:680: DataConversionWarning:\n",
      "\n",
      "A column-vector y was passed when a 1d array was expected. Please change the shape of y to (n_samples,), for example using ravel().\n",
      "\n",
      "/usr/local/lib/python3.8/dist-packages/sklearn/model_selection/_validation.py:680: DataConversionWarning:\n",
      "\n",
      "A column-vector y was passed when a 1d array was expected. Please change the shape of y to (n_samples,), for example using ravel().\n",
      "\n",
      "/usr/local/lib/python3.8/dist-packages/sklearn/model_selection/_validation.py:680: DataConversionWarning:\n",
      "\n",
      "A column-vector y was passed when a 1d array was expected. Please change the shape of y to (n_samples,), for example using ravel().\n",
      "\n",
      "/usr/local/lib/python3.8/dist-packages/sklearn/model_selection/_validation.py:680: DataConversionWarning:\n",
      "\n",
      "A column-vector y was passed when a 1d array was expected. Please change the shape of y to (n_samples,), for example using ravel().\n",
      "\n",
      "/usr/local/lib/python3.8/dist-packages/sklearn/model_selection/_validation.py:680: DataConversionWarning:\n",
      "\n",
      "A column-vector y was passed when a 1d array was expected. Please change the shape of y to (n_samples,), for example using ravel().\n",
      "\n",
      "/usr/local/lib/python3.8/dist-packages/sklearn/model_selection/_validation.py:680: DataConversionWarning:\n",
      "\n",
      "A column-vector y was passed when a 1d array was expected. Please change the shape of y to (n_samples,), for example using ravel().\n",
      "\n",
      "/usr/local/lib/python3.8/dist-packages/sklearn/model_selection/_validation.py:680: DataConversionWarning:\n",
      "\n",
      "A column-vector y was passed when a 1d array was expected. Please change the shape of y to (n_samples,), for example using ravel().\n",
      "\n",
      "/usr/local/lib/python3.8/dist-packages/sklearn/ensemble/_gb.py:494: DataConversionWarning:\n",
      "\n",
      "A column-vector y was passed when a 1d array was expected. Please change the shape of y to (n_samples, ), for example using ravel().\n",
      "\n",
      "/usr/local/lib/python3.8/dist-packages/sklearn/ensemble/_gb.py:494: DataConversionWarning:\n",
      "\n",
      "A column-vector y was passed when a 1d array was expected. Please change the shape of y to (n_samples, ), for example using ravel().\n",
      "\n",
      "/usr/local/lib/python3.8/dist-packages/sklearn/ensemble/_gb.py:494: DataConversionWarning:\n",
      "\n",
      "A column-vector y was passed when a 1d array was expected. Please change the shape of y to (n_samples, ), for example using ravel().\n",
      "\n",
      "/usr/local/lib/python3.8/dist-packages/sklearn/ensemble/_gb.py:494: DataConversionWarning:\n",
      "\n",
      "A column-vector y was passed when a 1d array was expected. Please change the shape of y to (n_samples, ), for example using ravel().\n",
      "\n",
      "/usr/local/lib/python3.8/dist-packages/sklearn/ensemble/_gb.py:494: DataConversionWarning:\n",
      "\n",
      "A column-vector y was passed when a 1d array was expected. Please change the shape of y to (n_samples, ), for example using ravel().\n",
      "\n",
      "/usr/local/lib/python3.8/dist-packages/sklearn/ensemble/_gb.py:494: DataConversionWarning:\n",
      "\n",
      "A column-vector y was passed when a 1d array was expected. Please change the shape of y to (n_samples, ), for example using ravel().\n",
      "\n",
      "/usr/local/lib/python3.8/dist-packages/sklearn/ensemble/_gb.py:494: DataConversionWarning:\n",
      "\n",
      "A column-vector y was passed when a 1d array was expected. Please change the shape of y to (n_samples, ), for example using ravel().\n",
      "\n",
      "/usr/local/lib/python3.8/dist-packages/sklearn/ensemble/_gb.py:494: DataConversionWarning:\n",
      "\n",
      "A column-vector y was passed when a 1d array was expected. Please change the shape of y to (n_samples, ), for example using ravel().\n",
      "\n",
      "/usr/local/lib/python3.8/dist-packages/sklearn/ensemble/_gb.py:494: DataConversionWarning:\n",
      "\n",
      "A column-vector y was passed when a 1d array was expected. Please change the shape of y to (n_samples, ), for example using ravel().\n",
      "\n",
      "/usr/local/lib/python3.8/dist-packages/sklearn/ensemble/_gb.py:494: DataConversionWarning:\n",
      "\n",
      "A column-vector y was passed when a 1d array was expected. Please change the shape of y to (n_samples, ), for example using ravel().\n",
      "\n",
      "/usr/local/lib/python3.8/dist-packages/sklearn/ensemble/_gb.py:494: DataConversionWarning:\n",
      "\n",
      "A column-vector y was passed when a 1d array was expected. Please change the shape of y to (n_samples, ), for example using ravel().\n",
      "\n",
      "/usr/local/lib/python3.8/dist-packages/sklearn/ensemble/_gb.py:494: DataConversionWarning:\n",
      "\n",
      "A column-vector y was passed when a 1d array was expected. Please change the shape of y to (n_samples, ), for example using ravel().\n",
      "\n",
      "/usr/local/lib/python3.8/dist-packages/sklearn/ensemble/_gb.py:494: DataConversionWarning:\n",
      "\n",
      "A column-vector y was passed when a 1d array was expected. Please change the shape of y to (n_samples, ), for example using ravel().\n",
      "\n",
      "/usr/local/lib/python3.8/dist-packages/sklearn/ensemble/_gb.py:494: DataConversionWarning:\n",
      "\n",
      "A column-vector y was passed when a 1d array was expected. Please change the shape of y to (n_samples, ), for example using ravel().\n",
      "\n",
      "/usr/local/lib/python3.8/dist-packages/sklearn/ensemble/_gb.py:494: DataConversionWarning:\n",
      "\n",
      "A column-vector y was passed when a 1d array was expected. Please change the shape of y to (n_samples, ), for example using ravel().\n",
      "\n"
     ]
    },
    {
     "name": "stdout",
     "output_type": "stream",
     "text": [
      "[00:41:01] WARNING: /workspace/src/objective/regression_obj.cu:152: reg:linear is now deprecated in favor of reg:squarederror.\n",
      "[00:42:14] WARNING: /workspace/src/objective/regression_obj.cu:152: reg:linear is now deprecated in favor of reg:squarederror.\n",
      "[00:43:28] WARNING: /workspace/src/objective/regression_obj.cu:152: reg:linear is now deprecated in favor of reg:squarederror.\n",
      "[00:44:41] WARNING: /workspace/src/objective/regression_obj.cu:152: reg:linear is now deprecated in favor of reg:squarederror.\n",
      "[00:45:55] WARNING: /workspace/src/objective/regression_obj.cu:152: reg:linear is now deprecated in favor of reg:squarederror.\n",
      "[00:47:11] WARNING: /workspace/src/objective/regression_obj.cu:152: reg:linear is now deprecated in favor of reg:squarederror.\n",
      "[00:48:24] WARNING: /workspace/src/objective/regression_obj.cu:152: reg:linear is now deprecated in favor of reg:squarederror.\n",
      "[00:49:36] WARNING: /workspace/src/objective/regression_obj.cu:152: reg:linear is now deprecated in favor of reg:squarederror.\n",
      "[00:50:50] WARNING: /workspace/src/objective/regression_obj.cu:152: reg:linear is now deprecated in favor of reg:squarederror.\n",
      "[00:52:03] WARNING: /workspace/src/objective/regression_obj.cu:152: reg:linear is now deprecated in favor of reg:squarederror.\n",
      "[00:53:17] WARNING: /workspace/src/objective/regression_obj.cu:152: reg:linear is now deprecated in favor of reg:squarederror.\n",
      "[00:54:28] WARNING: /workspace/src/objective/regression_obj.cu:152: reg:linear is now deprecated in favor of reg:squarederror.\n",
      "[00:55:41] WARNING: /workspace/src/objective/regression_obj.cu:152: reg:linear is now deprecated in favor of reg:squarederror.\n",
      "[00:56:54] WARNING: /workspace/src/objective/regression_obj.cu:152: reg:linear is now deprecated in favor of reg:squarederror.\n",
      "[00:58:10] WARNING: /workspace/src/objective/regression_obj.cu:152: reg:linear is now deprecated in favor of reg:squarederror.\n"
     ]
    },
    {
     "name": "stderr",
     "output_type": "stream",
     "text": [
      "/usr/local/lib/python3.8/dist-packages/sklearn/utils/validation.py:993: DataConversionWarning:\n",
      "\n",
      "A column-vector y was passed when a 1d array was expected. Please change the shape of y to (n_samples, ), for example using ravel().\n",
      "\n",
      "/usr/local/lib/python3.8/dist-packages/sklearn/utils/validation.py:993: DataConversionWarning:\n",
      "\n",
      "A column-vector y was passed when a 1d array was expected. Please change the shape of y to (n_samples, ), for example using ravel().\n",
      "\n",
      "/usr/local/lib/python3.8/dist-packages/sklearn/utils/validation.py:993: DataConversionWarning:\n",
      "\n",
      "A column-vector y was passed when a 1d array was expected. Please change the shape of y to (n_samples, ), for example using ravel().\n",
      "\n",
      "/usr/local/lib/python3.8/dist-packages/sklearn/utils/validation.py:993: DataConversionWarning:\n",
      "\n",
      "A column-vector y was passed when a 1d array was expected. Please change the shape of y to (n_samples, ), for example using ravel().\n",
      "\n",
      "/usr/local/lib/python3.8/dist-packages/sklearn/utils/validation.py:993: DataConversionWarning:\n",
      "\n",
      "A column-vector y was passed when a 1d array was expected. Please change the shape of y to (n_samples, ), for example using ravel().\n",
      "\n",
      "/usr/local/lib/python3.8/dist-packages/sklearn/utils/validation.py:993: DataConversionWarning:\n",
      "\n",
      "A column-vector y was passed when a 1d array was expected. Please change the shape of y to (n_samples, ), for example using ravel().\n",
      "\n",
      "/usr/local/lib/python3.8/dist-packages/sklearn/utils/validation.py:993: DataConversionWarning:\n",
      "\n",
      "A column-vector y was passed when a 1d array was expected. Please change the shape of y to (n_samples, ), for example using ravel().\n",
      "\n",
      "/usr/local/lib/python3.8/dist-packages/sklearn/utils/validation.py:993: DataConversionWarning:\n",
      "\n",
      "A column-vector y was passed when a 1d array was expected. Please change the shape of y to (n_samples, ), for example using ravel().\n",
      "\n",
      "/usr/local/lib/python3.8/dist-packages/sklearn/utils/validation.py:993: DataConversionWarning:\n",
      "\n",
      "A column-vector y was passed when a 1d array was expected. Please change the shape of y to (n_samples, ), for example using ravel().\n",
      "\n",
      "/usr/local/lib/python3.8/dist-packages/sklearn/utils/validation.py:993: DataConversionWarning:\n",
      "\n",
      "A column-vector y was passed when a 1d array was expected. Please change the shape of y to (n_samples, ), for example using ravel().\n",
      "\n",
      "/usr/local/lib/python3.8/dist-packages/sklearn/utils/validation.py:993: DataConversionWarning:\n",
      "\n",
      "A column-vector y was passed when a 1d array was expected. Please change the shape of y to (n_samples, ), for example using ravel().\n",
      "\n",
      "/usr/local/lib/python3.8/dist-packages/sklearn/utils/validation.py:993: DataConversionWarning:\n",
      "\n",
      "A column-vector y was passed when a 1d array was expected. Please change the shape of y to (n_samples, ), for example using ravel().\n",
      "\n",
      "/usr/local/lib/python3.8/dist-packages/sklearn/utils/validation.py:993: DataConversionWarning:\n",
      "\n",
      "A column-vector y was passed when a 1d array was expected. Please change the shape of y to (n_samples, ), for example using ravel().\n",
      "\n",
      "/usr/local/lib/python3.8/dist-packages/sklearn/utils/validation.py:993: DataConversionWarning:\n",
      "\n",
      "A column-vector y was passed when a 1d array was expected. Please change the shape of y to (n_samples, ), for example using ravel().\n",
      "\n"
     ]
    }
   ],
   "source": [
    "from sklearn.linear_model import Lasso\n",
    "from sklearn.ensemble import (RandomForestRegressor, GradientBoostingRegressor, \n",
    "                              AdaBoostRegressor)\n",
    "from xgboost.sklearn import XGBRegressor\n",
    "\n",
    "names = [ 'Lasso Regression', \n",
    "         'Random Forest Regressor', 'Gradient Boosting Regressor','XGBoost Regressor',\n",
    "         'Adaboost Regressor']\n",
    "models = [ Lasso(random_state=0),RandomForestRegressor(random_state=0), GradientBoostingRegressor(random_state=0), \n",
    "          XGBRegressor(n_estimators=100, learning_rate=0.2, max_depth=8),AdaBoostRegressor(random_state=0)]\n",
    "\n",
    "#Running all algorithms\n",
    "for name, model in zip(names, models):\n",
    "    input_scores(name, model, X, y)"
   ]
  },
  {
   "cell_type": "code",
   "execution_count": 21,
   "metadata": {
    "colab": {
     "base_uri": "https://localhost:8080/",
     "height": 224
    },
    "executionInfo": {
     "elapsed": 391,
     "status": "ok",
     "timestamp": 1674176981552,
     "user": {
      "displayName": "Muhammaf zarif iqram Mat Rozali",
      "userId": "03892399400558550753"
     },
     "user_tz": -480
    },
    "id": "gLc31jVpj5yV",
    "outputId": "ba980459-dc3c-44da-d137-c53829dad4d3"
   },
   "outputs": [
    {
     "name": "stdout",
     "output_type": "stream",
     "text": [
      "FOLLOWING ARE THE TRAINING SCORES: \n"
     ]
    },
    {
     "data": {
      "text/html": [
       "\n",
       "  <div id=\"df-26040b6c-b32d-4ce9-9966-b71f60c9d442\">\n",
       "    <div class=\"colab-df-container\">\n",
       "      <div>\n",
       "<style scoped>\n",
       "    .dataframe tbody tr th:only-of-type {\n",
       "        vertical-align: middle;\n",
       "    }\n",
       "\n",
       "    .dataframe tbody tr th {\n",
       "        vertical-align: top;\n",
       "    }\n",
       "\n",
       "    .dataframe thead th {\n",
       "        text-align: right;\n",
       "    }\n",
       "</style>\n",
       "<table border=\"1\" class=\"dataframe\">\n",
       "  <thead>\n",
       "    <tr style=\"text-align: right;\">\n",
       "      <th></th>\n",
       "      <th>Model</th>\n",
       "      <th>RMSE</th>\n",
       "      <th>MAE</th>\n",
       "      <th>R Squared</th>\n",
       "    </tr>\n",
       "  </thead>\n",
       "  <tbody>\n",
       "    <tr>\n",
       "      <th>0</th>\n",
       "      <td>Lasso Regression</td>\n",
       "      <td>4530.400103</td>\n",
       "      <td>3470.725390</td>\n",
       "      <td>0.156869</td>\n",
       "    </tr>\n",
       "    <tr>\n",
       "      <th>1</th>\n",
       "      <td>Random Forest Regressor</td>\n",
       "      <td>3041.916184</td>\n",
       "      <td>2228.828889</td>\n",
       "      <td>0.619935</td>\n",
       "    </tr>\n",
       "    <tr>\n",
       "      <th>2</th>\n",
       "      <td>Gradient Boosting Regressor</td>\n",
       "      <td>2976.755041</td>\n",
       "      <td>2271.237014</td>\n",
       "      <td>0.636089</td>\n",
       "    </tr>\n",
       "    <tr>\n",
       "      <th>3</th>\n",
       "      <td>XGBoost Regressor</td>\n",
       "      <td>2852.471870</td>\n",
       "      <td>2136.976641</td>\n",
       "      <td>0.665840</td>\n",
       "    </tr>\n",
       "    <tr>\n",
       "      <th>4</th>\n",
       "      <td>Adaboost Regressor</td>\n",
       "      <td>3428.011275</td>\n",
       "      <td>2678.994874</td>\n",
       "      <td>0.517591</td>\n",
       "    </tr>\n",
       "  </tbody>\n",
       "</table>\n",
       "</div>\n",
       "      <button class=\"colab-df-convert\" onclick=\"convertToInteractive('df-26040b6c-b32d-4ce9-9966-b71f60c9d442')\"\n",
       "              title=\"Convert this dataframe to an interactive table.\"\n",
       "              style=\"display:none;\">\n",
       "        \n",
       "  <svg xmlns=\"http://www.w3.org/2000/svg\" height=\"24px\"viewBox=\"0 0 24 24\"\n",
       "       width=\"24px\">\n",
       "    <path d=\"M0 0h24v24H0V0z\" fill=\"none\"/>\n",
       "    <path d=\"M18.56 5.44l.94 2.06.94-2.06 2.06-.94-2.06-.94-.94-2.06-.94 2.06-2.06.94zm-11 1L8.5 8.5l.94-2.06 2.06-.94-2.06-.94L8.5 2.5l-.94 2.06-2.06.94zm10 10l.94 2.06.94-2.06 2.06-.94-2.06-.94-.94-2.06-.94 2.06-2.06.94z\"/><path d=\"M17.41 7.96l-1.37-1.37c-.4-.4-.92-.59-1.43-.59-.52 0-1.04.2-1.43.59L10.3 9.45l-7.72 7.72c-.78.78-.78 2.05 0 2.83L4 21.41c.39.39.9.59 1.41.59.51 0 1.02-.2 1.41-.59l7.78-7.78 2.81-2.81c.8-.78.8-2.07 0-2.86zM5.41 20L4 18.59l7.72-7.72 1.47 1.35L5.41 20z\"/>\n",
       "  </svg>\n",
       "      </button>\n",
       "      \n",
       "  <style>\n",
       "    .colab-df-container {\n",
       "      display:flex;\n",
       "      flex-wrap:wrap;\n",
       "      gap: 12px;\n",
       "    }\n",
       "\n",
       "    .colab-df-convert {\n",
       "      background-color: #E8F0FE;\n",
       "      border: none;\n",
       "      border-radius: 50%;\n",
       "      cursor: pointer;\n",
       "      display: none;\n",
       "      fill: #1967D2;\n",
       "      height: 32px;\n",
       "      padding: 0 0 0 0;\n",
       "      width: 32px;\n",
       "    }\n",
       "\n",
       "    .colab-df-convert:hover {\n",
       "      background-color: #E2EBFA;\n",
       "      box-shadow: 0px 1px 2px rgba(60, 64, 67, 0.3), 0px 1px 3px 1px rgba(60, 64, 67, 0.15);\n",
       "      fill: #174EA6;\n",
       "    }\n",
       "\n",
       "    [theme=dark] .colab-df-convert {\n",
       "      background-color: #3B4455;\n",
       "      fill: #D2E3FC;\n",
       "    }\n",
       "\n",
       "    [theme=dark] .colab-df-convert:hover {\n",
       "      background-color: #434B5C;\n",
       "      box-shadow: 0px 1px 3px 1px rgba(0, 0, 0, 0.15);\n",
       "      filter: drop-shadow(0px 1px 2px rgba(0, 0, 0, 0.3));\n",
       "      fill: #FFFFFF;\n",
       "    }\n",
       "  </style>\n",
       "\n",
       "      <script>\n",
       "        const buttonEl =\n",
       "          document.querySelector('#df-26040b6c-b32d-4ce9-9966-b71f60c9d442 button.colab-df-convert');\n",
       "        buttonEl.style.display =\n",
       "          google.colab.kernel.accessAllowed ? 'block' : 'none';\n",
       "\n",
       "        async function convertToInteractive(key) {\n",
       "          const element = document.querySelector('#df-26040b6c-b32d-4ce9-9966-b71f60c9d442');\n",
       "          const dataTable =\n",
       "            await google.colab.kernel.invokeFunction('convertToInteractive',\n",
       "                                                     [key], {});\n",
       "          if (!dataTable) return;\n",
       "\n",
       "          const docLinkHtml = 'Like what you see? Visit the ' +\n",
       "            '<a target=\"_blank\" href=https://colab.research.google.com/notebooks/data_table.ipynb>data table notebook</a>'\n",
       "            + ' to learn more about interactive tables.';\n",
       "          element.innerHTML = '';\n",
       "          dataTable['output_type'] = 'display_data';\n",
       "          await google.colab.output.renderOutput(dataTable, element);\n",
       "          const docLink = document.createElement('div');\n",
       "          docLink.innerHTML = docLinkHtml;\n",
       "          element.appendChild(docLink);\n",
       "        }\n",
       "      </script>\n",
       "    </div>\n",
       "  </div>\n",
       "  "
      ],
      "text/plain": [
       "                         Model         RMSE          MAE  R Squared\n",
       "0             Lasso Regression  4530.400103  3470.725390   0.156869\n",
       "1      Random Forest Regressor  3041.916184  2228.828889   0.619935\n",
       "2  Gradient Boosting Regressor  2976.755041  2271.237014   0.636089\n",
       "3            XGBoost Regressor  2852.471870  2136.976641   0.665840\n",
       "4           Adaboost Regressor  3428.011275  2678.994874   0.517591"
      ]
     },
     "execution_count": 21,
     "metadata": {},
     "output_type": "execute_result"
    }
   ],
   "source": [
    "evaluation = pd.DataFrame({'Model': Model,\n",
    "                           'RMSE': RMSE,\n",
    "                           'MAE':MAE,\n",
    "                           'R Squared': R_sq})\n",
    "print(\"FOLLOWING ARE THE TRAINING SCORES: \")\n",
    "evaluation"
   ]
  },
  {
   "cell_type": "markdown",
   "metadata": {
    "id": "U_3ihMZ2UFjp"
   },
   "source": [
    "**2. With applying standard scaler**"
   ]
  },
  {
   "cell_type": "code",
   "execution_count": 22,
   "metadata": {
    "colab": {
     "base_uri": "https://localhost:8080/",
     "height": 206
    },
    "executionInfo": {
     "elapsed": 388,
     "status": "ok",
     "timestamp": 1674176998619,
     "user": {
      "displayName": "Muhammaf zarif iqram Mat Rozali",
      "userId": "03892399400558550753"
     },
     "user_tz": -480
    },
    "id": "NlbkEcMnnIMO",
    "outputId": "87ba63bb-aa9b-490c-e6b2-26e8da769f09"
   },
   "outputs": [
    {
     "data": {
      "text/html": [
       "\n",
       "  <div id=\"df-16a9ac89-ff3b-4905-abf6-6fb95360238a\">\n",
       "    <div class=\"colab-df-container\">\n",
       "      <div>\n",
       "<style scoped>\n",
       "    .dataframe tbody tr th:only-of-type {\n",
       "        vertical-align: middle;\n",
       "    }\n",
       "\n",
       "    .dataframe tbody tr th {\n",
       "        vertical-align: top;\n",
       "    }\n",
       "\n",
       "    .dataframe thead th {\n",
       "        text-align: right;\n",
       "    }\n",
       "</style>\n",
       "<table border=\"1\" class=\"dataframe\">\n",
       "  <thead>\n",
       "    <tr style=\"text-align: right;\">\n",
       "      <th></th>\n",
       "      <th>Gender</th>\n",
       "      <th>Age</th>\n",
       "      <th>Occupation</th>\n",
       "      <th>City_Category</th>\n",
       "      <th>Stay_In_Current_City_Years</th>\n",
       "      <th>Marital_Status</th>\n",
       "      <th>Product_Category_1</th>\n",
       "      <th>Product_Category_2</th>\n",
       "      <th>Product_Category_3</th>\n",
       "    </tr>\n",
       "  </thead>\n",
       "  <tbody>\n",
       "    <tr>\n",
       "      <th>0</th>\n",
       "      <td>-1.745896</td>\n",
       "      <td>-1.844212</td>\n",
       "      <td>0.295231</td>\n",
       "      <td>-1.371308</td>\n",
       "      <td>0.109757</td>\n",
       "      <td>-0.832731</td>\n",
       "      <td>-0.605733</td>\n",
       "      <td>0.986219</td>\n",
       "      <td>0.484560</td>\n",
       "    </tr>\n",
       "    <tr>\n",
       "      <th>1</th>\n",
       "      <td>-1.745896</td>\n",
       "      <td>-1.844212</td>\n",
       "      <td>0.295231</td>\n",
       "      <td>-1.371308</td>\n",
       "      <td>0.109757</td>\n",
       "      <td>-0.832731</td>\n",
       "      <td>-1.114979</td>\n",
       "      <td>-1.128836</td>\n",
       "      <td>-0.709997</td>\n",
       "    </tr>\n",
       "    <tr>\n",
       "      <th>2</th>\n",
       "      <td>-1.745896</td>\n",
       "      <td>-1.844212</td>\n",
       "      <td>0.295231</td>\n",
       "      <td>-1.371308</td>\n",
       "      <td>0.109757</td>\n",
       "      <td>-0.832731</td>\n",
       "      <td>1.685871</td>\n",
       "      <td>0.986219</td>\n",
       "      <td>0.484560</td>\n",
       "    </tr>\n",
       "    <tr>\n",
       "      <th>3</th>\n",
       "      <td>-1.745896</td>\n",
       "      <td>-1.844212</td>\n",
       "      <td>0.295231</td>\n",
       "      <td>-1.371308</td>\n",
       "      <td>0.109757</td>\n",
       "      <td>-0.832731</td>\n",
       "      <td>1.685871</td>\n",
       "      <td>0.281200</td>\n",
       "      <td>0.484560</td>\n",
       "    </tr>\n",
       "    <tr>\n",
       "      <th>4</th>\n",
       "      <td>0.572772</td>\n",
       "      <td>2.591425</td>\n",
       "      <td>1.215254</td>\n",
       "      <td>1.259771</td>\n",
       "      <td>1.660822</td>\n",
       "      <td>-0.832731</td>\n",
       "      <td>0.667380</td>\n",
       "      <td>0.986219</td>\n",
       "      <td>0.484560</td>\n",
       "    </tr>\n",
       "  </tbody>\n",
       "</table>\n",
       "</div>\n",
       "      <button class=\"colab-df-convert\" onclick=\"convertToInteractive('df-16a9ac89-ff3b-4905-abf6-6fb95360238a')\"\n",
       "              title=\"Convert this dataframe to an interactive table.\"\n",
       "              style=\"display:none;\">\n",
       "        \n",
       "  <svg xmlns=\"http://www.w3.org/2000/svg\" height=\"24px\"viewBox=\"0 0 24 24\"\n",
       "       width=\"24px\">\n",
       "    <path d=\"M0 0h24v24H0V0z\" fill=\"none\"/>\n",
       "    <path d=\"M18.56 5.44l.94 2.06.94-2.06 2.06-.94-2.06-.94-.94-2.06-.94 2.06-2.06.94zm-11 1L8.5 8.5l.94-2.06 2.06-.94-2.06-.94L8.5 2.5l-.94 2.06-2.06.94zm10 10l.94 2.06.94-2.06 2.06-.94-2.06-.94-.94-2.06-.94 2.06-2.06.94z\"/><path d=\"M17.41 7.96l-1.37-1.37c-.4-.4-.92-.59-1.43-.59-.52 0-1.04.2-1.43.59L10.3 9.45l-7.72 7.72c-.78.78-.78 2.05 0 2.83L4 21.41c.39.39.9.59 1.41.59.51 0 1.02-.2 1.41-.59l7.78-7.78 2.81-2.81c.8-.78.8-2.07 0-2.86zM5.41 20L4 18.59l7.72-7.72 1.47 1.35L5.41 20z\"/>\n",
       "  </svg>\n",
       "      </button>\n",
       "      \n",
       "  <style>\n",
       "    .colab-df-container {\n",
       "      display:flex;\n",
       "      flex-wrap:wrap;\n",
       "      gap: 12px;\n",
       "    }\n",
       "\n",
       "    .colab-df-convert {\n",
       "      background-color: #E8F0FE;\n",
       "      border: none;\n",
       "      border-radius: 50%;\n",
       "      cursor: pointer;\n",
       "      display: none;\n",
       "      fill: #1967D2;\n",
       "      height: 32px;\n",
       "      padding: 0 0 0 0;\n",
       "      width: 32px;\n",
       "    }\n",
       "\n",
       "    .colab-df-convert:hover {\n",
       "      background-color: #E2EBFA;\n",
       "      box-shadow: 0px 1px 2px rgba(60, 64, 67, 0.3), 0px 1px 3px 1px rgba(60, 64, 67, 0.15);\n",
       "      fill: #174EA6;\n",
       "    }\n",
       "\n",
       "    [theme=dark] .colab-df-convert {\n",
       "      background-color: #3B4455;\n",
       "      fill: #D2E3FC;\n",
       "    }\n",
       "\n",
       "    [theme=dark] .colab-df-convert:hover {\n",
       "      background-color: #434B5C;\n",
       "      box-shadow: 0px 1px 3px 1px rgba(0, 0, 0, 0.15);\n",
       "      filter: drop-shadow(0px 1px 2px rgba(0, 0, 0, 0.3));\n",
       "      fill: #FFFFFF;\n",
       "    }\n",
       "  </style>\n",
       "\n",
       "      <script>\n",
       "        const buttonEl =\n",
       "          document.querySelector('#df-16a9ac89-ff3b-4905-abf6-6fb95360238a button.colab-df-convert');\n",
       "        buttonEl.style.display =\n",
       "          google.colab.kernel.accessAllowed ? 'block' : 'none';\n",
       "\n",
       "        async function convertToInteractive(key) {\n",
       "          const element = document.querySelector('#df-16a9ac89-ff3b-4905-abf6-6fb95360238a');\n",
       "          const dataTable =\n",
       "            await google.colab.kernel.invokeFunction('convertToInteractive',\n",
       "                                                     [key], {});\n",
       "          if (!dataTable) return;\n",
       "\n",
       "          const docLinkHtml = 'Like what you see? Visit the ' +\n",
       "            '<a target=\"_blank\" href=https://colab.research.google.com/notebooks/data_table.ipynb>data table notebook</a>'\n",
       "            + ' to learn more about interactive tables.';\n",
       "          element.innerHTML = '';\n",
       "          dataTable['output_type'] = 'display_data';\n",
       "          await google.colab.output.renderOutput(dataTable, element);\n",
       "          const docLink = document.createElement('div');\n",
       "          docLink.innerHTML = docLinkHtml;\n",
       "          element.appendChild(docLink);\n",
       "        }\n",
       "      </script>\n",
       "    </div>\n",
       "  </div>\n",
       "  "
      ],
      "text/plain": [
       "     Gender       Age  Occupation  City_Category  Stay_In_Current_City_Years  \\\n",
       "0 -1.745896 -1.844212    0.295231      -1.371308                    0.109757   \n",
       "1 -1.745896 -1.844212    0.295231      -1.371308                    0.109757   \n",
       "2 -1.745896 -1.844212    0.295231      -1.371308                    0.109757   \n",
       "3 -1.745896 -1.844212    0.295231      -1.371308                    0.109757   \n",
       "4  0.572772  2.591425    1.215254       1.259771                    1.660822   \n",
       "\n",
       "   Marital_Status  Product_Category_1  Product_Category_2  Product_Category_3  \n",
       "0       -0.832731           -0.605733            0.986219            0.484560  \n",
       "1       -0.832731           -1.114979           -1.128836           -0.709997  \n",
       "2       -0.832731            1.685871            0.986219            0.484560  \n",
       "3       -0.832731            1.685871            0.281200            0.484560  \n",
       "4       -0.832731            0.667380            0.986219            0.484560  "
      ]
     },
     "execution_count": 22,
     "metadata": {},
     "output_type": "execute_result"
    }
   ],
   "source": [
    "#Scaling the features\n",
    "from sklearn.preprocessing import StandardScaler\n",
    "scaler = StandardScaler().fit(X)\n",
    "# x_train_scaled = pd.DataFrame(scaler.transform(X_train),\n",
    "#                               columns = X_train.columns)\n",
    "x_scaled = pd.DataFrame(scaler.transform(X),\n",
    "                              columns = X.columns)\n",
    "x_scaled.head()"
   ]
  },
  {
   "cell_type": "code",
   "execution_count": 38,
   "metadata": {
    "executionInfo": {
     "elapsed": 339,
     "status": "ok",
     "timestamp": 1674200544835,
     "user": {
      "displayName": "Muhammaf zarif iqram Mat Rozali",
      "userId": "03892399400558550753"
     },
     "user_tz": -480
    },
    "id": "lPjoB2m4oW2y"
   },
   "outputs": [],
   "source": [
    "#We will save the model performance metrics in a DataFrame\n",
    "from sklearn.metrics import mean_squared_error, r2_score\n",
    "from sklearn.model_selection import cross_val_score\n",
    "import numpy as np\n",
    "Model = []\n",
    "RMSE = []\n",
    "MAE = []\n",
    "R_sq = []\n",
    "\n",
    "#Creating a Function to append the cross validation scores of the algorithms\n",
    "def input_scores(name, model, X, y):\n",
    "    Model.append(name)\n",
    "    RMSE.append(np.sqrt((-1) * cross_val_score(model, X, y, cv=5, \n",
    "                                               scoring='neg_mean_squared_error').mean()))\n",
    "    MAE.append(((-1) * cross_val_score(model, X, y, cv=5, \n",
    "                                               scoring='neg_mean_absolute_error').mean()))\n",
    "    R_sq.append(cross_val_score(model, X, y, cv=5, scoring='r2').mean())"
   ]
  },
  {
   "cell_type": "code",
   "execution_count": 39,
   "metadata": {
    "colab": {
     "base_uri": "https://localhost:8080/"
    },
    "executionInfo": {
     "elapsed": 3739555,
     "status": "ok",
     "timestamp": 1674204288979,
     "user": {
      "displayName": "Muhammaf zarif iqram Mat Rozali",
      "userId": "03892399400558550753"
     },
     "user_tz": -480
    },
    "id": "TUITSA2dnQPU",
    "outputId": "3944e9f4-ddfc-4902-d21a-ce4ab7d8d1fd"
   },
   "outputs": [
    {
     "name": "stderr",
     "output_type": "stream",
     "text": [
      "/usr/local/lib/python3.8/dist-packages/sklearn/model_selection/_validation.py:680: DataConversionWarning:\n",
      "\n",
      "A column-vector y was passed when a 1d array was expected. Please change the shape of y to (n_samples,), for example using ravel().\n",
      "\n",
      "/usr/local/lib/python3.8/dist-packages/sklearn/model_selection/_validation.py:680: DataConversionWarning:\n",
      "\n",
      "A column-vector y was passed when a 1d array was expected. Please change the shape of y to (n_samples,), for example using ravel().\n",
      "\n",
      "/usr/local/lib/python3.8/dist-packages/sklearn/model_selection/_validation.py:680: DataConversionWarning:\n",
      "\n",
      "A column-vector y was passed when a 1d array was expected. Please change the shape of y to (n_samples,), for example using ravel().\n",
      "\n",
      "/usr/local/lib/python3.8/dist-packages/sklearn/model_selection/_validation.py:680: DataConversionWarning:\n",
      "\n",
      "A column-vector y was passed when a 1d array was expected. Please change the shape of y to (n_samples,), for example using ravel().\n",
      "\n",
      "/usr/local/lib/python3.8/dist-packages/sklearn/model_selection/_validation.py:680: DataConversionWarning:\n",
      "\n",
      "A column-vector y was passed when a 1d array was expected. Please change the shape of y to (n_samples,), for example using ravel().\n",
      "\n",
      "/usr/local/lib/python3.8/dist-packages/sklearn/model_selection/_validation.py:680: DataConversionWarning:\n",
      "\n",
      "A column-vector y was passed when a 1d array was expected. Please change the shape of y to (n_samples,), for example using ravel().\n",
      "\n",
      "/usr/local/lib/python3.8/dist-packages/sklearn/model_selection/_validation.py:680: DataConversionWarning:\n",
      "\n",
      "A column-vector y was passed when a 1d array was expected. Please change the shape of y to (n_samples,), for example using ravel().\n",
      "\n",
      "/usr/local/lib/python3.8/dist-packages/sklearn/model_selection/_validation.py:680: DataConversionWarning:\n",
      "\n",
      "A column-vector y was passed when a 1d array was expected. Please change the shape of y to (n_samples,), for example using ravel().\n",
      "\n",
      "/usr/local/lib/python3.8/dist-packages/sklearn/model_selection/_validation.py:680: DataConversionWarning:\n",
      "\n",
      "A column-vector y was passed when a 1d array was expected. Please change the shape of y to (n_samples,), for example using ravel().\n",
      "\n",
      "/usr/local/lib/python3.8/dist-packages/sklearn/model_selection/_validation.py:680: DataConversionWarning:\n",
      "\n",
      "A column-vector y was passed when a 1d array was expected. Please change the shape of y to (n_samples,), for example using ravel().\n",
      "\n",
      "/usr/local/lib/python3.8/dist-packages/sklearn/model_selection/_validation.py:680: DataConversionWarning:\n",
      "\n",
      "A column-vector y was passed when a 1d array was expected. Please change the shape of y to (n_samples,), for example using ravel().\n",
      "\n",
      "/usr/local/lib/python3.8/dist-packages/sklearn/model_selection/_validation.py:680: DataConversionWarning:\n",
      "\n",
      "A column-vector y was passed when a 1d array was expected. Please change the shape of y to (n_samples,), for example using ravel().\n",
      "\n",
      "/usr/local/lib/python3.8/dist-packages/sklearn/model_selection/_validation.py:680: DataConversionWarning:\n",
      "\n",
      "A column-vector y was passed when a 1d array was expected. Please change the shape of y to (n_samples,), for example using ravel().\n",
      "\n",
      "/usr/local/lib/python3.8/dist-packages/sklearn/model_selection/_validation.py:680: DataConversionWarning:\n",
      "\n",
      "A column-vector y was passed when a 1d array was expected. Please change the shape of y to (n_samples,), for example using ravel().\n",
      "\n",
      "/usr/local/lib/python3.8/dist-packages/sklearn/model_selection/_validation.py:680: DataConversionWarning:\n",
      "\n",
      "A column-vector y was passed when a 1d array was expected. Please change the shape of y to (n_samples,), for example using ravel().\n",
      "\n",
      "/usr/local/lib/python3.8/dist-packages/sklearn/ensemble/_gb.py:494: DataConversionWarning:\n",
      "\n",
      "A column-vector y was passed when a 1d array was expected. Please change the shape of y to (n_samples, ), for example using ravel().\n",
      "\n",
      "/usr/local/lib/python3.8/dist-packages/sklearn/ensemble/_gb.py:494: DataConversionWarning:\n",
      "\n",
      "A column-vector y was passed when a 1d array was expected. Please change the shape of y to (n_samples, ), for example using ravel().\n",
      "\n",
      "/usr/local/lib/python3.8/dist-packages/sklearn/ensemble/_gb.py:494: DataConversionWarning:\n",
      "\n",
      "A column-vector y was passed when a 1d array was expected. Please change the shape of y to (n_samples, ), for example using ravel().\n",
      "\n",
      "/usr/local/lib/python3.8/dist-packages/sklearn/ensemble/_gb.py:494: DataConversionWarning:\n",
      "\n",
      "A column-vector y was passed when a 1d array was expected. Please change the shape of y to (n_samples, ), for example using ravel().\n",
      "\n",
      "/usr/local/lib/python3.8/dist-packages/sklearn/ensemble/_gb.py:494: DataConversionWarning:\n",
      "\n",
      "A column-vector y was passed when a 1d array was expected. Please change the shape of y to (n_samples, ), for example using ravel().\n",
      "\n",
      "/usr/local/lib/python3.8/dist-packages/sklearn/ensemble/_gb.py:494: DataConversionWarning:\n",
      "\n",
      "A column-vector y was passed when a 1d array was expected. Please change the shape of y to (n_samples, ), for example using ravel().\n",
      "\n",
      "/usr/local/lib/python3.8/dist-packages/sklearn/ensemble/_gb.py:494: DataConversionWarning:\n",
      "\n",
      "A column-vector y was passed when a 1d array was expected. Please change the shape of y to (n_samples, ), for example using ravel().\n",
      "\n",
      "/usr/local/lib/python3.8/dist-packages/sklearn/ensemble/_gb.py:494: DataConversionWarning:\n",
      "\n",
      "A column-vector y was passed when a 1d array was expected. Please change the shape of y to (n_samples, ), for example using ravel().\n",
      "\n",
      "/usr/local/lib/python3.8/dist-packages/sklearn/ensemble/_gb.py:494: DataConversionWarning:\n",
      "\n",
      "A column-vector y was passed when a 1d array was expected. Please change the shape of y to (n_samples, ), for example using ravel().\n",
      "\n",
      "/usr/local/lib/python3.8/dist-packages/sklearn/ensemble/_gb.py:494: DataConversionWarning:\n",
      "\n",
      "A column-vector y was passed when a 1d array was expected. Please change the shape of y to (n_samples, ), for example using ravel().\n",
      "\n",
      "/usr/local/lib/python3.8/dist-packages/sklearn/ensemble/_gb.py:494: DataConversionWarning:\n",
      "\n",
      "A column-vector y was passed when a 1d array was expected. Please change the shape of y to (n_samples, ), for example using ravel().\n",
      "\n",
      "/usr/local/lib/python3.8/dist-packages/sklearn/ensemble/_gb.py:494: DataConversionWarning:\n",
      "\n",
      "A column-vector y was passed when a 1d array was expected. Please change the shape of y to (n_samples, ), for example using ravel().\n",
      "\n",
      "/usr/local/lib/python3.8/dist-packages/sklearn/ensemble/_gb.py:494: DataConversionWarning:\n",
      "\n",
      "A column-vector y was passed when a 1d array was expected. Please change the shape of y to (n_samples, ), for example using ravel().\n",
      "\n",
      "/usr/local/lib/python3.8/dist-packages/sklearn/ensemble/_gb.py:494: DataConversionWarning:\n",
      "\n",
      "A column-vector y was passed when a 1d array was expected. Please change the shape of y to (n_samples, ), for example using ravel().\n",
      "\n",
      "/usr/local/lib/python3.8/dist-packages/sklearn/ensemble/_gb.py:494: DataConversionWarning:\n",
      "\n",
      "A column-vector y was passed when a 1d array was expected. Please change the shape of y to (n_samples, ), for example using ravel().\n",
      "\n"
     ]
    },
    {
     "name": "stdout",
     "output_type": "stream",
     "text": [
      "[08:23:15] WARNING: /workspace/src/objective/regression_obj.cu:152: reg:linear is now deprecated in favor of reg:squarederror.\n",
      "[08:24:24] WARNING: /workspace/src/objective/regression_obj.cu:152: reg:linear is now deprecated in favor of reg:squarederror.\n",
      "[08:25:34] WARNING: /workspace/src/objective/regression_obj.cu:152: reg:linear is now deprecated in favor of reg:squarederror.\n",
      "[08:26:45] WARNING: /workspace/src/objective/regression_obj.cu:152: reg:linear is now deprecated in favor of reg:squarederror.\n",
      "[08:27:55] WARNING: /workspace/src/objective/regression_obj.cu:152: reg:linear is now deprecated in favor of reg:squarederror.\n",
      "[08:29:09] WARNING: /workspace/src/objective/regression_obj.cu:152: reg:linear is now deprecated in favor of reg:squarederror.\n",
      "[08:30:23] WARNING: /workspace/src/objective/regression_obj.cu:152: reg:linear is now deprecated in favor of reg:squarederror.\n",
      "[08:31:34] WARNING: /workspace/src/objective/regression_obj.cu:152: reg:linear is now deprecated in favor of reg:squarederror.\n",
      "[08:32:43] WARNING: /workspace/src/objective/regression_obj.cu:152: reg:linear is now deprecated in favor of reg:squarederror.\n",
      "[08:33:55] WARNING: /workspace/src/objective/regression_obj.cu:152: reg:linear is now deprecated in favor of reg:squarederror.\n",
      "[08:35:05] WARNING: /workspace/src/objective/regression_obj.cu:152: reg:linear is now deprecated in favor of reg:squarederror.\n",
      "[08:36:15] WARNING: /workspace/src/objective/regression_obj.cu:152: reg:linear is now deprecated in favor of reg:squarederror.\n",
      "[08:37:25] WARNING: /workspace/src/objective/regression_obj.cu:152: reg:linear is now deprecated in favor of reg:squarederror.\n",
      "[08:38:33] WARNING: /workspace/src/objective/regression_obj.cu:152: reg:linear is now deprecated in favor of reg:squarederror.\n",
      "[08:39:41] WARNING: /workspace/src/objective/regression_obj.cu:152: reg:linear is now deprecated in favor of reg:squarederror.\n"
     ]
    },
    {
     "name": "stderr",
     "output_type": "stream",
     "text": [
      "/usr/local/lib/python3.8/dist-packages/sklearn/utils/validation.py:993: DataConversionWarning:\n",
      "\n",
      "A column-vector y was passed when a 1d array was expected. Please change the shape of y to (n_samples, ), for example using ravel().\n",
      "\n",
      "/usr/local/lib/python3.8/dist-packages/sklearn/utils/validation.py:993: DataConversionWarning:\n",
      "\n",
      "A column-vector y was passed when a 1d array was expected. Please change the shape of y to (n_samples, ), for example using ravel().\n",
      "\n",
      "/usr/local/lib/python3.8/dist-packages/sklearn/utils/validation.py:993: DataConversionWarning:\n",
      "\n",
      "A column-vector y was passed when a 1d array was expected. Please change the shape of y to (n_samples, ), for example using ravel().\n",
      "\n",
      "/usr/local/lib/python3.8/dist-packages/sklearn/utils/validation.py:993: DataConversionWarning:\n",
      "\n",
      "A column-vector y was passed when a 1d array was expected. Please change the shape of y to (n_samples, ), for example using ravel().\n",
      "\n",
      "/usr/local/lib/python3.8/dist-packages/sklearn/utils/validation.py:993: DataConversionWarning:\n",
      "\n",
      "A column-vector y was passed when a 1d array was expected. Please change the shape of y to (n_samples, ), for example using ravel().\n",
      "\n",
      "/usr/local/lib/python3.8/dist-packages/sklearn/utils/validation.py:993: DataConversionWarning:\n",
      "\n",
      "A column-vector y was passed when a 1d array was expected. Please change the shape of y to (n_samples, ), for example using ravel().\n",
      "\n",
      "/usr/local/lib/python3.8/dist-packages/sklearn/utils/validation.py:993: DataConversionWarning:\n",
      "\n",
      "A column-vector y was passed when a 1d array was expected. Please change the shape of y to (n_samples, ), for example using ravel().\n",
      "\n",
      "/usr/local/lib/python3.8/dist-packages/sklearn/utils/validation.py:993: DataConversionWarning:\n",
      "\n",
      "A column-vector y was passed when a 1d array was expected. Please change the shape of y to (n_samples, ), for example using ravel().\n",
      "\n",
      "/usr/local/lib/python3.8/dist-packages/sklearn/utils/validation.py:993: DataConversionWarning:\n",
      "\n",
      "A column-vector y was passed when a 1d array was expected. Please change the shape of y to (n_samples, ), for example using ravel().\n",
      "\n",
      "/usr/local/lib/python3.8/dist-packages/sklearn/utils/validation.py:993: DataConversionWarning:\n",
      "\n",
      "A column-vector y was passed when a 1d array was expected. Please change the shape of y to (n_samples, ), for example using ravel().\n",
      "\n",
      "/usr/local/lib/python3.8/dist-packages/sklearn/utils/validation.py:993: DataConversionWarning:\n",
      "\n",
      "A column-vector y was passed when a 1d array was expected. Please change the shape of y to (n_samples, ), for example using ravel().\n",
      "\n",
      "/usr/local/lib/python3.8/dist-packages/sklearn/utils/validation.py:993: DataConversionWarning:\n",
      "\n",
      "A column-vector y was passed when a 1d array was expected. Please change the shape of y to (n_samples, ), for example using ravel().\n",
      "\n",
      "/usr/local/lib/python3.8/dist-packages/sklearn/utils/validation.py:993: DataConversionWarning:\n",
      "\n",
      "A column-vector y was passed when a 1d array was expected. Please change the shape of y to (n_samples, ), for example using ravel().\n",
      "\n",
      "/usr/local/lib/python3.8/dist-packages/sklearn/utils/validation.py:993: DataConversionWarning:\n",
      "\n",
      "A column-vector y was passed when a 1d array was expected. Please change the shape of y to (n_samples, ), for example using ravel().\n",
      "\n",
      "/usr/local/lib/python3.8/dist-packages/sklearn/utils/validation.py:993: DataConversionWarning:\n",
      "\n",
      "A column-vector y was passed when a 1d array was expected. Please change the shape of y to (n_samples, ), for example using ravel().\n",
      "\n"
     ]
    }
   ],
   "source": [
    "from sklearn.linear_model import Lasso\n",
    "from sklearn.ensemble import (RandomForestRegressor, GradientBoostingRegressor, \n",
    "                              AdaBoostRegressor)\n",
    "from xgboost.sklearn import XGBRegressor\n",
    "names = ['Lasso Regression',\n",
    "         'Random Forest Regressor', 'Gradient Boosting Regressor','XGBoost Regressor',\n",
    "         'Adaboost Regressor']\n",
    "models = [ Lasso(random_state=0),RandomForestRegressor(random_state=0), GradientBoostingRegressor(random_state=0), \n",
    "          XGBRegressor(n_estimators=100, learning_rate=0.2, max_depth=8),AdaBoostRegressor(random_state=0)]\n",
    "\n",
    "#Running all algorithms\n",
    "for name, model in zip(names, models):\n",
    "    input_scores(name, model, x_scaled, y)"
   ]
  },
  {
   "cell_type": "code",
   "execution_count": 40,
   "metadata": {
    "colab": {
     "base_uri": "https://localhost:8080/",
     "height": 224
    },
    "executionInfo": {
     "elapsed": 459,
     "status": "ok",
     "timestamp": 1674204391742,
     "user": {
      "displayName": "Muhammaf zarif iqram Mat Rozali",
      "userId": "03892399400558550753"
     },
     "user_tz": -480
    },
    "id": "yXx_5q2vnT5v",
    "outputId": "2a9edc80-8047-43bf-839e-5d8fd7f6fa13"
   },
   "outputs": [
    {
     "name": "stdout",
     "output_type": "stream",
     "text": [
      "FOLLOWING ARE THE TRAINING SCORES: \n"
     ]
    },
    {
     "data": {
      "text/html": [
       "\n",
       "  <div id=\"df-d7ee4558-1fd6-418f-94dd-e0fa118aec54\">\n",
       "    <div class=\"colab-df-container\">\n",
       "      <div>\n",
       "<style scoped>\n",
       "    .dataframe tbody tr th:only-of-type {\n",
       "        vertical-align: middle;\n",
       "    }\n",
       "\n",
       "    .dataframe tbody tr th {\n",
       "        vertical-align: top;\n",
       "    }\n",
       "\n",
       "    .dataframe thead th {\n",
       "        text-align: right;\n",
       "    }\n",
       "</style>\n",
       "<table border=\"1\" class=\"dataframe\">\n",
       "  <thead>\n",
       "    <tr style=\"text-align: right;\">\n",
       "      <th></th>\n",
       "      <th>Model</th>\n",
       "      <th>RMSE</th>\n",
       "      <th>MAE</th>\n",
       "      <th>R Squared</th>\n",
       "    </tr>\n",
       "  </thead>\n",
       "  <tbody>\n",
       "    <tr>\n",
       "      <th>0</th>\n",
       "      <td>Lasso Regression</td>\n",
       "      <td>4530.403921</td>\n",
       "      <td>3470.848827</td>\n",
       "      <td>0.156868</td>\n",
       "    </tr>\n",
       "    <tr>\n",
       "      <th>1</th>\n",
       "      <td>Random Forest Regressor</td>\n",
       "      <td>3041.844455</td>\n",
       "      <td>2228.727761</td>\n",
       "      <td>0.619951</td>\n",
       "    </tr>\n",
       "    <tr>\n",
       "      <th>2</th>\n",
       "      <td>Gradient Boosting Regressor</td>\n",
       "      <td>2976.755041</td>\n",
       "      <td>2271.237014</td>\n",
       "      <td>0.636089</td>\n",
       "    </tr>\n",
       "    <tr>\n",
       "      <th>3</th>\n",
       "      <td>XGBoost Regressor</td>\n",
       "      <td>2852.455327</td>\n",
       "      <td>2136.974404</td>\n",
       "      <td>0.665844</td>\n",
       "    </tr>\n",
       "    <tr>\n",
       "      <th>4</th>\n",
       "      <td>Adaboost Regressor</td>\n",
       "      <td>3428.011275</td>\n",
       "      <td>2678.994874</td>\n",
       "      <td>0.517591</td>\n",
       "    </tr>\n",
       "  </tbody>\n",
       "</table>\n",
       "</div>\n",
       "      <button class=\"colab-df-convert\" onclick=\"convertToInteractive('df-d7ee4558-1fd6-418f-94dd-e0fa118aec54')\"\n",
       "              title=\"Convert this dataframe to an interactive table.\"\n",
       "              style=\"display:none;\">\n",
       "        \n",
       "  <svg xmlns=\"http://www.w3.org/2000/svg\" height=\"24px\"viewBox=\"0 0 24 24\"\n",
       "       width=\"24px\">\n",
       "    <path d=\"M0 0h24v24H0V0z\" fill=\"none\"/>\n",
       "    <path d=\"M18.56 5.44l.94 2.06.94-2.06 2.06-.94-2.06-.94-.94-2.06-.94 2.06-2.06.94zm-11 1L8.5 8.5l.94-2.06 2.06-.94-2.06-.94L8.5 2.5l-.94 2.06-2.06.94zm10 10l.94 2.06.94-2.06 2.06-.94-2.06-.94-.94-2.06-.94 2.06-2.06.94z\"/><path d=\"M17.41 7.96l-1.37-1.37c-.4-.4-.92-.59-1.43-.59-.52 0-1.04.2-1.43.59L10.3 9.45l-7.72 7.72c-.78.78-.78 2.05 0 2.83L4 21.41c.39.39.9.59 1.41.59.51 0 1.02-.2 1.41-.59l7.78-7.78 2.81-2.81c.8-.78.8-2.07 0-2.86zM5.41 20L4 18.59l7.72-7.72 1.47 1.35L5.41 20z\"/>\n",
       "  </svg>\n",
       "      </button>\n",
       "      \n",
       "  <style>\n",
       "    .colab-df-container {\n",
       "      display:flex;\n",
       "      flex-wrap:wrap;\n",
       "      gap: 12px;\n",
       "    }\n",
       "\n",
       "    .colab-df-convert {\n",
       "      background-color: #E8F0FE;\n",
       "      border: none;\n",
       "      border-radius: 50%;\n",
       "      cursor: pointer;\n",
       "      display: none;\n",
       "      fill: #1967D2;\n",
       "      height: 32px;\n",
       "      padding: 0 0 0 0;\n",
       "      width: 32px;\n",
       "    }\n",
       "\n",
       "    .colab-df-convert:hover {\n",
       "      background-color: #E2EBFA;\n",
       "      box-shadow: 0px 1px 2px rgba(60, 64, 67, 0.3), 0px 1px 3px 1px rgba(60, 64, 67, 0.15);\n",
       "      fill: #174EA6;\n",
       "    }\n",
       "\n",
       "    [theme=dark] .colab-df-convert {\n",
       "      background-color: #3B4455;\n",
       "      fill: #D2E3FC;\n",
       "    }\n",
       "\n",
       "    [theme=dark] .colab-df-convert:hover {\n",
       "      background-color: #434B5C;\n",
       "      box-shadow: 0px 1px 3px 1px rgba(0, 0, 0, 0.15);\n",
       "      filter: drop-shadow(0px 1px 2px rgba(0, 0, 0, 0.3));\n",
       "      fill: #FFFFFF;\n",
       "    }\n",
       "  </style>\n",
       "\n",
       "      <script>\n",
       "        const buttonEl =\n",
       "          document.querySelector('#df-d7ee4558-1fd6-418f-94dd-e0fa118aec54 button.colab-df-convert');\n",
       "        buttonEl.style.display =\n",
       "          google.colab.kernel.accessAllowed ? 'block' : 'none';\n",
       "\n",
       "        async function convertToInteractive(key) {\n",
       "          const element = document.querySelector('#df-d7ee4558-1fd6-418f-94dd-e0fa118aec54');\n",
       "          const dataTable =\n",
       "            await google.colab.kernel.invokeFunction('convertToInteractive',\n",
       "                                                     [key], {});\n",
       "          if (!dataTable) return;\n",
       "\n",
       "          const docLinkHtml = 'Like what you see? Visit the ' +\n",
       "            '<a target=\"_blank\" href=https://colab.research.google.com/notebooks/data_table.ipynb>data table notebook</a>'\n",
       "            + ' to learn more about interactive tables.';\n",
       "          element.innerHTML = '';\n",
       "          dataTable['output_type'] = 'display_data';\n",
       "          await google.colab.output.renderOutput(dataTable, element);\n",
       "          const docLink = document.createElement('div');\n",
       "          docLink.innerHTML = docLinkHtml;\n",
       "          element.appendChild(docLink);\n",
       "        }\n",
       "      </script>\n",
       "    </div>\n",
       "  </div>\n",
       "  "
      ],
      "text/plain": [
       "                         Model         RMSE          MAE  R Squared\n",
       "0             Lasso Regression  4530.403921  3470.848827   0.156868\n",
       "1      Random Forest Regressor  3041.844455  2228.727761   0.619951\n",
       "2  Gradient Boosting Regressor  2976.755041  2271.237014   0.636089\n",
       "3            XGBoost Regressor  2852.455327  2136.974404   0.665844\n",
       "4           Adaboost Regressor  3428.011275  2678.994874   0.517591"
      ]
     },
     "execution_count": 40,
     "metadata": {},
     "output_type": "execute_result"
    }
   ],
   "source": [
    "evaluation2 = pd.DataFrame({'Model': Model,\n",
    "                           'RMSE': RMSE,\n",
    "                            'MAE':MAE,\n",
    "                           'R Squared': R_sq})\n",
    "print(\"FOLLOWING ARE THE TRAINING SCORES: \")\n",
    "evaluation2"
   ]
  },
  {
   "cell_type": "markdown",
   "metadata": {
    "id": "VUtTIN6LZ3kp"
   },
   "source": [
    "Conclusion:\n",
    "Based on above cross validation score, we can conclude there is not much changes for the score so choosing for choosing best model we will choose with applying standard scaler"
   ]
  },
  {
   "cell_type": "markdown",
   "metadata": {
    "id": "GR8P3BzhUsm8"
   },
   "source": [
    "**Hypertuning Model for best prediction model**"
   ]
  },
  {
   "cell_type": "code",
   "execution_count": 35,
   "metadata": {
    "colab": {
     "base_uri": "https://localhost:8080/"
    },
    "executionInfo": {
     "elapsed": 7094607,
     "status": "ok",
     "timestamp": 1674200197148,
     "user": {
      "displayName": "Muhammaf zarif iqram Mat Rozali",
      "userId": "03892399400558550753"
     },
     "user_tz": -480
    },
    "id": "lEYAThmmacwj",
    "outputId": "af3599d3-e7b2-4131-e4c4-dd1d0fd5852b"
   },
   "outputs": [
    {
     "name": "stdout",
     "output_type": "stream",
     "text": [
      "Fitting 5 folds for each of 5 candidates, totalling 25 fits\n",
      "[CV 1/5; 1/5] START learning_rate=0.1, max_depth=8, n_estimators=480, subsample=0.6\n",
      "[05:38:23] WARNING: /workspace/src/objective/regression_obj.cu:152: reg:linear is now deprecated in favor of reg:squarederror.\n",
      "[CV 1/5; 1/5] END learning_rate=0.1, max_depth=8, n_estimators=480, subsample=0.6;, score=(train=0.708, test=0.660) total time= 4.9min\n",
      "[CV 2/5; 1/5] START learning_rate=0.1, max_depth=8, n_estimators=480, subsample=0.6\n",
      "[05:43:37] WARNING: /workspace/src/objective/regression_obj.cu:152: reg:linear is now deprecated in favor of reg:squarederror.\n",
      "[CV 2/5; 1/5] END learning_rate=0.1, max_depth=8, n_estimators=480, subsample=0.6;, score=(train=0.708, test=0.659) total time= 4.9min\n",
      "[CV 3/5; 1/5] START learning_rate=0.1, max_depth=8, n_estimators=480, subsample=0.6\n",
      "[05:48:56] WARNING: /workspace/src/objective/regression_obj.cu:152: reg:linear is now deprecated in favor of reg:squarederror.\n",
      "[CV 3/5; 1/5] END learning_rate=0.1, max_depth=8, n_estimators=480, subsample=0.6;, score=(train=0.708, test=0.660) total time= 5.0min\n",
      "[CV 4/5; 1/5] START learning_rate=0.1, max_depth=8, n_estimators=480, subsample=0.6\n",
      "[05:54:19] WARNING: /workspace/src/objective/regression_obj.cu:152: reg:linear is now deprecated in favor of reg:squarederror.\n",
      "[CV 4/5; 1/5] END learning_rate=0.1, max_depth=8, n_estimators=480, subsample=0.6;, score=(train=0.707, test=0.666) total time= 5.0min\n",
      "[CV 5/5; 1/5] START learning_rate=0.1, max_depth=8, n_estimators=480, subsample=0.6\n",
      "[05:59:45] WARNING: /workspace/src/objective/regression_obj.cu:152: reg:linear is now deprecated in favor of reg:squarederror.\n",
      "[CV 5/5; 1/5] END learning_rate=0.1, max_depth=8, n_estimators=480, subsample=0.6;, score=(train=0.708, test=0.662) total time= 5.1min\n",
      "[CV 1/5; 2/5] START learning_rate=0.2, max_depth=5, n_estimators=1000, subsample=0.6\n",
      "[06:05:17] WARNING: /workspace/src/objective/regression_obj.cu:152: reg:linear is now deprecated in favor of reg:squarederror.\n",
      "[CV 1/5; 2/5] END learning_rate=0.2, max_depth=5, n_estimators=1000, subsample=0.6;, score=(train=0.679, test=0.659) total time= 6.1min\n",
      "[CV 2/5; 2/5] START learning_rate=0.2, max_depth=5, n_estimators=1000, subsample=0.6\n",
      "[06:11:41] WARNING: /workspace/src/objective/regression_obj.cu:152: reg:linear is now deprecated in favor of reg:squarederror.\n",
      "[CV 2/5; 2/5] END learning_rate=0.2, max_depth=5, n_estimators=1000, subsample=0.6;, score=(train=0.680, test=0.659) total time= 6.1min\n",
      "[CV 3/5; 2/5] START learning_rate=0.2, max_depth=5, n_estimators=1000, subsample=0.6\n",
      "[06:18:10] WARNING: /workspace/src/objective/regression_obj.cu:152: reg:linear is now deprecated in favor of reg:squarederror.\n",
      "[CV 3/5; 2/5] END learning_rate=0.2, max_depth=5, n_estimators=1000, subsample=0.6;, score=(train=0.680, test=0.659) total time= 6.1min\n",
      "[CV 4/5; 2/5] START learning_rate=0.2, max_depth=5, n_estimators=1000, subsample=0.6\n",
      "[06:24:33] WARNING: /workspace/src/objective/regression_obj.cu:152: reg:linear is now deprecated in favor of reg:squarederror.\n",
      "[CV 4/5; 2/5] END learning_rate=0.2, max_depth=5, n_estimators=1000, subsample=0.6;, score=(train=0.678, test=0.664) total time= 6.1min\n",
      "[CV 5/5; 2/5] START learning_rate=0.2, max_depth=5, n_estimators=1000, subsample=0.6\n",
      "[06:31:04] WARNING: /workspace/src/objective/regression_obj.cu:152: reg:linear is now deprecated in favor of reg:squarederror.\n",
      "[CV 5/5; 2/5] END learning_rate=0.2, max_depth=5, n_estimators=1000, subsample=0.6;, score=(train=0.679, test=0.661) total time= 6.0min\n",
      "[CV 1/5; 3/5] START learning_rate=0.1, max_depth=5, n_estimators=30, subsample=0.6\n",
      "[06:37:26] WARNING: /workspace/src/objective/regression_obj.cu:152: reg:linear is now deprecated in favor of reg:squarederror.\n",
      "[CV 1/5; 3/5] END learning_rate=0.1, max_depth=5, n_estimators=30, subsample=0.6;, score=(train=0.630, test=0.629) total time=  10.5s\n",
      "[CV 2/5; 3/5] START learning_rate=0.1, max_depth=5, n_estimators=30, subsample=0.6\n",
      "[06:37:37] WARNING: /workspace/src/objective/regression_obj.cu:152: reg:linear is now deprecated in favor of reg:squarederror.\n",
      "[CV 2/5; 3/5] END learning_rate=0.1, max_depth=5, n_estimators=30, subsample=0.6;, score=(train=0.631, test=0.629) total time=  10.3s\n",
      "[CV 3/5; 3/5] START learning_rate=0.1, max_depth=5, n_estimators=30, subsample=0.6\n",
      "[06:37:48] WARNING: /workspace/src/objective/regression_obj.cu:152: reg:linear is now deprecated in favor of reg:squarederror.\n",
      "[CV 3/5; 3/5] END learning_rate=0.1, max_depth=5, n_estimators=30, subsample=0.6;, score=(train=0.632, test=0.629) total time=  10.3s\n",
      "[CV 4/5; 3/5] START learning_rate=0.1, max_depth=5, n_estimators=30, subsample=0.6\n",
      "[06:37:59] WARNING: /workspace/src/objective/regression_obj.cu:152: reg:linear is now deprecated in favor of reg:squarederror.\n",
      "[CV 4/5; 3/5] END learning_rate=0.1, max_depth=5, n_estimators=30, subsample=0.6;, score=(train=0.631, test=0.634) total time=  10.4s\n",
      "[CV 5/5; 3/5] START learning_rate=0.1, max_depth=5, n_estimators=30, subsample=0.6\n",
      "[06:38:10] WARNING: /workspace/src/objective/regression_obj.cu:152: reg:linear is now deprecated in favor of reg:squarederror.\n",
      "[CV 5/5; 3/5] END learning_rate=0.1, max_depth=5, n_estimators=30, subsample=0.6;, score=(train=0.629, test=0.629) total time=  10.3s\n",
      "[CV 1/5; 4/5] START learning_rate=0.2, max_depth=8, n_estimators=30, subsample=0.6\n",
      "[06:38:20] WARNING: /workspace/src/objective/regression_obj.cu:152: reg:linear is now deprecated in favor of reg:squarederror.\n",
      "[CV 1/5; 4/5] END learning_rate=0.2, max_depth=8, n_estimators=30, subsample=0.6;, score=(train=0.668, test=0.657) total time=  18.6s\n",
      "[CV 2/5; 4/5] START learning_rate=0.2, max_depth=8, n_estimators=30, subsample=0.6\n",
      "[06:38:40] WARNING: /workspace/src/objective/regression_obj.cu:152: reg:linear is now deprecated in favor of reg:squarederror.\n",
      "[CV 2/5; 4/5] END learning_rate=0.2, max_depth=8, n_estimators=30, subsample=0.6;, score=(train=0.668, test=0.656) total time=  20.1s\n",
      "[CV 3/5; 4/5] START learning_rate=0.2, max_depth=8, n_estimators=30, subsample=0.6\n",
      "[06:39:01] WARNING: /workspace/src/objective/regression_obj.cu:152: reg:linear is now deprecated in favor of reg:squarederror.\n",
      "[CV 3/5; 4/5] END learning_rate=0.2, max_depth=8, n_estimators=30, subsample=0.6;, score=(train=0.668, test=0.655) total time=  18.8s\n",
      "[CV 4/5; 4/5] START learning_rate=0.2, max_depth=8, n_estimators=30, subsample=0.6\n",
      "[06:39:21] WARNING: /workspace/src/objective/regression_obj.cu:152: reg:linear is now deprecated in favor of reg:squarederror.\n",
      "[CV 4/5; 4/5] END learning_rate=0.2, max_depth=8, n_estimators=30, subsample=0.6;, score=(train=0.666, test=0.660) total time=  18.7s\n",
      "[CV 5/5; 4/5] START learning_rate=0.2, max_depth=8, n_estimators=30, subsample=0.6\n",
      "[06:39:40] WARNING: /workspace/src/objective/regression_obj.cu:152: reg:linear is now deprecated in favor of reg:squarederror.\n",
      "[CV 5/5; 4/5] END learning_rate=0.2, max_depth=8, n_estimators=30, subsample=0.6;, score=(train=0.667, test=0.658) total time=  18.4s\n",
      "[CV 1/5; 5/5] START learning_rate=0.1, max_depth=8, n_estimators=1000, subsample=0.95\n",
      "[06:39:59] WARNING: /workspace/src/objective/regression_obj.cu:152: reg:linear is now deprecated in favor of reg:squarederror.\n",
      "[CV 1/5; 5/5] END learning_rate=0.1, max_depth=8, n_estimators=1000, subsample=0.95;, score=(train=0.730, test=0.658) total time= 9.2min\n",
      "[CV 2/5; 5/5] START learning_rate=0.1, max_depth=8, n_estimators=1000, subsample=0.95\n",
      "[06:50:17] WARNING: /workspace/src/objective/regression_obj.cu:152: reg:linear is now deprecated in favor of reg:squarederror.\n",
      "[CV 2/5; 5/5] END learning_rate=0.1, max_depth=8, n_estimators=1000, subsample=0.95;, score=(train=0.730, test=0.657) total time= 8.9min\n",
      "[CV 3/5; 5/5] START learning_rate=0.1, max_depth=8, n_estimators=1000, subsample=0.95\n",
      "[07:00:17] WARNING: /workspace/src/objective/regression_obj.cu:152: reg:linear is now deprecated in favor of reg:squarederror.\n",
      "[CV 3/5; 5/5] END learning_rate=0.1, max_depth=8, n_estimators=1000, subsample=0.95;, score=(train=0.730, test=0.657) total time= 8.9min\n",
      "[CV 4/5; 5/5] START learning_rate=0.1, max_depth=8, n_estimators=1000, subsample=0.95\n",
      "[07:10:17] WARNING: /workspace/src/objective/regression_obj.cu:152: reg:linear is now deprecated in favor of reg:squarederror.\n",
      "[CV 4/5; 5/5] END learning_rate=0.1, max_depth=8, n_estimators=1000, subsample=0.95;, score=(train=0.729, test=0.663) total time= 9.0min\n",
      "[CV 5/5; 5/5] START learning_rate=0.1, max_depth=8, n_estimators=1000, subsample=0.95\n",
      "[07:20:22] WARNING: /workspace/src/objective/regression_obj.cu:152: reg:linear is now deprecated in favor of reg:squarederror.\n",
      "[CV 5/5; 5/5] END learning_rate=0.1, max_depth=8, n_estimators=1000, subsample=0.95;, score=(train=0.730, test=0.658) total time= 8.8min\n",
      "[07:30:15] WARNING: /workspace/src/objective/regression_obj.cu:152: reg:linear is now deprecated in favor of reg:squarederror.\n",
      "XGBRegressor(max_depth=8, n_estimators=480, subsample=0.6)\n",
      "R Squared: 0.6615736634786311\n"
     ]
    }
   ],
   "source": [
    "### Hypertuning the best model.\n",
    "#tuning for number of trees\n",
    "# from sklearn.model_selection import GridSearchCV\n",
    "from sklearn.model_selection import RandomizedSearchCV\n",
    "param_grid = {'n_estimators':[30,480,1000],#range(20,500),\n",
    "              'max_depth':[5,8],#range(5,16), \n",
    "              # 'booster': ['gbtree','gblinear'],\n",
    "              # 'min_samples_split':range(200,1001,200), \n",
    "              'learning_rate':[0.1,0.2],\n",
    "              'subsample':[0.6,0.95]}\n",
    "clf = RandomizedSearchCV(estimator = XGBRegressor(n_estimators=100, learning_rate=0.2, max_depth=8), \n",
    "                   param_distributions = param_grid,verbose=10, cv=5, n_iter=5, scoring='r2',return_train_score = True,\n",
    "            random_state=42).fit(X_train, y_train)\n",
    "print(clf.best_estimator_) \n",
    "print(\"R Squared:\",clf.best_score_)"
   ]
  },
  {
   "cell_type": "code",
   "execution_count": 36,
   "metadata": {
    "colab": {
     "base_uri": "https://localhost:8080/"
    },
    "executionInfo": {
     "elapsed": 347,
     "status": "ok",
     "timestamp": 1674200398972,
     "user": {
      "displayName": "Muhammaf zarif iqram Mat Rozali",
      "userId": "03892399400558550753"
     },
     "user_tz": -480
    },
    "id": "O0oY2PnHaqOL",
    "outputId": "33159216-566e-4926-af77-59dcad6ddcea"
   },
   "outputs": [
    {
     "name": "stdout",
     "output_type": "stream",
     "text": [
      "XGBRegressor(max_depth=8, n_estimators=480, subsample=0.6)\n"
     ]
    }
   ],
   "source": [
    "print(clf.best_estimator_) "
   ]
  },
  {
   "cell_type": "code",
   "execution_count": 38,
   "metadata": {
    "colab": {
     "base_uri": "https://localhost:8080/"
    },
    "executionInfo": {
     "elapsed": 284816,
     "status": "ok",
     "timestamp": 1674223920801,
     "user": {
      "displayName": "Muhammaf zarif iqram Mat Rozali",
      "userId": "03892399400558550753"
     },
     "user_tz": -480
    },
    "id": "wBBpMFfhtG-P",
    "outputId": "24235243-801e-432f-cbf2-d8872c1d17c5"
   },
   "outputs": [
    {
     "name": "stdout",
     "output_type": "stream",
     "text": [
      "[14:07:15] WARNING: /workspace/src/objective/regression_obj.cu:152: reg:linear is now deprecated in favor of reg:squarederror.\n",
      "RMSE: 2841.7778480997754\n",
      "MAE: 2107.969109628862\n",
      "R2 Score: 66.83\n"
     ]
    }
   ],
   "source": [
    "xgb_reg=XGBRegressor(n_estimators=480, learning_rate=0.2, max_depth=8)\n",
    "xgb_reg.fit(x_train_scaled,y_train)\n",
    "xgb_y_pred_scaled=xgb_reg.predict(x_test_scaled)\n",
    "print(\"RMSE:\",np.sqrt(metrics.mean_squared_error(y_test, xgb_y_pred_scaled)))\n",
    "print(\"MAE:\",metrics.mean_absolute_error(y_test, xgb_y_pred_scaled))\n",
    "print(\"R2 Score:\",round(metrics.r2_score(y_test,xgb_y_pred_scaled)*100,2))"
   ]
  },
  {
   "cell_type": "markdown",
   "metadata": {
    "id": "yiHQCCDQU55p"
   },
   "source": [
    "Conclusion:\n",
    "\n",
    "After tuning the best model, we observe the tuning parameter not show better in RMSE and R2 score. So we remain choose model without hypertuning model"
   ]
  },
  {
   "cell_type": "code",
   "execution_count": 40,
   "metadata": {
    "colab": {
     "base_uri": "https://localhost:8080/",
     "height": 332
    },
    "executionInfo": {
     "elapsed": 1051,
     "status": "ok",
     "timestamp": 1674224113106,
     "user": {
      "displayName": "Muhammaf zarif iqram Mat Rozali",
      "userId": "03892399400558550753"
     },
     "user_tz": -480
    },
    "id": "mnqyZTnjKkmb",
    "outputId": "1bc4b9f8-e1f0-4ec1-a5a6-8f4be32db2d4"
   },
   "outputs": [
    {
     "data": {
      "text/html": [
       "\n",
       "  <div id=\"df-e652d142-ebf2-4c97-b743-fc0482e98d53\">\n",
       "    <div class=\"colab-df-container\">\n",
       "      <div>\n",
       "<style scoped>\n",
       "    .dataframe tbody tr th:only-of-type {\n",
       "        vertical-align: middle;\n",
       "    }\n",
       "\n",
       "    .dataframe tbody tr th {\n",
       "        vertical-align: top;\n",
       "    }\n",
       "\n",
       "    .dataframe thead th {\n",
       "        text-align: right;\n",
       "    }\n",
       "</style>\n",
       "<table border=\"1\" class=\"dataframe\">\n",
       "  <thead>\n",
       "    <tr style=\"text-align: right;\">\n",
       "      <th></th>\n",
       "      <th>score</th>\n",
       "    </tr>\n",
       "  </thead>\n",
       "  <tbody>\n",
       "    <tr>\n",
       "      <th>Product_Category_1</th>\n",
       "      <td>0.873735</td>\n",
       "    </tr>\n",
       "    <tr>\n",
       "      <th>Product_Category_2</th>\n",
       "      <td>0.022951</td>\n",
       "    </tr>\n",
       "    <tr>\n",
       "      <th>Product_Category_3</th>\n",
       "      <td>0.020713</td>\n",
       "    </tr>\n",
       "    <tr>\n",
       "      <th>City_Category</th>\n",
       "      <td>0.017904</td>\n",
       "    </tr>\n",
       "    <tr>\n",
       "      <th>Age</th>\n",
       "      <td>0.013768</td>\n",
       "    </tr>\n",
       "    <tr>\n",
       "      <th>Stay_In_Current_City_Years</th>\n",
       "      <td>0.013164</td>\n",
       "    </tr>\n",
       "    <tr>\n",
       "      <th>Gender</th>\n",
       "      <td>0.013152</td>\n",
       "    </tr>\n",
       "    <tr>\n",
       "      <th>Marital_Status</th>\n",
       "      <td>0.012672</td>\n",
       "    </tr>\n",
       "    <tr>\n",
       "      <th>Occupation</th>\n",
       "      <td>0.011940</td>\n",
       "    </tr>\n",
       "  </tbody>\n",
       "</table>\n",
       "</div>\n",
       "      <button class=\"colab-df-convert\" onclick=\"convertToInteractive('df-e652d142-ebf2-4c97-b743-fc0482e98d53')\"\n",
       "              title=\"Convert this dataframe to an interactive table.\"\n",
       "              style=\"display:none;\">\n",
       "        \n",
       "  <svg xmlns=\"http://www.w3.org/2000/svg\" height=\"24px\"viewBox=\"0 0 24 24\"\n",
       "       width=\"24px\">\n",
       "    <path d=\"M0 0h24v24H0V0z\" fill=\"none\"/>\n",
       "    <path d=\"M18.56 5.44l.94 2.06.94-2.06 2.06-.94-2.06-.94-.94-2.06-.94 2.06-2.06.94zm-11 1L8.5 8.5l.94-2.06 2.06-.94-2.06-.94L8.5 2.5l-.94 2.06-2.06.94zm10 10l.94 2.06.94-2.06 2.06-.94-2.06-.94-.94-2.06-.94 2.06-2.06.94z\"/><path d=\"M17.41 7.96l-1.37-1.37c-.4-.4-.92-.59-1.43-.59-.52 0-1.04.2-1.43.59L10.3 9.45l-7.72 7.72c-.78.78-.78 2.05 0 2.83L4 21.41c.39.39.9.59 1.41.59.51 0 1.02-.2 1.41-.59l7.78-7.78 2.81-2.81c.8-.78.8-2.07 0-2.86zM5.41 20L4 18.59l7.72-7.72 1.47 1.35L5.41 20z\"/>\n",
       "  </svg>\n",
       "      </button>\n",
       "      \n",
       "  <style>\n",
       "    .colab-df-container {\n",
       "      display:flex;\n",
       "      flex-wrap:wrap;\n",
       "      gap: 12px;\n",
       "    }\n",
       "\n",
       "    .colab-df-convert {\n",
       "      background-color: #E8F0FE;\n",
       "      border: none;\n",
       "      border-radius: 50%;\n",
       "      cursor: pointer;\n",
       "      display: none;\n",
       "      fill: #1967D2;\n",
       "      height: 32px;\n",
       "      padding: 0 0 0 0;\n",
       "      width: 32px;\n",
       "    }\n",
       "\n",
       "    .colab-df-convert:hover {\n",
       "      background-color: #E2EBFA;\n",
       "      box-shadow: 0px 1px 2px rgba(60, 64, 67, 0.3), 0px 1px 3px 1px rgba(60, 64, 67, 0.15);\n",
       "      fill: #174EA6;\n",
       "    }\n",
       "\n",
       "    [theme=dark] .colab-df-convert {\n",
       "      background-color: #3B4455;\n",
       "      fill: #D2E3FC;\n",
       "    }\n",
       "\n",
       "    [theme=dark] .colab-df-convert:hover {\n",
       "      background-color: #434B5C;\n",
       "      box-shadow: 0px 1px 3px 1px rgba(0, 0, 0, 0.15);\n",
       "      filter: drop-shadow(0px 1px 2px rgba(0, 0, 0, 0.3));\n",
       "      fill: #FFFFFF;\n",
       "    }\n",
       "  </style>\n",
       "\n",
       "      <script>\n",
       "        const buttonEl =\n",
       "          document.querySelector('#df-e652d142-ebf2-4c97-b743-fc0482e98d53 button.colab-df-convert');\n",
       "        buttonEl.style.display =\n",
       "          google.colab.kernel.accessAllowed ? 'block' : 'none';\n",
       "\n",
       "        async function convertToInteractive(key) {\n",
       "          const element = document.querySelector('#df-e652d142-ebf2-4c97-b743-fc0482e98d53');\n",
       "          const dataTable =\n",
       "            await google.colab.kernel.invokeFunction('convertToInteractive',\n",
       "                                                     [key], {});\n",
       "          if (!dataTable) return;\n",
       "\n",
       "          const docLinkHtml = 'Like what you see? Visit the ' +\n",
       "            '<a target=\"_blank\" href=https://colab.research.google.com/notebooks/data_table.ipynb>data table notebook</a>'\n",
       "            + ' to learn more about interactive tables.';\n",
       "          element.innerHTML = '';\n",
       "          dataTable['output_type'] = 'display_data';\n",
       "          await google.colab.output.renderOutput(dataTable, element);\n",
       "          const docLink = document.createElement('div');\n",
       "          docLink.innerHTML = docLinkHtml;\n",
       "          element.appendChild(docLink);\n",
       "        }\n",
       "      </script>\n",
       "    </div>\n",
       "  </div>\n",
       "  "
      ],
      "text/plain": [
       "                               score\n",
       "Product_Category_1          0.873735\n",
       "Product_Category_2          0.022951\n",
       "Product_Category_3          0.020713\n",
       "City_Category               0.017904\n",
       "Age                         0.013768\n",
       "Stay_In_Current_City_Years  0.013164\n",
       "Gender                      0.013152\n",
       "Marital_Status              0.012672\n",
       "Occupation                  0.011940"
      ]
     },
     "execution_count": 40,
     "metadata": {},
     "output_type": "execute_result"
    }
   ],
   "source": [
    "#Feature Importance\n",
    "\n",
    "fi=pd.DataFrame(xgb_reg.feature_importances_,index=X.columns, columns=['score'])\n",
    "fi.sort_values(by='score', ascending=False)"
   ]
  },
  {
   "cell_type": "markdown",
   "metadata": {
    "id": "Xkcg6ZukiQjH"
   },
   "source": [
    "**Model Testing**"
   ]
  },
  {
   "cell_type": "code",
   "execution_count": 42,
   "metadata": {
    "colab": {
     "base_uri": "https://localhost:8080/"
    },
    "executionInfo": {
     "elapsed": 352,
     "status": "ok",
     "timestamp": 1674224276554,
     "user": {
      "displayName": "Muhammaf zarif iqram Mat Rozali",
      "userId": "03892399400558550753"
     },
     "user_tz": -480
    },
    "id": "_gp7HswFiURb",
    "outputId": "813ee974-1b93-4fd9-a95e-d635958192a5"
   },
   "outputs": [
    {
     "data": {
      "text/plain": [
       "array([14854.283 , 14242.099 ,  7698.7505, ...,  7570.422 ,  6172.4985,\n",
       "        6637.397 ], dtype=float32)"
      ]
     },
     "execution_count": 42,
     "metadata": {},
     "output_type": "execute_result"
    }
   ],
   "source": [
    "xgb_y_pred_scaled"
   ]
  },
  {
   "cell_type": "code",
   "execution_count": 44,
   "metadata": {
    "colab": {
     "base_uri": "https://localhost:8080/"
    },
    "executionInfo": {
     "elapsed": 330,
     "status": "ok",
     "timestamp": 1674224623932,
     "user": {
      "displayName": "Muhammaf zarif iqram Mat Rozali",
      "userId": "03892399400558550753"
     },
     "user_tz": -480
    },
    "id": "Y9eGVOTKiysb",
    "outputId": "9e4faefd-23b2-45fd-da97-28cdeced883c"
   },
   "outputs": [
    {
     "data": {
      "text/plain": [
       "array([[19143],\n",
       "       [15783],\n",
       "       [ 4005],\n",
       "       ...,\n",
       "       [ 9848],\n",
       "       [ 7101],\n",
       "       [ 7045]])"
      ]
     },
     "execution_count": 44,
     "metadata": {},
     "output_type": "execute_result"
    }
   ],
   "source": [
    "actual = y_test.to_numpy()\n",
    "actual"
   ]
  },
  {
   "cell_type": "code",
   "execution_count": 46,
   "metadata": {
    "colab": {
     "base_uri": "https://localhost:8080/",
     "height": 974
    },
    "executionInfo": {
     "elapsed": 1491,
     "status": "ok",
     "timestamp": 1674224939541,
     "user": {
      "displayName": "Muhammaf zarif iqram Mat Rozali",
      "userId": "03892399400558550753"
     },
     "user_tz": -480
    },
    "id": "b1kw57mIkHaT",
    "outputId": "66cb5ae8-b46b-40a0-efbe-d500f2b805b3"
   },
   "outputs": [
    {
     "data": {
      "image/png": "[encoded data removed]",
      "text/plain": [
       "<Figure size 576x576 with 1 Axes>"
      ]
     },
     "metadata": {},
     "output_type": "display_data"
    },
    {
     "data": {
      "image/png": "[encoded data removed]",
      "text/plain": [
       "<Figure size 720x576 with 1 Axes>"
      ]
     },
     "metadata": {},
     "output_type": "display_data"
    }
   ],
   "source": [
    "final_pred=pd.DataFrame({'Actual':actual.flatten(),'Predicted':xgb_y_pred_scaled})\n",
    "sns.scatterplot(data=final_pred.head(100), x='Actual',y='Predicted')\n",
    "plt.plot(xgb_y_pred_scaled,xgb_y_pred_scaled,'r')\n",
    "plt.show()\n",
    "final_pred.head(20).plot(kind='bar',figsize=(10,8))\n",
    "plt.show()"
   ]
  }
 ],
 "metadata": {
  "colab": {
   "provenance": [
    {
     "file_id": "1St502qMQic-cjyvw1dH8ye2ZjgWxaeBE",
     "timestamp": 1672228761235
    },
    {
     "file_id": "18lSCKRwQTTOJo5vQskXMJH8LPOKCmwnn",
     "timestamp": 1672220590604
    }
   ]
  },
  "kernelspec": {
   "display_name": "Python 3 (ipykernel)",
   "language": "python",
   "name": "python3"
  },
  "language_info": {
   "codemirror_mode": {
    "name": "ipython",
    "version": 3
   },
   "file_extension": ".py",
   "mimetype": "text/x-python",
   "name": "python",
   "nbconvert_exporter": "python",
   "pygments_lexer": "ipython3",
   "version": "3.9.7"
  }
 },
 "nbformat": 4,
 "nbformat_minor": 1
}
